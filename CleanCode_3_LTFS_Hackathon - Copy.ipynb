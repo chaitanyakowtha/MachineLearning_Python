{
 "cells": [
  {
   "cell_type": "code",
   "execution_count": 1,
   "metadata": {},
   "outputs": [
    {
     "name": "stderr",
     "output_type": "stream",
     "text": [
      "C:\\ProgramData\\Anaconda3\\lib\\site-packages\\sklearn\\ensemble\\weight_boosting.py:29: DeprecationWarning: numpy.core.umath_tests is an internal NumPy module and should not be imported. It will be removed in a future NumPy release.\n",
      "  from numpy.core.umath_tests import inner1d\n"
     ]
    }
   ],
   "source": [
    "import pandas as pd\n",
    "import datetime\n",
    "import numpy\n",
    "import re\n",
    "from sklearn.naive_bayes import GaussianNB\n",
    "from sklearn import model_selection, preprocessing, linear_model, naive_bayes, metrics, svm\n",
    "from sklearn import decomposition, ensemble\n",
    "from sklearn.ensemble import RandomForestClassifier"
   ]
  },
  {
   "cell_type": "code",
   "execution_count": 2,
   "metadata": {},
   "outputs": [],
   "source": [
    "# Function for calculating age of a person given his date of birth\n",
    "from datetime import date\n",
    "def calculate_age(born):\n",
    "    today = date.today()\n",
    "    return today.year - born.year - ((today.month, today.day) < (born.month, born.day))"
   ]
  },
  {
   "cell_type": "code",
   "execution_count": 3,
   "metadata": {},
   "outputs": [],
   "source": [
    "#Function for calculating number of days between two dates \n",
    "def datediff(any_date):\n",
    "    today = date.today()\n",
    "    datediff = today-any_date \n",
    "    return datediff.days"
   ]
  },
  {
   "cell_type": "code",
   "execution_count": 4,
   "metadata": {},
   "outputs": [],
   "source": [
    "# Calculating the Tenure in months given the data is in X Years and Y months format\n",
    "def age_length(TenureAsYearsAndMonths):\n",
    "    years = int(re.findall(r'(\\d+)yrs',TenureAsYearsAndMonths )[0])\n",
    "    months = int(re.findall(r'(\\d+)mon',TenureAsYearsAndMonths )[0])\n",
    "    total_tenure = (years*12)+months\n",
    "    return total_tenure"
   ]
  },
  {
   "cell_type": "code",
   "execution_count": 5,
   "metadata": {},
   "outputs": [],
   "source": [
    "\n",
    "# Function for doing all the data manipulations\n",
    "def AllDataManipulations(MainDataFrame,Manip_Data = pd.DataFrame,temp1 = pd.DataFrame, temp2 = pd.DataFrame,Manip_Completed = pd.DataFrame):\n",
    "    Manip_Data = MainDataFrame.copy()\n",
    "    Manip_Data['Employment.Type'].fillna(Manip_Data['Employment.Type'].mode()[0],inplace = True)\n",
    "    Manip_Data[['loan_default','branch_id','supplier_id','manufacturer_id','Current_pincode_ID','State_ID','Employee_code_ID']] = Manip_Data[\n",
    "        ['loan_default','branch_id','supplier_id','manufacturer_id','Current_pincode_ID','State_ID','Employee_code_ID']].apply(lambda x: x.astype('category'))\n",
    "    Manip_Data['Date.of.Birth'] = pd.to_datetime(Manip_Data['Date.of.Birth'])\n",
    "    Manip_Data['Age'] = Manip_Data['Date.of.Birth'].apply(lambda x: calculate_age(x))\n",
    "    Manip_Data['DisbursalDate'] = pd.to_datetime(Manip_Data['DisbursalDate'])\n",
    "    Manip_Data['HowManyDaysSinceDisburse'] = Manip_Data['DisbursalDate'].dt.date.apply(lambda x: datediff(x))\n",
    "    Manip_Data['AvgAcctAgeInMonths'] = Manip_Data['AVERAGE.ACCT.AGE'].apply(lambda x: age_length(x))\n",
    "    Manip_Data['CredHistLenInMonts'] = Manip_Data['CREDIT.HISTORY.LENGTH'].apply(lambda x: age_length(x))\n",
    "    temp1 = pd.get_dummies(Manip_Data['Employment.Type'],prefix='EmploymentType')\n",
    "    temp2 = pd.get_dummies(Manip_Data['PERFORM_CNS.SCORE.DESCRIPTION'],prefix='Bureau_score_description')\n",
    "    Manip_Completed = pd.concat([Manip_Data[['disbursed_amount', 'asset_cost', 'ltv', 'branch_id',\n",
    "       'supplier_id', 'manufacturer_id', 'Current_pincode_ID','Age',\n",
    "       'HowManyDaysSinceDisburse','State_ID', 'Employee_code_ID',\n",
    "       'MobileNo_Avl_Flag', 'Aadhar_flag', 'PAN_flag', 'VoterID_flag',\n",
    "       'Driving_flag', 'Passport_flag', 'PERFORM_CNS.SCORE',\n",
    "       'PRI.NO.OF.ACCTS', 'PRI.ACTIVE.ACCTS','PRI.OVERDUE.ACCTS', 'PRI.CURRENT.BALANCE', 'PRI.SANCTIONED.AMOUNT',\n",
    "       'PRI.DISBURSED.AMOUNT', 'SEC.NO.OF.ACCTS', 'SEC.ACTIVE.ACCTS',\n",
    "       'SEC.OVERDUE.ACCTS', 'SEC.CURRENT.BALANCE', 'SEC.SANCTIONED.AMOUNT',\n",
    "       'SEC.DISBURSED.AMOUNT', 'PRIMARY.INSTAL.AMT', 'SEC.INSTAL.AMT',\n",
    "       'NEW.ACCTS.IN.LAST.SIX.MONTHS', 'DELINQUENT.ACCTS.IN.LAST.SIX.MONTHS',\n",
    "       'AvgAcctAgeInMonths','CredHistLenInMonts','NO.OF_INQUIRIES',\n",
    "       'loan_default']],temp1,temp2],axis=1)\n",
    "    return Manip_Data,Manip_Completed"
   ]
  },
  {
   "cell_type": "code",
   "execution_count": 6,
   "metadata": {},
   "outputs": [],
   "source": [
    "MasterData = pd.read_csv(\"train.csv\")\n",
    "Data1 = MasterData.copy()"
   ]
  },
  {
   "cell_type": "code",
   "execution_count": 7,
   "metadata": {},
   "outputs": [],
   "source": [
    "Train_ManipData_1,Train_ManipCompleted_1 = AllDataManipulations(Data1)"
   ]
  },
  {
   "cell_type": "code",
   "execution_count": 8,
   "metadata": {},
   "outputs": [
    {
     "data": {
      "text/plain": [
       "Index(['disbursed_amount', 'asset_cost', 'ltv', 'branch_id', 'supplier_id',\n",
       "       'manufacturer_id', 'Current_pincode_ID', 'Age',\n",
       "       'HowManyDaysSinceDisburse', 'State_ID', 'Employee_code_ID',\n",
       "       'MobileNo_Avl_Flag', 'Aadhar_flag', 'PAN_flag', 'VoterID_flag',\n",
       "       'Driving_flag', 'Passport_flag', 'PERFORM_CNS.SCORE', 'PRI.NO.OF.ACCTS',\n",
       "       'PRI.ACTIVE.ACCTS', 'PRI.OVERDUE.ACCTS', 'PRI.CURRENT.BALANCE',\n",
       "       'PRI.SANCTIONED.AMOUNT', 'PRI.DISBURSED.AMOUNT', 'SEC.NO.OF.ACCTS',\n",
       "       'SEC.ACTIVE.ACCTS', 'SEC.OVERDUE.ACCTS', 'SEC.CURRENT.BALANCE',\n",
       "       'SEC.SANCTIONED.AMOUNT', 'SEC.DISBURSED.AMOUNT', 'PRIMARY.INSTAL.AMT',\n",
       "       'SEC.INSTAL.AMT', 'NEW.ACCTS.IN.LAST.SIX.MONTHS',\n",
       "       'DELINQUENT.ACCTS.IN.LAST.SIX.MONTHS', 'AvgAcctAgeInMonths',\n",
       "       'CredHistLenInMonts', 'NO.OF_INQUIRIES', 'loan_default',\n",
       "       'EmploymentType_Salaried', 'EmploymentType_Self employed',\n",
       "       'Bureau_score_description_A-Very Low Risk',\n",
       "       'Bureau_score_description_B-Very Low Risk',\n",
       "       'Bureau_score_description_C-Very Low Risk',\n",
       "       'Bureau_score_description_D-Very Low Risk',\n",
       "       'Bureau_score_description_E-Low Risk',\n",
       "       'Bureau_score_description_F-Low Risk',\n",
       "       'Bureau_score_description_G-Low Risk',\n",
       "       'Bureau_score_description_H-Medium Risk',\n",
       "       'Bureau_score_description_I-Medium Risk',\n",
       "       'Bureau_score_description_J-High Risk',\n",
       "       'Bureau_score_description_K-High Risk',\n",
       "       'Bureau_score_description_L-Very High Risk',\n",
       "       'Bureau_score_description_M-Very High Risk',\n",
       "       'Bureau_score_description_No Bureau History Available',\n",
       "       'Bureau_score_description_Not Scored: More than 50 active Accounts found',\n",
       "       'Bureau_score_description_Not Scored: No Activity seen on the customer (Inactive)',\n",
       "       'Bureau_score_description_Not Scored: No Updates available in last 36 months',\n",
       "       'Bureau_score_description_Not Scored: Not Enough Info available on the customer',\n",
       "       'Bureau_score_description_Not Scored: Only a Guarantor',\n",
       "       'Bureau_score_description_Not Scored: Sufficient History Not Available'],\n",
       "      dtype='object')"
      ]
     },
     "execution_count": 8,
     "metadata": {},
     "output_type": "execute_result"
    }
   ],
   "source": [
    "Train_ManipCompleted_1.columns"
   ]
  },
  {
   "cell_type": "code",
   "execution_count": 9,
   "metadata": {},
   "outputs": [],
   "source": [
    "IndeVectors = Train_ManipCompleted_1[['disbursed_amount', 'asset_cost', 'ltv', 'branch_id', 'supplier_id',\n",
    "       'manufacturer_id', 'Current_pincode_ID', 'Age',\n",
    "       'HowManyDaysSinceDisburse', 'State_ID', 'Employee_code_ID',\n",
    "       'MobileNo_Avl_Flag', 'Aadhar_flag', 'PAN_flag', 'VoterID_flag',\n",
    "       'Driving_flag', 'Passport_flag', 'PERFORM_CNS.SCORE', 'PRI.NO.OF.ACCTS',\n",
    "       'PRI.ACTIVE.ACCTS', 'PRI.OVERDUE.ACCTS', 'PRI.CURRENT.BALANCE',\n",
    "       'PRI.SANCTIONED.AMOUNT', 'PRI.DISBURSED.AMOUNT', 'SEC.NO.OF.ACCTS',\n",
    "       'SEC.ACTIVE.ACCTS', 'SEC.OVERDUE.ACCTS', 'SEC.CURRENT.BALANCE',\n",
    "       'SEC.SANCTIONED.AMOUNT', 'SEC.DISBURSED.AMOUNT', 'PRIMARY.INSTAL.AMT',\n",
    "       'SEC.INSTAL.AMT', 'NEW.ACCTS.IN.LAST.SIX.MONTHS',\n",
    "       'DELINQUENT.ACCTS.IN.LAST.SIX.MONTHS', 'AvgAcctAgeInMonths',\n",
    "       'CredHistLenInMonts', 'NO.OF_INQUIRIES', \n",
    "       'EmploymentType_Salaried', 'EmploymentType_Self employed',\n",
    "       'Bureau_score_description_A-Very Low Risk',\n",
    "       'Bureau_score_description_B-Very Low Risk',\n",
    "       'Bureau_score_description_C-Very Low Risk',\n",
    "       'Bureau_score_description_D-Very Low Risk',\n",
    "       'Bureau_score_description_E-Low Risk',\n",
    "       'Bureau_score_description_F-Low Risk',\n",
    "       'Bureau_score_description_G-Low Risk',\n",
    "       'Bureau_score_description_H-Medium Risk',\n",
    "       'Bureau_score_description_I-Medium Risk',\n",
    "       'Bureau_score_description_J-High Risk',\n",
    "       'Bureau_score_description_K-High Risk',\n",
    "       'Bureau_score_description_L-Very High Risk',\n",
    "       'Bureau_score_description_M-Very High Risk',\n",
    "       'Bureau_score_description_No Bureau History Available',\n",
    "       'Bureau_score_description_Not Scored: More than 50 active Accounts found',\n",
    "       'Bureau_score_description_Not Scored: No Activity seen on the customer (Inactive)',\n",
    "       'Bureau_score_description_Not Scored: No Updates available in last 36 months',\n",
    "       'Bureau_score_description_Not Scored: Not Enough Info available on the customer',\n",
    "       'Bureau_score_description_Not Scored: Only a Guarantor',\n",
    "       'Bureau_score_description_Not Scored: Sufficient History Not Available']]\n",
    "Labels = Train_ManipCompleted_1['loan_default']"
   ]
  },
  {
   "cell_type": "code",
   "execution_count": 10,
   "metadata": {},
   "outputs": [],
   "source": [
    "train_x, valid_x, train_y, valid_y = model_selection.train_test_split(IndeVectors,Labels,random_state = 1234,test_size = 0.10)"
   ]
  },
  {
   "cell_type": "markdown",
   "metadata": {},
   "source": [
    "# Random forest\n",
    "rf_model_1 = RandomForestClassifier(n_estimators=300,bootstrap = True,max_features = 'sqrt')\n",
    "rf_model_1.fit(train_x,list(train_y))\n",
    "ypred_rf1 = rf_model_1.predict(valid_x)\n",
    "auc_rf1 = metrics.roc_auc_score(valid_y,ypred_rf1)\n",
    "print(\"AUC of Random forest Model_1: \",auc_rf1)\n",
    "# Naive Bayes\n",
    "gnb = GaussianNB()\n",
    "gnb.fit(train_x,train_y)\n",
    "ypred_gnb = gnb.predict(valid_x)\n",
    "auc_gnb = metrics.roc_auc_score(valid_y,ypred_gnb)\n",
    "print(\"AUC of Naive Bayes Model_1: \",auc_gnb)"
   ]
  },
  {
   "cell_type": "code",
   "execution_count": 11,
   "metadata": {},
   "outputs": [],
   "source": [
    "# Modifying data manipulations function to work for test data as it doesn't have labels column\n",
    "# Function for doing all the data manipulations\n",
    "def AllDataManipulations_forTest(MainDataFrame,Manip_Data = pd.DataFrame,temp1 = pd.DataFrame, temp2 = pd.DataFrame,Manip_Completed = pd.DataFrame):\n",
    "    Manip_Data = MainDataFrame.copy()\n",
    "    Manip_Data['Employment.Type'].fillna(Manip_Data['Employment.Type'].mode()[0],inplace = True)\n",
    "    Manip_Data[['branch_id','supplier_id','manufacturer_id','Current_pincode_ID','State_ID','Employee_code_ID']] = Manip_Data[\n",
    "        ['branch_id','supplier_id','manufacturer_id','Current_pincode_ID','State_ID','Employee_code_ID']].apply(lambda x: x.astype('category'))\n",
    "    Manip_Data['Date.of.Birth'] = pd.to_datetime(Manip_Data['Date.of.Birth'])\n",
    "    Manip_Data['Age'] = Manip_Data['Date.of.Birth'].apply(lambda x: calculate_age(x))\n",
    "    Manip_Data['DisbursalDate'] = pd.to_datetime(Manip_Data['DisbursalDate'])\n",
    "    Manip_Data['HowManyDaysSinceDisburse'] = Manip_Data['DisbursalDate'].dt.date.apply(lambda x: datediff(x))\n",
    "    Manip_Data['AvgAcctAgeInMonths'] = Manip_Data['AVERAGE.ACCT.AGE'].apply(lambda x: age_length(x))\n",
    "    Manip_Data['CredHistLenInMonts'] = Manip_Data['CREDIT.HISTORY.LENGTH'].apply(lambda x: age_length(x))\n",
    "    temp1 = pd.get_dummies(Manip_Data['Employment.Type'],prefix='EmploymentType')\n",
    "    temp2 = pd.get_dummies(Manip_Data['PERFORM_CNS.SCORE.DESCRIPTION'],prefix='Bureau_score_description')\n",
    "    Manip_Completed = pd.concat([Manip_Data[['disbursed_amount', 'asset_cost', 'ltv', 'branch_id',\n",
    "       'supplier_id', 'manufacturer_id', 'Current_pincode_ID','Age',\n",
    "       'HowManyDaysSinceDisburse','State_ID', 'Employee_code_ID',\n",
    "       'MobileNo_Avl_Flag', 'Aadhar_flag', 'PAN_flag', 'VoterID_flag',\n",
    "       'Driving_flag', 'Passport_flag', 'PERFORM_CNS.SCORE',\n",
    "       'PRI.NO.OF.ACCTS', 'PRI.ACTIVE.ACCTS','PRI.OVERDUE.ACCTS', 'PRI.CURRENT.BALANCE', 'PRI.SANCTIONED.AMOUNT',\n",
    "       'PRI.DISBURSED.AMOUNT', 'SEC.NO.OF.ACCTS', 'SEC.ACTIVE.ACCTS',\n",
    "       'SEC.OVERDUE.ACCTS', 'SEC.CURRENT.BALANCE', 'SEC.SANCTIONED.AMOUNT',\n",
    "       'SEC.DISBURSED.AMOUNT', 'PRIMARY.INSTAL.AMT', 'SEC.INSTAL.AMT',\n",
    "       'NEW.ACCTS.IN.LAST.SIX.MONTHS', 'DELINQUENT.ACCTS.IN.LAST.SIX.MONTHS',\n",
    "       'AvgAcctAgeInMonths','CredHistLenInMonts','NO.OF_INQUIRIES']],temp1,temp2],axis=1)\n",
    "    return Manip_Data,Manip_Completed\n"
   ]
  },
  {
   "cell_type": "code",
   "execution_count": 12,
   "metadata": {},
   "outputs": [],
   "source": [
    "Master_test = pd.read_csv(\"test_bqCt9Pv.csv\")\n",
    "Test_Data = Master_test.copy()\n",
    "Test_ManipData,Test_ManipCompleted = AllDataManipulations_forTest(Test_Data)"
   ]
  },
  {
   "cell_type": "code",
   "execution_count": 13,
   "metadata": {},
   "outputs": [
    {
     "data": {
      "text/html": [
       "<div>\n",
       "<style scoped>\n",
       "    .dataframe tbody tr th:only-of-type {\n",
       "        vertical-align: middle;\n",
       "    }\n",
       "\n",
       "    .dataframe tbody tr th {\n",
       "        vertical-align: top;\n",
       "    }\n",
       "\n",
       "    .dataframe thead th {\n",
       "        text-align: right;\n",
       "    }\n",
       "</style>\n",
       "<table border=\"1\" class=\"dataframe\">\n",
       "  <thead>\n",
       "    <tr style=\"text-align: right;\">\n",
       "      <th></th>\n",
       "      <th>UniqueID</th>\n",
       "      <th>disbursed_amount</th>\n",
       "      <th>asset_cost</th>\n",
       "      <th>ltv</th>\n",
       "      <th>branch_id</th>\n",
       "      <th>supplier_id</th>\n",
       "      <th>manufacturer_id</th>\n",
       "      <th>Current_pincode_ID</th>\n",
       "      <th>Date.of.Birth</th>\n",
       "      <th>Employment.Type</th>\n",
       "      <th>...</th>\n",
       "      <th>SEC.CURRENT.BALANCE</th>\n",
       "      <th>SEC.SANCTIONED.AMOUNT</th>\n",
       "      <th>SEC.DISBURSED.AMOUNT</th>\n",
       "      <th>PRIMARY.INSTAL.AMT</th>\n",
       "      <th>SEC.INSTAL.AMT</th>\n",
       "      <th>NEW.ACCTS.IN.LAST.SIX.MONTHS</th>\n",
       "      <th>DELINQUENT.ACCTS.IN.LAST.SIX.MONTHS</th>\n",
       "      <th>AVERAGE.ACCT.AGE</th>\n",
       "      <th>CREDIT.HISTORY.LENGTH</th>\n",
       "      <th>NO.OF_INQUIRIES</th>\n",
       "    </tr>\n",
       "  </thead>\n",
       "  <tbody>\n",
       "    <tr>\n",
       "      <th>0</th>\n",
       "      <td>655269</td>\n",
       "      <td>53478</td>\n",
       "      <td>63558</td>\n",
       "      <td>86.54</td>\n",
       "      <td>67</td>\n",
       "      <td>22807</td>\n",
       "      <td>45</td>\n",
       "      <td>1497</td>\n",
       "      <td>01-01-74</td>\n",
       "      <td>Salaried</td>\n",
       "      <td>...</td>\n",
       "      <td>0</td>\n",
       "      <td>0</td>\n",
       "      <td>0</td>\n",
       "      <td>0</td>\n",
       "      <td>0</td>\n",
       "      <td>0</td>\n",
       "      <td>0</td>\n",
       "      <td>0yrs 0mon</td>\n",
       "      <td>0yrs 0mon</td>\n",
       "      <td>0</td>\n",
       "    </tr>\n",
       "    <tr>\n",
       "      <th>1</th>\n",
       "      <td>723482</td>\n",
       "      <td>55513</td>\n",
       "      <td>63163</td>\n",
       "      <td>89.45</td>\n",
       "      <td>67</td>\n",
       "      <td>22807</td>\n",
       "      <td>45</td>\n",
       "      <td>1497</td>\n",
       "      <td>20-05-85</td>\n",
       "      <td>Self employed</td>\n",
       "      <td>...</td>\n",
       "      <td>0</td>\n",
       "      <td>0</td>\n",
       "      <td>0</td>\n",
       "      <td>5605</td>\n",
       "      <td>0</td>\n",
       "      <td>1</td>\n",
       "      <td>0</td>\n",
       "      <td>0yrs 8mon</td>\n",
       "      <td>1yrs 0mon</td>\n",
       "      <td>1</td>\n",
       "    </tr>\n",
       "    <tr>\n",
       "      <th>2</th>\n",
       "      <td>758529</td>\n",
       "      <td>65282</td>\n",
       "      <td>84320</td>\n",
       "      <td>79.93</td>\n",
       "      <td>78</td>\n",
       "      <td>23135</td>\n",
       "      <td>86</td>\n",
       "      <td>2071</td>\n",
       "      <td>14-10-95</td>\n",
       "      <td>Salaried</td>\n",
       "      <td>...</td>\n",
       "      <td>0</td>\n",
       "      <td>0</td>\n",
       "      <td>0</td>\n",
       "      <td>0</td>\n",
       "      <td>0</td>\n",
       "      <td>0</td>\n",
       "      <td>0</td>\n",
       "      <td>0yrs 0mon</td>\n",
       "      <td>0yrs 0mon</td>\n",
       "      <td>0</td>\n",
       "    </tr>\n",
       "    <tr>\n",
       "      <th>3</th>\n",
       "      <td>763449</td>\n",
       "      <td>46905</td>\n",
       "      <td>63896</td>\n",
       "      <td>76.58</td>\n",
       "      <td>78</td>\n",
       "      <td>17014</td>\n",
       "      <td>45</td>\n",
       "      <td>2070</td>\n",
       "      <td>01-06-73</td>\n",
       "      <td>Self employed</td>\n",
       "      <td>...</td>\n",
       "      <td>0</td>\n",
       "      <td>0</td>\n",
       "      <td>0</td>\n",
       "      <td>0</td>\n",
       "      <td>0</td>\n",
       "      <td>0</td>\n",
       "      <td>0</td>\n",
       "      <td>2yrs 5mon</td>\n",
       "      <td>2yrs 5mon</td>\n",
       "      <td>0</td>\n",
       "    </tr>\n",
       "    <tr>\n",
       "      <th>4</th>\n",
       "      <td>708663</td>\n",
       "      <td>51428</td>\n",
       "      <td>63896</td>\n",
       "      <td>86.08</td>\n",
       "      <td>78</td>\n",
       "      <td>17014</td>\n",
       "      <td>45</td>\n",
       "      <td>2069</td>\n",
       "      <td>01-06-72</td>\n",
       "      <td>Salaried</td>\n",
       "      <td>...</td>\n",
       "      <td>0</td>\n",
       "      <td>0</td>\n",
       "      <td>0</td>\n",
       "      <td>0</td>\n",
       "      <td>0</td>\n",
       "      <td>0</td>\n",
       "      <td>0</td>\n",
       "      <td>0yrs 0mon</td>\n",
       "      <td>0yrs 0mon</td>\n",
       "      <td>0</td>\n",
       "    </tr>\n",
       "  </tbody>\n",
       "</table>\n",
       "<p>5 rows × 40 columns</p>\n",
       "</div>"
      ],
      "text/plain": [
       "   UniqueID  disbursed_amount  asset_cost    ltv  branch_id  supplier_id  \\\n",
       "0    655269             53478       63558  86.54         67        22807   \n",
       "1    723482             55513       63163  89.45         67        22807   \n",
       "2    758529             65282       84320  79.93         78        23135   \n",
       "3    763449             46905       63896  76.58         78        17014   \n",
       "4    708663             51428       63896  86.08         78        17014   \n",
       "\n",
       "   manufacturer_id  Current_pincode_ID Date.of.Birth Employment.Type  \\\n",
       "0               45                1497      01-01-74        Salaried   \n",
       "1               45                1497      20-05-85   Self employed   \n",
       "2               86                2071      14-10-95        Salaried   \n",
       "3               45                2070      01-06-73   Self employed   \n",
       "4               45                2069      01-06-72        Salaried   \n",
       "\n",
       "        ...        SEC.CURRENT.BALANCE  SEC.SANCTIONED.AMOUNT  \\\n",
       "0       ...                          0                      0   \n",
       "1       ...                          0                      0   \n",
       "2       ...                          0                      0   \n",
       "3       ...                          0                      0   \n",
       "4       ...                          0                      0   \n",
       "\n",
       "   SEC.DISBURSED.AMOUNT  PRIMARY.INSTAL.AMT  SEC.INSTAL.AMT  \\\n",
       "0                     0                   0               0   \n",
       "1                     0                5605               0   \n",
       "2                     0                   0               0   \n",
       "3                     0                   0               0   \n",
       "4                     0                   0               0   \n",
       "\n",
       "   NEW.ACCTS.IN.LAST.SIX.MONTHS  DELINQUENT.ACCTS.IN.LAST.SIX.MONTHS  \\\n",
       "0                             0                                    0   \n",
       "1                             1                                    0   \n",
       "2                             0                                    0   \n",
       "3                             0                                    0   \n",
       "4                             0                                    0   \n",
       "\n",
       "   AVERAGE.ACCT.AGE  CREDIT.HISTORY.LENGTH  NO.OF_INQUIRIES  \n",
       "0         0yrs 0mon              0yrs 0mon                0  \n",
       "1         0yrs 8mon              1yrs 0mon                1  \n",
       "2         0yrs 0mon              0yrs 0mon                0  \n",
       "3         2yrs 5mon              2yrs 5mon                0  \n",
       "4         0yrs 0mon              0yrs 0mon                0  \n",
       "\n",
       "[5 rows x 40 columns]"
      ]
     },
     "execution_count": 13,
     "metadata": {},
     "output_type": "execute_result"
    }
   ],
   "source": [
    "Test_Data.head()"
   ]
  },
  {
   "cell_type": "code",
   "execution_count": 14,
   "metadata": {},
   "outputs": [
    {
     "data": {
      "text/plain": [
       "Index(['disbursed_amount', 'asset_cost', 'ltv', 'branch_id', 'supplier_id',\n",
       "       'manufacturer_id', 'Current_pincode_ID', 'Age',\n",
       "       'HowManyDaysSinceDisburse', 'State_ID', 'Employee_code_ID',\n",
       "       'MobileNo_Avl_Flag', 'Aadhar_flag', 'PAN_flag', 'VoterID_flag',\n",
       "       'Driving_flag', 'Passport_flag', 'PERFORM_CNS.SCORE', 'PRI.NO.OF.ACCTS',\n",
       "       'PRI.ACTIVE.ACCTS', 'PRI.OVERDUE.ACCTS', 'PRI.CURRENT.BALANCE',\n",
       "       'PRI.SANCTIONED.AMOUNT', 'PRI.DISBURSED.AMOUNT', 'SEC.NO.OF.ACCTS',\n",
       "       'SEC.ACTIVE.ACCTS', 'SEC.OVERDUE.ACCTS', 'SEC.CURRENT.BALANCE',\n",
       "       'SEC.SANCTIONED.AMOUNT', 'SEC.DISBURSED.AMOUNT', 'PRIMARY.INSTAL.AMT',\n",
       "       'SEC.INSTAL.AMT', 'NEW.ACCTS.IN.LAST.SIX.MONTHS',\n",
       "       'DELINQUENT.ACCTS.IN.LAST.SIX.MONTHS', 'AvgAcctAgeInMonths',\n",
       "       'CredHistLenInMonts', 'NO.OF_INQUIRIES', 'EmploymentType_Salaried',\n",
       "       'EmploymentType_Self employed',\n",
       "       'Bureau_score_description_A-Very Low Risk',\n",
       "       'Bureau_score_description_B-Very Low Risk',\n",
       "       'Bureau_score_description_C-Very Low Risk',\n",
       "       'Bureau_score_description_D-Very Low Risk',\n",
       "       'Bureau_score_description_E-Low Risk',\n",
       "       'Bureau_score_description_F-Low Risk',\n",
       "       'Bureau_score_description_G-Low Risk',\n",
       "       'Bureau_score_description_H-Medium Risk',\n",
       "       'Bureau_score_description_I-Medium Risk',\n",
       "       'Bureau_score_description_J-High Risk',\n",
       "       'Bureau_score_description_K-High Risk',\n",
       "       'Bureau_score_description_L-Very High Risk',\n",
       "       'Bureau_score_description_M-Very High Risk',\n",
       "       'Bureau_score_description_No Bureau History Available',\n",
       "       'Bureau_score_description_Not Scored: No Activity seen on the customer (Inactive)',\n",
       "       'Bureau_score_description_Not Scored: No Updates available in last 36 months',\n",
       "       'Bureau_score_description_Not Scored: Not Enough Info available on the customer',\n",
       "       'Bureau_score_description_Not Scored: Only a Guarantor',\n",
       "       'Bureau_score_description_Not Scored: Sufficient History Not Available'],\n",
       "      dtype='object')"
      ]
     },
     "execution_count": 14,
     "metadata": {},
     "output_type": "execute_result"
    }
   ],
   "source": [
    "Test_ManipCompleted.columns"
   ]
  },
  {
   "cell_type": "code",
   "execution_count": 15,
   "metadata": {},
   "outputs": [],
   "source": [
    "Test_ManipCompleted['Bureau_score_description_Not Scored: More than 50 active Accounts found'] = 0"
   ]
  },
  {
   "cell_type": "code",
   "execution_count": 16,
   "metadata": {},
   "outputs": [
    {
     "data": {
      "text/plain": [
       "array([0], dtype=int64)"
      ]
     },
     "execution_count": 16,
     "metadata": {},
     "output_type": "execute_result"
    }
   ],
   "source": [
    "Test_ManipCompleted['Bureau_score_description_Not Scored: More than 50 active Accounts found'].unique()"
   ]
  },
  {
   "cell_type": "markdown",
   "metadata": {},
   "source": [
    "ActualTestPred_rf1 = rf_model_1.predict(Test_ManipCompleted)\n",
    "ActualTestPred_nb = gnb.predict(Test_ManipCompleted)\n",
    "RF1_Submissions = pd.concat([Test_Data['UniqueID'],pd.DataFrame(ActualTestPred_rf1,columns=['loan_default'])],axis=1)\n",
    "nb_Submissions = pd.concat([Test_Data['UniqueID'],pd.DataFrame(ActualTestPred_nb,columns=['loan_default'])],axis=1)"
   ]
  },
  {
   "cell_type": "markdown",
   "metadata": {},
   "source": [
    "svm_1 = svm.SVC(kernel='linear', C=1)\n",
    "svm_1.fit(train_x,list(train_y))"
   ]
  },
  {
   "cell_type": "markdown",
   "metadata": {},
   "source": [
    "ypred_svm1 = svm_1.predict(valid_x)\n",
    "auc_svm1 = metrics.roc_auc_score(valid_y,ypred_svm1)"
   ]
  },
  {
   "cell_type": "code",
   "execution_count": 17,
   "metadata": {},
   "outputs": [],
   "source": [
    "########################################################################\n",
    "# Trials from home\n",
    "###########################################################################"
   ]
  },
  {
   "cell_type": "code",
   "execution_count": 35,
   "metadata": {},
   "outputs": [],
   "source": [
    "Supplier_Master = Train_ManipCompleted_1.copy()"
   ]
  },
  {
   "cell_type": "code",
   "execution_count": 37,
   "metadata": {},
   "outputs": [],
   "source": [
    "def Supplier_DefaulterFinder(TotalDataFrame,tempDf_1=pd.DataFrame(),tempDf_2 =pd.DataFrame(),tempDf_3 = pd.DataFrame()):\n",
    "    tempDf_1 = pd.DataFrame(TotalDataFrame['supplier_id'].value_counts())\n",
    "    tempDf_1.reset_index(level=0, inplace=True)\n",
    "    tempDf_1.columns = ['supplier_id','TotalNoOfVehiclesSold']\n",
    "    tempDf_2 = pd.DataFrame(TotalDataFrame.groupby('supplier_id')['loan_default'].value_counts())\n",
    "    tempDf_2.reset_index(level=0, inplace=True)\n",
    "    tempDf_2.columns = ['supplier_id','NoOfDefaulted_Sales']\n",
    "    tempDf_2.reset_index(level=0, inplace=True)\n",
    "    tempDf_2 = tempDf_2[(tempDf_2['loan_default'] == 1)]\n",
    "    tempDf3 = pd.merge(tempDf_2, tempDf_1, how='right', on= ['supplier_id','supplier_id'],\n",
    "                       left_index=False, right_index=False)\n",
    "    #tempDf3 = tempDf3[['supplier_id','TotalNoOfVehiclesSold','NoOfDefaulted_Sales']]\n",
    "    tempDf3['Defaults%_DueToSupplier'] = ((tempDf3['NoOfDefaulted_Sales'])/(tempDf3['TotalNoOfVehiclesSold']))*100\n",
    "    return tempDf3"
   ]
  },
  {
   "cell_type": "code",
   "execution_count": 38,
   "metadata": {},
   "outputs": [
    {
     "ename": "ValueError",
     "evalue": "Buffer dtype mismatch, expected 'Python object' but got 'long long'",
     "output_type": "error",
     "traceback": [
      "\u001b[1;31m---------------------------------------------------------------------------\u001b[0m",
      "\u001b[1;31mValueError\u001b[0m                                Traceback (most recent call last)",
      "\u001b[1;31mValueError\u001b[0m: Buffer dtype mismatch, expected 'Python object' but got 'long long'"
     ]
    },
    {
     "name": "stderr",
     "output_type": "stream",
     "text": [
      "Exception ignored in: 'pandas._libs.lib.is_bool_array'\n",
      "ValueError: Buffer dtype mismatch, expected 'Python object' but got 'long long'\n"
     ]
    }
   ],
   "source": [
    "df4 = Supplier_DefaulterFinder(Supplier_Master)"
   ]
  },
  {
   "cell_type": "code",
   "execution_count": 42,
   "metadata": {},
   "outputs": [
    {
     "data": {
      "text/plain": [
       "loan_default               287\n",
       "supplier_id                  0\n",
       "NoOfDefaulted_Sales        287\n",
       "TotalNoOfVehiclesSold        0\n",
       "Defaults%_DueToSupplier    287\n",
       "dtype: int64"
      ]
     },
     "execution_count": 42,
     "metadata": {},
     "output_type": "execute_result"
    }
   ],
   "source": [
    "df4.isnull().sum()"
   ]
  },
  {
   "cell_type": "code",
   "execution_count": 43,
   "metadata": {},
   "outputs": [],
   "source": [
    "df4['Defaults%_DueToSupplier'].fillna(0,inplace = True)"
   ]
  },
  {
   "cell_type": "code",
   "execution_count": 44,
   "metadata": {},
   "outputs": [
    {
     "data": {
      "text/plain": [
       "loan_default               287\n",
       "supplier_id                  0\n",
       "NoOfDefaulted_Sales        287\n",
       "TotalNoOfVehiclesSold        0\n",
       "Defaults%_DueToSupplier      0\n",
       "dtype: int64"
      ]
     },
     "execution_count": 44,
     "metadata": {},
     "output_type": "execute_result"
    }
   ],
   "source": [
    "df4.isnull().sum()"
   ]
  },
  {
   "cell_type": "code",
   "execution_count": 45,
   "metadata": {},
   "outputs": [
    {
     "ename": "ValueError",
     "evalue": "Buffer dtype mismatch, expected 'Python object' but got 'long long'",
     "output_type": "error",
     "traceback": [
      "\u001b[1;31m---------------------------------------------------------------------------\u001b[0m",
      "\u001b[1;31mValueError\u001b[0m                                Traceback (most recent call last)",
      "\u001b[1;31mValueError\u001b[0m: Buffer dtype mismatch, expected 'Python object' but got 'long long'"
     ]
    },
    {
     "name": "stderr",
     "output_type": "stream",
     "text": [
      "Exception ignored in: 'pandas._libs.lib.is_bool_array'\n",
      "ValueError: Buffer dtype mismatch, expected 'Python object' but got 'long long'\n"
     ]
    },
    {
     "ename": "ValueError",
     "evalue": "Buffer dtype mismatch, expected 'Python object' but got 'long long'",
     "output_type": "error",
     "traceback": [
      "\u001b[1;31m---------------------------------------------------------------------------\u001b[0m",
      "\u001b[1;31mValueError\u001b[0m                                Traceback (most recent call last)",
      "\u001b[1;31mValueError\u001b[0m: Buffer dtype mismatch, expected 'Python object' but got 'long long'"
     ]
    },
    {
     "name": "stderr",
     "output_type": "stream",
     "text": [
      "Exception ignored in: 'pandas._libs.lib.is_bool_array'\n",
      "ValueError: Buffer dtype mismatch, expected 'Python object' but got 'long long'\n"
     ]
    },
    {
     "ename": "ValueError",
     "evalue": "Buffer dtype mismatch, expected 'Python object' but got 'long long'",
     "output_type": "error",
     "traceback": [
      "\u001b[1;31m---------------------------------------------------------------------------\u001b[0m",
      "\u001b[1;31mValueError\u001b[0m                                Traceback (most recent call last)",
      "\u001b[1;31mValueError\u001b[0m: Buffer dtype mismatch, expected 'Python object' but got 'long long'"
     ]
    },
    {
     "name": "stderr",
     "output_type": "stream",
     "text": [
      "Exception ignored in: 'pandas._libs.lib.is_bool_array'\n",
      "ValueError: Buffer dtype mismatch, expected 'Python object' but got 'long long'\n"
     ]
    },
    {
     "ename": "ValueError",
     "evalue": "Buffer dtype mismatch, expected 'Python object' but got 'long long'",
     "output_type": "error",
     "traceback": [
      "\u001b[1;31m---------------------------------------------------------------------------\u001b[0m",
      "\u001b[1;31mValueError\u001b[0m                                Traceback (most recent call last)",
      "\u001b[1;31mValueError\u001b[0m: Buffer dtype mismatch, expected 'Python object' but got 'long long'"
     ]
    },
    {
     "name": "stderr",
     "output_type": "stream",
     "text": [
      "Exception ignored in: 'pandas._libs.lib.is_bool_array'\n",
      "ValueError: Buffer dtype mismatch, expected 'Python object' but got 'long long'\n"
     ]
    },
    {
     "ename": "ValueError",
     "evalue": "Buffer dtype mismatch, expected 'Python object' but got 'long long'",
     "output_type": "error",
     "traceback": [
      "\u001b[1;31m---------------------------------------------------------------------------\u001b[0m",
      "\u001b[1;31mValueError\u001b[0m                                Traceback (most recent call last)",
      "\u001b[1;31mValueError\u001b[0m: Buffer dtype mismatch, expected 'Python object' but got 'long long'"
     ]
    },
    {
     "name": "stderr",
     "output_type": "stream",
     "text": [
      "Exception ignored in: 'pandas._libs.lib.is_bool_array'\n",
      "ValueError: Buffer dtype mismatch, expected 'Python object' but got 'long long'\n"
     ]
    },
    {
     "ename": "ValueError",
     "evalue": "Buffer dtype mismatch, expected 'Python object' but got 'long long'",
     "output_type": "error",
     "traceback": [
      "\u001b[1;31m---------------------------------------------------------------------------\u001b[0m",
      "\u001b[1;31mValueError\u001b[0m                                Traceback (most recent call last)",
      "\u001b[1;31mValueError\u001b[0m: Buffer dtype mismatch, expected 'Python object' but got 'long long'"
     ]
    },
    {
     "name": "stderr",
     "output_type": "stream",
     "text": [
      "Exception ignored in: 'pandas._libs.lib.is_bool_array'\n",
      "ValueError: Buffer dtype mismatch, expected 'Python object' but got 'long long'\n"
     ]
    },
    {
     "ename": "ValueError",
     "evalue": "Buffer dtype mismatch, expected 'Python object' but got 'long long'",
     "output_type": "error",
     "traceback": [
      "\u001b[1;31m---------------------------------------------------------------------------\u001b[0m",
      "\u001b[1;31mValueError\u001b[0m                                Traceback (most recent call last)",
      "\u001b[1;31mValueError\u001b[0m: Buffer dtype mismatch, expected 'Python object' but got 'long long'"
     ]
    },
    {
     "name": "stderr",
     "output_type": "stream",
     "text": [
      "Exception ignored in: 'pandas._libs.lib.is_bool_array'\n",
      "ValueError: Buffer dtype mismatch, expected 'Python object' but got 'long long'\n"
     ]
    }
   ],
   "source": [
    "Train_ManipCompleted_2 = pd.merge(Train_ManipCompleted_1,df4,how ='left', left_on='supplier_id',right_on='supplier_id')"
   ]
  },
  {
   "cell_type": "code",
   "execution_count": 46,
   "metadata": {},
   "outputs": [
    {
     "data": {
      "text/plain": [
       "disbursed_amount                                                                       0\n",
       "asset_cost                                                                             0\n",
       "ltv                                                                                    0\n",
       "branch_id                                                                              0\n",
       "supplier_id                                                                            0\n",
       "manufacturer_id                                                                        0\n",
       "Current_pincode_ID                                                                     0\n",
       "Age                                                                                    0\n",
       "HowManyDaysSinceDisburse                                                               0\n",
       "State_ID                                                                               0\n",
       "Employee_code_ID                                                                       0\n",
       "MobileNo_Avl_Flag                                                                      0\n",
       "Aadhar_flag                                                                            0\n",
       "PAN_flag                                                                               0\n",
       "VoterID_flag                                                                           0\n",
       "Driving_flag                                                                           0\n",
       "Passport_flag                                                                          0\n",
       "PERFORM_CNS.SCORE                                                                      0\n",
       "PRI.NO.OF.ACCTS                                                                        0\n",
       "PRI.ACTIVE.ACCTS                                                                       0\n",
       "PRI.OVERDUE.ACCTS                                                                      0\n",
       "PRI.CURRENT.BALANCE                                                                    0\n",
       "PRI.SANCTIONED.AMOUNT                                                                  0\n",
       "PRI.DISBURSED.AMOUNT                                                                   0\n",
       "SEC.NO.OF.ACCTS                                                                        0\n",
       "SEC.ACTIVE.ACCTS                                                                       0\n",
       "SEC.OVERDUE.ACCTS                                                                      0\n",
       "SEC.CURRENT.BALANCE                                                                    0\n",
       "SEC.SANCTIONED.AMOUNT                                                                  0\n",
       "SEC.DISBURSED.AMOUNT                                                                   0\n",
       "                                                                                    ... \n",
       "AvgAcctAgeInMonths                                                                     0\n",
       "CredHistLenInMonts                                                                     0\n",
       "NO.OF_INQUIRIES                                                                        0\n",
       "loan_default_x                                                                         0\n",
       "EmploymentType_Salaried                                                                0\n",
       "EmploymentType_Self employed                                                           0\n",
       "Bureau_score_description_A-Very Low Risk                                               0\n",
       "Bureau_score_description_B-Very Low Risk                                               0\n",
       "Bureau_score_description_C-Very Low Risk                                               0\n",
       "Bureau_score_description_D-Very Low Risk                                               0\n",
       "Bureau_score_description_E-Low Risk                                                    0\n",
       "Bureau_score_description_F-Low Risk                                                    0\n",
       "Bureau_score_description_G-Low Risk                                                    0\n",
       "Bureau_score_description_H-Medium Risk                                                 0\n",
       "Bureau_score_description_I-Medium Risk                                                 0\n",
       "Bureau_score_description_J-High Risk                                                   0\n",
       "Bureau_score_description_K-High Risk                                                   0\n",
       "Bureau_score_description_L-Very High Risk                                              0\n",
       "Bureau_score_description_M-Very High Risk                                              0\n",
       "Bureau_score_description_No Bureau History Available                                   0\n",
       "Bureau_score_description_Not Scored: More than 50 active Accounts found                0\n",
       "Bureau_score_description_Not Scored: No Activity seen on the customer (Inactive)       0\n",
       "Bureau_score_description_Not Scored: No Updates available in last 36 months            0\n",
       "Bureau_score_description_Not Scored: Not Enough Info available on the customer         0\n",
       "Bureau_score_description_Not Scored: Only a Guarantor                                  0\n",
       "Bureau_score_description_Not Scored: Sufficient History Not Available                  0\n",
       "loan_default_y                                                                      1116\n",
       "NoOfDefaulted_Sales                                                                 1116\n",
       "TotalNoOfVehiclesSold                                                                  0\n",
       "Defaults%_DueToSupplier                                                                0\n",
       "Length: 64, dtype: int64"
      ]
     },
     "execution_count": 46,
     "metadata": {},
     "output_type": "execute_result"
    }
   ],
   "source": [
    "Train_ManipCompleted_2.isnull().sum()"
   ]
  },
  {
   "cell_type": "code",
   "execution_count": 47,
   "metadata": {},
   "outputs": [
    {
     "data": {
      "text/plain": [
       "64"
      ]
     },
     "execution_count": 47,
     "metadata": {},
     "output_type": "execute_result"
    }
   ],
   "source": [
    "len(Train_ManipCompleted_2.columns)"
   ]
  },
  {
   "cell_type": "code",
   "execution_count": 48,
   "metadata": {},
   "outputs": [
    {
     "data": {
      "text/plain": [
       "Index(['disbursed_amount', 'asset_cost', 'ltv', 'branch_id', 'supplier_id',\n",
       "       'manufacturer_id', 'Current_pincode_ID', 'Age',\n",
       "       'HowManyDaysSinceDisburse', 'State_ID', 'Employee_code_ID',\n",
       "       'MobileNo_Avl_Flag', 'Aadhar_flag', 'PAN_flag', 'VoterID_flag',\n",
       "       'Driving_flag', 'Passport_flag', 'PERFORM_CNS.SCORE', 'PRI.NO.OF.ACCTS',\n",
       "       'PRI.ACTIVE.ACCTS', 'PRI.OVERDUE.ACCTS', 'PRI.CURRENT.BALANCE',\n",
       "       'PRI.SANCTIONED.AMOUNT', 'PRI.DISBURSED.AMOUNT', 'SEC.NO.OF.ACCTS',\n",
       "       'SEC.ACTIVE.ACCTS', 'SEC.OVERDUE.ACCTS', 'SEC.CURRENT.BALANCE',\n",
       "       'SEC.SANCTIONED.AMOUNT', 'SEC.DISBURSED.AMOUNT', 'PRIMARY.INSTAL.AMT',\n",
       "       'SEC.INSTAL.AMT', 'NEW.ACCTS.IN.LAST.SIX.MONTHS',\n",
       "       'DELINQUENT.ACCTS.IN.LAST.SIX.MONTHS', 'AvgAcctAgeInMonths',\n",
       "       'CredHistLenInMonts', 'NO.OF_INQUIRIES', 'loan_default_x',\n",
       "       'EmploymentType_Salaried', 'EmploymentType_Self employed',\n",
       "       'Bureau_score_description_A-Very Low Risk',\n",
       "       'Bureau_score_description_B-Very Low Risk',\n",
       "       'Bureau_score_description_C-Very Low Risk',\n",
       "       'Bureau_score_description_D-Very Low Risk',\n",
       "       'Bureau_score_description_E-Low Risk',\n",
       "       'Bureau_score_description_F-Low Risk',\n",
       "       'Bureau_score_description_G-Low Risk',\n",
       "       'Bureau_score_description_H-Medium Risk',\n",
       "       'Bureau_score_description_I-Medium Risk',\n",
       "       'Bureau_score_description_J-High Risk',\n",
       "       'Bureau_score_description_K-High Risk',\n",
       "       'Bureau_score_description_L-Very High Risk',\n",
       "       'Bureau_score_description_M-Very High Risk',\n",
       "       'Bureau_score_description_No Bureau History Available',\n",
       "       'Bureau_score_description_Not Scored: More than 50 active Accounts found',\n",
       "       'Bureau_score_description_Not Scored: No Activity seen on the customer (Inactive)',\n",
       "       'Bureau_score_description_Not Scored: No Updates available in last 36 months',\n",
       "       'Bureau_score_description_Not Scored: Not Enough Info available on the customer',\n",
       "       'Bureau_score_description_Not Scored: Only a Guarantor',\n",
       "       'Bureau_score_description_Not Scored: Sufficient History Not Available',\n",
       "       'loan_default_y', 'NoOfDefaulted_Sales', 'TotalNoOfVehiclesSold',\n",
       "       'Defaults%_DueToSupplier'],\n",
       "      dtype='object')"
      ]
     },
     "execution_count": 48,
     "metadata": {},
     "output_type": "execute_result"
    }
   ],
   "source": [
    "Train_ManipCompleted_2.columns"
   ]
  },
  {
   "cell_type": "code",
   "execution_count": 49,
   "metadata": {},
   "outputs": [],
   "source": [
    "Train_ManipCompleted_2 = Train_ManipCompleted_2[['disbursed_amount', 'asset_cost', 'ltv', 'branch_id', 'supplier_id',\n",
    "       'manufacturer_id', 'Current_pincode_ID', 'Age',\n",
    "       'HowManyDaysSinceDisburse', 'State_ID', 'Employee_code_ID',\n",
    "       'MobileNo_Avl_Flag', 'Aadhar_flag', 'PAN_flag', 'VoterID_flag',\n",
    "       'Driving_flag', 'Passport_flag', 'PERFORM_CNS.SCORE', 'PRI.NO.OF.ACCTS',\n",
    "       'PRI.ACTIVE.ACCTS', 'PRI.OVERDUE.ACCTS', 'PRI.CURRENT.BALANCE',\n",
    "       'PRI.SANCTIONED.AMOUNT', 'PRI.DISBURSED.AMOUNT', 'SEC.NO.OF.ACCTS',\n",
    "       'SEC.ACTIVE.ACCTS', 'SEC.OVERDUE.ACCTS', 'SEC.CURRENT.BALANCE',\n",
    "       'SEC.SANCTIONED.AMOUNT', 'SEC.DISBURSED.AMOUNT', 'PRIMARY.INSTAL.AMT',\n",
    "       'SEC.INSTAL.AMT', 'NEW.ACCTS.IN.LAST.SIX.MONTHS',\n",
    "       'DELINQUENT.ACCTS.IN.LAST.SIX.MONTHS', 'AvgAcctAgeInMonths',\n",
    "       'CredHistLenInMonts', 'NO.OF_INQUIRIES', 'loan_default_x',\n",
    "       'EmploymentType_Salaried', 'EmploymentType_Self employed',\n",
    "       'Bureau_score_description_A-Very Low Risk',\n",
    "       'Bureau_score_description_B-Very Low Risk',\n",
    "       'Bureau_score_description_C-Very Low Risk',\n",
    "       'Bureau_score_description_D-Very Low Risk',\n",
    "       'Bureau_score_description_E-Low Risk',\n",
    "       'Bureau_score_description_F-Low Risk',\n",
    "       'Bureau_score_description_G-Low Risk',\n",
    "       'Bureau_score_description_H-Medium Risk',\n",
    "       'Bureau_score_description_I-Medium Risk',\n",
    "       'Bureau_score_description_J-High Risk',\n",
    "       'Bureau_score_description_K-High Risk',\n",
    "       'Bureau_score_description_L-Very High Risk',\n",
    "       'Bureau_score_description_M-Very High Risk',\n",
    "       'Bureau_score_description_No Bureau History Available',\n",
    "       'Bureau_score_description_Not Scored: More than 50 active Accounts found',\n",
    "       'Bureau_score_description_Not Scored: No Activity seen on the customer (Inactive)',\n",
    "       'Bureau_score_description_Not Scored: No Updates available in last 36 months',\n",
    "       'Bureau_score_description_Not Scored: Not Enough Info available on the customer',\n",
    "       'Bureau_score_description_Not Scored: Only a Guarantor',\n",
    "       'Bureau_score_description_Not Scored: Sufficient History Not Available','Defaults%_DueToSupplier']]"
   ]
  },
  {
   "cell_type": "code",
   "execution_count": 51,
   "metadata": {},
   "outputs": [],
   "source": [
    "Indevectors_fe_2 = Train_ManipCompleted_2[['disbursed_amount', 'asset_cost', 'ltv', 'branch_id', 'supplier_id',\n",
    "       'manufacturer_id', 'Current_pincode_ID', 'Age',\n",
    "       'HowManyDaysSinceDisburse', 'State_ID', 'Employee_code_ID',\n",
    "       'MobileNo_Avl_Flag', 'Aadhar_flag', 'PAN_flag', 'VoterID_flag',\n",
    "       'Driving_flag', 'Passport_flag', 'PERFORM_CNS.SCORE', 'PRI.NO.OF.ACCTS',\n",
    "       'PRI.ACTIVE.ACCTS', 'PRI.OVERDUE.ACCTS', 'PRI.CURRENT.BALANCE',\n",
    "       'PRI.SANCTIONED.AMOUNT', 'PRI.DISBURSED.AMOUNT', 'SEC.NO.OF.ACCTS',\n",
    "       'SEC.ACTIVE.ACCTS', 'SEC.OVERDUE.ACCTS', 'SEC.CURRENT.BALANCE',\n",
    "       'SEC.SANCTIONED.AMOUNT', 'SEC.DISBURSED.AMOUNT', 'PRIMARY.INSTAL.AMT',\n",
    "       'SEC.INSTAL.AMT', 'NEW.ACCTS.IN.LAST.SIX.MONTHS',\n",
    "       'DELINQUENT.ACCTS.IN.LAST.SIX.MONTHS', 'AvgAcctAgeInMonths',\n",
    "       'CredHistLenInMonts', 'NO.OF_INQUIRIES',\n",
    "       'EmploymentType_Salaried', 'EmploymentType_Self employed',\n",
    "       'Bureau_score_description_A-Very Low Risk',\n",
    "       'Bureau_score_description_B-Very Low Risk',\n",
    "       'Bureau_score_description_C-Very Low Risk',\n",
    "       'Bureau_score_description_D-Very Low Risk',\n",
    "       'Bureau_score_description_E-Low Risk',\n",
    "       'Bureau_score_description_F-Low Risk',\n",
    "       'Bureau_score_description_G-Low Risk',\n",
    "       'Bureau_score_description_H-Medium Risk',\n",
    "       'Bureau_score_description_I-Medium Risk',\n",
    "       'Bureau_score_description_J-High Risk',\n",
    "       'Bureau_score_description_K-High Risk',\n",
    "       'Bureau_score_description_L-Very High Risk',\n",
    "       'Bureau_score_description_M-Very High Risk',\n",
    "       'Bureau_score_description_No Bureau History Available',\n",
    "       'Bureau_score_description_Not Scored: More than 50 active Accounts found',\n",
    "       'Bureau_score_description_Not Scored: No Activity seen on the customer (Inactive)',\n",
    "       'Bureau_score_description_Not Scored: No Updates available in last 36 months',\n",
    "       'Bureau_score_description_Not Scored: Not Enough Info available on the customer',\n",
    "       'Bureau_score_description_Not Scored: Only a Guarantor',\n",
    "       'Bureau_score_description_Not Scored: Sufficient History Not Available','Defaults%_DueToSupplier']]\n",
    "Lables_fe_2 = Train_ManipCompleted_2['loan_default_x']"
   ]
  },
  {
   "cell_type": "code",
   "execution_count": 52,
   "metadata": {},
   "outputs": [],
   "source": [
    "trainfe2_x,validfe2_x,trainfe2_y,validfe2_y = model_selection.train_test_split(Indevectors_fe_2,Lables_fe_2,random_state = 1234, test_size = 0.10)"
   ]
  },
  {
   "cell_type": "code",
   "execution_count": 53,
   "metadata": {},
   "outputs": [
    {
     "name": "stdout",
     "output_type": "stream",
     "text": [
      "209838\n",
      "209838\n",
      "23316\n",
      "23316\n"
     ]
    }
   ],
   "source": [
    "print(len(trainfe2_x))\n",
    "print(len(trainfe2_y))\n",
    "print(len(validfe2_x))\n",
    "print(len(validfe2_y))"
   ]
  },
  {
   "cell_type": "code",
   "execution_count": 56,
   "metadata": {},
   "outputs": [
    {
     "data": {
      "text/plain": [
       "RandomForestClassifier(bootstrap=False, class_weight=None, criterion='gini',\n",
       "            max_depth=None, max_features=60, max_leaf_nodes=None,\n",
       "            min_impurity_decrease=0.0, min_impurity_split=None,\n",
       "            min_samples_leaf=1, min_samples_split=2,\n",
       "            min_weight_fraction_leaf=0.0, n_estimators=300, n_jobs=1,\n",
       "            oob_score=False, random_state=None, verbose=0,\n",
       "            warm_start=False)"
      ]
     },
     "execution_count": 56,
     "metadata": {},
     "output_type": "execute_result"
    }
   ],
   "source": [
    "rf_fe2 = RandomForestClassifier(n_estimators=300,bootstrap = False, max_features=60)\n",
    "rf_fe2.fit(trainfe2_x,list(trainfe2_y))"
   ]
  },
  {
   "cell_type": "code",
   "execution_count": 57,
   "metadata": {},
   "outputs": [
    {
     "name": "stdout",
     "output_type": "stream",
     "text": [
      "AUC of Random Forest model after second Feature Engg. :  0.5385898168263569\n"
     ]
    }
   ],
   "source": [
    "ypred_rf_fe2 = rf_fe2.predict(validfe2_x)\n",
    "print(\"AUC of Random Forest model after second Feature Engg. : \",metrics.roc_auc_score(list(validfe2_y),ypred_rf_fe2))"
   ]
  },
  {
   "cell_type": "code",
   "execution_count": null,
   "metadata": {},
   "outputs": [],
   "source": []
  }
 ],
 "metadata": {
  "kernelspec": {
   "display_name": "Python 3",
   "language": "python",
   "name": "python3"
  },
  "language_info": {
   "codemirror_mode": {
    "name": "ipython",
    "version": 3
   },
   "file_extension": ".py",
   "mimetype": "text/x-python",
   "name": "python",
   "nbconvert_exporter": "python",
   "pygments_lexer": "ipython3",
   "version": "3.6.4"
  }
 },
 "nbformat": 4,
 "nbformat_minor": 2
}
