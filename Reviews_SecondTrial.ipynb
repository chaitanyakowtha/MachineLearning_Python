{
 "cells": [
  {
   "cell_type": "code",
   "execution_count": 1,
   "metadata": {},
   "outputs": [],
   "source": [
    "import pandas as pd\n",
    "import re\n",
    "import numpy as np"
   ]
  },
  {
   "cell_type": "code",
   "execution_count": 2,
   "metadata": {},
   "outputs": [],
   "source": [
    "Dynamics1 = pd.read_csv(\"Dynamics365_AllReviews.csv\")\n",
    "Dynamics2 = pd.read_csv(\"Dynamics365_First100Reviews.csv\")"
   ]
  },
  {
   "cell_type": "code",
   "execution_count": 3,
   "metadata": {},
   "outputs": [
    {
     "name": "stdout",
     "output_type": "stream",
     "text": [
      "2753\n",
      "100\n",
      "Index(['Main_comment', 'Reviewed_On', 'Reviewer_name', 'Reviewer_Role',\n",
      "       'Reviewer_Department_company', 'Review_Comments'],\n",
      "      dtype='object')\n",
      "Index(['Main_comment', 'Reviewed_On', 'Reviewer_name', 'Reviewer_Role',\n",
      "       'Reviewer_Department_company', 'Review_Comments'],\n",
      "      dtype='object')\n"
     ]
    }
   ],
   "source": [
    "# Looking at the columns and length of above two data sets before merging them\n",
    "print(len(Dynamics1))\n",
    "print(len(Dynamics2))\n",
    "print(Dynamics1.columns)\n",
    "print(Dynamics2.columns)"
   ]
  },
  {
   "cell_type": "code",
   "execution_count": 4,
   "metadata": {},
   "outputs": [],
   "source": [
    "# Merging the data with df.append()\n",
    "Dynamics365_Data = Dynamics2.append(Dynamics1,ignore_index=True)"
   ]
  },
  {
   "cell_type": "code",
   "execution_count": 5,
   "metadata": {},
   "outputs": [
    {
     "name": "stdout",
     "output_type": "stream",
     "text": [
      "2853\n",
      "Index(['Main_comment', 'Reviewed_On', 'Reviewer_name', 'Reviewer_Role',\n",
      "       'Reviewer_Department_company', 'Review_Comments'],\n",
      "      dtype='object')\n"
     ]
    }
   ],
   "source": [
    "print(len(Dynamics365_Data))\n",
    "print(Dynamics365_Data.columns)"
   ]
  },
  {
   "cell_type": "code",
   "execution_count": 6,
   "metadata": {},
   "outputs": [
    {
     "data": {
      "text/plain": [
       "Main_comment                   object\n",
       "Reviewed_On                    object\n",
       "Reviewer_name                  object\n",
       "Reviewer_Role                  object\n",
       "Reviewer_Department_company    object\n",
       "Review_Comments                object\n",
       "dtype: object"
      ]
     },
     "execution_count": 6,
     "metadata": {},
     "output_type": "execute_result"
    }
   ],
   "source": [
    "# looking at data types of each column\n",
    "Dynamics365_Data.dtypes"
   ]
  },
  {
   "cell_type": "code",
   "execution_count": 7,
   "metadata": {},
   "outputs": [
    {
     "name": "stdout",
     "output_type": "stream",
     "text": [
      "1215\n",
      "2853\n"
     ]
    }
   ],
   "source": [
    "#Reviewed on Might be helpful for other exploratory analysis but not for our text analysis\n",
    "# Reviewer name also can be exluded out of data\n",
    "# let us see if reviewer role can be coverted to factor and utilized for further analysis. For this lets look at number of unique\n",
    "# values within this attribute\n",
    "Dynamics365_Data['Reviewer_Role'].unique()\n",
    "print(len(Dynamics365_Data['Reviewer_Role'].unique()))\n",
    "print(len(Dynamics365_Data['Reviewer_Role']))"
   ]
  },
  {
   "cell_type": "code",
   "execution_count": 8,
   "metadata": {},
   "outputs": [],
   "source": [
    "# lets convert Reviewer_Role attribute to categorical and decide later whether to use it for model building or not\n",
    "Dynamics365_Data['Reviewer_Role'] = Dynamics365_Data['Reviewer_Role'].astype('category')"
   ]
  },
  {
   "cell_type": "code",
   "execution_count": 9,
   "metadata": {},
   "outputs": [
    {
     "data": {
      "text/plain": [
       "Main_comment                     object\n",
       "Reviewed_On                      object\n",
       "Reviewer_name                    object\n",
       "Reviewer_Role                  category\n",
       "Reviewer_Department_company      object\n",
       "Review_Comments                  object\n",
       "dtype: object"
      ]
     },
     "execution_count": 9,
     "metadata": {},
     "output_type": "execute_result"
    }
   ],
   "source": [
    "Dynamics365_Data.dtypes"
   ]
  },
  {
   "cell_type": "code",
   "execution_count": 10,
   "metadata": {},
   "outputs": [
    {
     "data": {
      "text/plain": [
       "0    \\r\\n                Non-Profit Organization Ma...\n",
       "1    \\r\\n                51-200 employees\\r\\n      ...\n",
       "2    \\r\\n                Food & Beverages, 51-200 e...\n",
       "3    \\r\\n                Public Relations and Commu...\n",
       "4               \\r\\n                \\r\\n              \n",
       "Name: Reviewer_Department_company, dtype: object"
      ]
     },
     "execution_count": 10,
     "metadata": {},
     "output_type": "execute_result"
    }
   ],
   "source": [
    "Dynamics365_Data.Reviewer_Department_company.head()"
   ]
  },
  {
   "cell_type": "code",
   "execution_count": 11,
   "metadata": {},
   "outputs": [],
   "source": [
    "Dynamics365_Data.Reviewer_Department_company = Dynamics365_Data.Reviewer_Department_company.str.replace(\"\\r\\n                \",\"\")\n",
    "Dynamics365_Data.Reviewer_Department_company = Dynamics365_Data.Reviewer_Department_company.str.replace(\"\\r\\n\",\"\")\n",
    "Dynamics365_Data.Reviewer_Department_company = Dynamics365_Data.Reviewer_Department_company.str.replace(\"                \",\"\")"
   ]
  },
  {
   "cell_type": "code",
   "execution_count": 12,
   "metadata": {},
   "outputs": [
    {
     "data": {
      "text/plain": [
       "0       Non-Profit Organization Management, 11-50 empl...\n",
       "1                                        51-200 employees\n",
       "2                      Food & Beverages, 51-200 employees\n",
       "3       Public Relations and Communications, 51-200 em...\n",
       "4                                                        \n",
       "5                            Banking, 1001-5000 employees\n",
       "6                                                        \n",
       "7                              Machinery, 11-50 employees\n",
       "8                   Financial Services, 201-500 employees\n",
       "9                                      Building Materials\n",
       "10                                                       \n",
       "11                   Computer Software, 201-500 employees\n",
       "12                Management Consulting, 51-200 employees\n",
       "13                                                       \n",
       "14                                        11-50 employees\n",
       "15                                      201-500 employees\n",
       "16                                       51-200 employees\n",
       "17                  Higher Education, 1001-5000 employees\n",
       "18               Hospital & Health Care, 51-200 employees\n",
       "19             Renewables & Environment, 51-200 employees\n",
       "20                   Computer Software, 201-500 employees\n",
       "21      Information Technology and Services, 501-1000 ...\n",
       "22                  Food & Beverages, 1001-5000 employees\n",
       "23                                                       \n",
       "24          Package/Freight Delivery, 1001-5000 employees\n",
       "25                                         1-10 employees\n",
       "26                                    1001-5000 employees\n",
       "27                            Research, 10,001+ employees\n",
       "28                                  Management Consulting\n",
       "29                                       51-200 employees\n",
       "                              ...                        \n",
       "2823                               Design, 1-10 employees\n",
       "2824    Information Technology and Services, 1001-5000...\n",
       "2825                                                     \n",
       "2826        Health, Wellness and Fitness, 11-50 employees\n",
       "2827    Non-Profit Organization Management, 51-200 emp...\n",
       "2828    Information Technology and Services, 11-50 emp...\n",
       "2829                                                     \n",
       "2830               Investment Management, 11-50 employees\n",
       "2831                    Computer Software, 1-10 employees\n",
       "2832                                                     \n",
       "2833                   Computer Hardware, 11-50 employees\n",
       "2834                                                     \n",
       "2835                                                     \n",
       "2836    Information Technology and Services, 51-200 em...\n",
       "2837                                                     \n",
       "2838                  Information Services, Self-employed\n",
       "2839                                                     \n",
       "2840    Information Technology and Services, 201-500 e...\n",
       "2841                                                     \n",
       "2842    Transportation/Trucking/Railroad, 201-500 empl...\n",
       "2843    Information Technology and Services, 51-200 em...\n",
       "2844                    Food Production, 51-200 employees\n",
       "2845                    Food & Beverages, 11-50 employees\n",
       "2846                                                     \n",
       "2847           Outsourcing/Offshoring, 501-1000 employees\n",
       "2848                   Apparel & Fashion, 11-50 employees\n",
       "2849                                                     \n",
       "2850                         Furniture, 10,001+ employees\n",
       "2851                                                     \n",
       "2852                    Food Production, 51-200 employees\n",
       "Name: Reviewer_Department_company, Length: 2853, dtype: object"
      ]
     },
     "execution_count": 12,
     "metadata": {},
     "output_type": "execute_result"
    }
   ],
   "source": [
    "Dynamics365_Data.Reviewer_Department_company.str.strip()"
   ]
  },
  {
   "cell_type": "code",
   "execution_count": 13,
   "metadata": {},
   "outputs": [
    {
     "data": {
      "text/plain": [
       "Main_comment                     62\n",
       "Reviewed_On                       0\n",
       "Reviewer_name                     0\n",
       "Reviewer_Role                  1088\n",
       "Reviewer_Department_company       0\n",
       "Review_Comments                  61\n",
       "dtype: int64"
      ]
     },
     "execution_count": 13,
     "metadata": {},
     "output_type": "execute_result"
    }
   ],
   "source": [
    "Dynamics365_Data.isna().sum()"
   ]
  },
  {
   "cell_type": "code",
   "execution_count": 14,
   "metadata": {},
   "outputs": [],
   "source": [
    "#Dynamics365_Data.Reviewer_Department_company.str.lstrip()\n",
    "#Dynamics365_Data.Reviewer_Department_company.str.rstrip()"
   ]
  },
  {
   "cell_type": "code",
   "execution_count": 15,
   "metadata": {},
   "outputs": [],
   "source": [
    "#Dynamics365_Data.Reviewer_Department_company.str.rstrip()"
   ]
  },
  {
   "cell_type": "code",
   "execution_count": 16,
   "metadata": {},
   "outputs": [
    {
     "data": {
      "text/plain": [
       "\"Dynamics365_ReviewerCompany = []\\nfor i in Dynamics365_Data.Reviewer_Department_company:\\n    Dynamics365_ReviewerCompany.append(''.join(i.split()))\""
      ]
     },
     "execution_count": 16,
     "metadata": {},
     "output_type": "execute_result"
    }
   ],
   "source": [
    "'''Dynamics365_ReviewerCompany = []\n",
    "for i in Dynamics365_Data.Reviewer_Department_company:\n",
    "    Dynamics365_ReviewerCompany.append(''.join(i.split()))'''"
   ]
  },
  {
   "cell_type": "code",
   "execution_count": 19,
   "metadata": {},
   "outputs": [],
   "source": [
    "#Dynamics365_ReviewerCompany"
   ]
  },
  {
   "cell_type": "code",
   "execution_count": 95,
   "metadata": {},
   "outputs": [],
   "source": [
    "#Newdata = Newdata.Reviewer_Company.fillna(\"\")"
   ]
  },
  {
   "cell_type": "code",
   "execution_count": 21,
   "metadata": {},
   "outputs": [
    {
     "data": {
      "text/plain": [
       "0     Everything in one place such as Sales, Market...\n",
       "1     \\r\\n,1296/5000\\r\\n,Like any CRM software, Mic...\n",
       "2     What I like most about Microsoft Dynamics is ...\n",
       "3     There are a few things that I really love abo...\n",
       "4     Easy to use, not expensive, simply to navigat...\n",
       "Name: Review_Comments, dtype: object"
      ]
     },
     "execution_count": 21,
     "metadata": {},
     "output_type": "execute_result"
    }
   ],
   "source": [
    "Dynamics365_Data['Review_Comments'].head()"
   ]
  },
  {
   "cell_type": "code",
   "execution_count": 29,
   "metadata": {},
   "outputs": [],
   "source": [
    "#Removing all symbols sort of things\n",
    "Dynamics365_Data['Review_Comments'] = Dynamics365_Data['Review_Comments'].apply(lambda x : re.sub(r'\\W+',' ',str(x)))"
   ]
  },
  {
   "cell_type": "code",
   "execution_count": 30,
   "metadata": {},
   "outputs": [
    {
     "data": {
      "text/plain": [
       "0     Everything in one place such as Sales Marketi...\n",
       "1     1296 5000 Like any CRM software Microsoft Dyn...\n",
       "2     What I like most about Microsoft Dynamics is ...\n",
       "3     There are a few things that I really love abo...\n",
       "4     Easy to use not expensive simply to navigate ...\n",
       "Name: Review_Comments, dtype: object"
      ]
     },
     "execution_count": 30,
     "metadata": {},
     "output_type": "execute_result"
    }
   ],
   "source": [
    "Dynamics365_Data['Review_Comments'].head()"
   ]
  },
  {
   "cell_type": "code",
   "execution_count": 31,
   "metadata": {},
   "outputs": [
    {
     "data": {
      "text/plain": [
       "0"
      ]
     },
     "execution_count": 31,
     "metadata": {},
     "output_type": "execute_result"
    }
   ],
   "source": [
    "Dynamics365_Data['Review_Comments'].isnull().sum()"
   ]
  },
  {
   "cell_type": "code",
   "execution_count": 32,
   "metadata": {},
   "outputs": [],
   "source": [
    "D365 = pd.DataFrame()\n",
    "D365['Reviews'] = Dynamics365_Data['Review_Comments']"
   ]
  },
  {
   "cell_type": "code",
   "execution_count": 33,
   "metadata": {},
   "outputs": [
    {
     "name": "stdout",
     "output_type": "stream",
     "text": [
      "0     Everything in one place such as Sales Marketi...\n",
      "1     1296 5000 Like any CRM software Microsoft Dyn...\n",
      "2     What I like most about Microsoft Dynamics is ...\n",
      "3     There are a few things that I really love abo...\n",
      "4     Easy to use not expensive simply to navigate ...\n",
      "Name: Reviews, dtype: object\n",
      "\n",
      "Total number of reviews available:  2853\n"
     ]
    }
   ],
   "source": [
    "print(D365['Reviews'].head())\n",
    "print(\"\\nTotal number of reviews available: \", len(D365))"
   ]
  },
  {
   "cell_type": "code",
   "execution_count": 19,
   "metadata": {},
   "outputs": [
    {
     "data": {
      "text/plain": [
       "1416"
      ]
     },
     "execution_count": 19,
     "metadata": {},
     "output_type": "execute_result"
    }
   ],
   "source": [
    "len(D365.Reviews[2])"
   ]
  },
  {
   "cell_type": "code",
   "execution_count": 20,
   "metadata": {},
   "outputs": [],
   "source": [
    "def null_finder(x,column,i):\n",
    "    if len(x.column[i]) == 0 :\n",
    "        True\n",
    "    else: \n",
    "        False    "
   ]
  },
  {
   "cell_type": "code",
   "execution_count": 21,
   "metadata": {},
   "outputs": [
    {
     "ename": "SyntaxError",
     "evalue": "invalid syntax (<ipython-input-21-4763cf5122e7>, line 5)",
     "output_type": "error",
     "traceback": [
      "\u001b[1;36m  File \u001b[1;32m\"<ipython-input-21-4763cf5122e7>\"\u001b[1;36m, line \u001b[1;32m5\u001b[0m\n\u001b[1;33m    if len(D365.Reviews[i] == 0:\u001b[0m\n\u001b[1;37m                               ^\u001b[0m\n\u001b[1;31mSyntaxError\u001b[0m\u001b[1;31m:\u001b[0m invalid syntax\n"
     ]
    }
   ],
   "source": [
    "# Trying to count number of empty spaces in reviews\n",
    "a =0\n",
    "for i in range(0,len(D365)+1):\n",
    "    #b = len(D365.Reviews[i] \n",
    "    if len(D365.Reviews[i] == 0:\n",
    "           a = a+1\n",
    "    else:\n",
    "        nothing\n",
    "print(a)"
   ]
  },
  {
   "cell_type": "code",
   "execution_count": 34,
   "metadata": {},
   "outputs": [
    {
     "data": {
      "text/plain": [
       "0        Everything in one place such as Sales Marketi...\n",
       "1        1296 5000 Like any CRM software Microsoft Dyn...\n",
       "2        What I like most about Microsoft Dynamics is ...\n",
       "3        There are a few things that I really love abo...\n",
       "4        Easy to use not expensive simply to navigate ...\n",
       "5        It has come to my attention that Microsoft ha...\n",
       "6        I like the service applications that help man...\n",
       "7        The integration with Outlook is nice because ...\n",
       "8        Flexibility online or on premise ease of use ...\n",
       "9        Customizations workflows views etc are easy t...\n",
       "10       It is very easy to use new users adapt to the...\n",
       "11       One of the advantages of this CRM with respec...\n",
       "12       First off it is easy to set up and reset up D...\n",
       "13       I like it for the following reasons ability o...\n",
       "14       It sustains our business We have a multi stag...\n",
       "15       This program is very complete allows you to j...\n",
       "16       It is a business resource planning platform c...\n",
       "17       I have used DynamicsCRM for two different org...\n",
       "18       As usual Microsoft Products are user friendly...\n",
       "19       1 The interface is so easy as it s built on t...\n",
       "20       This software was good for integrating detail...\n",
       "21       Offline access Tight integration with Microso...\n",
       "22       I like the ability of Dynamics CRM to track a...\n",
       "23       Easy to customize based on your needs add new...\n",
       "24       As a marketing manager for the last 6 years I...\n",
       "25      Overall good system easy to use just wish the ...\n",
       "26       The product facilitates the administration of...\n",
       "27       we use dynamic 365 across our entire organiza...\n",
       "28       I love the ease of use rich functionality and...\n",
       "29       Mobile version Lots of integration options gi...\n",
       "                              ...                        \n",
       "2823     It s a great tool for managing relationships ...\n",
       "2824                                                  nan\n",
       "2825                                                  nan\n",
       "2826     I love that it is Microsoft I find this one v...\n",
       "2827     The marketing connection with the customer Kn...\n",
       "2828                                                  nan\n",
       "2829                                                  nan\n",
       "2830                                                  nan\n",
       "2831                                                  nan\n",
       "2832                                                  nan\n",
       "2833                                                  nan\n",
       "2834     you can do accounting work for a decent midsi...\n",
       "2835     I really liked the interface ease of use and ...\n",
       "2836                                                  nan\n",
       "2837                                                  nan\n",
       "2838                                                  nan\n",
       "2839                                                  nan\n",
       "2840                                                  nan\n",
       "2841     There are so many ways to use this to help th...\n",
       "2842                                                  nan\n",
       "2843                                                  nan\n",
       "2844     Easy use easy to figure out what I need to do...\n",
       "2845     If you exclusively use MS and want something ...\n",
       "2846     Easy to look up sales orders and posted invoi...\n",
       "2847     Very easy to use and User friendly helps in c...\n",
       "2848                                                  nan\n",
       "2849     This system is great when I need help the sup...\n",
       "2850                                                  nan\n",
       "2851     I like that this software maintains procedure...\n",
       "2852                                                  nan\n",
       "Name: Reviews, Length: 2853, dtype: object"
      ]
     },
     "execution_count": 34,
     "metadata": {},
     "output_type": "execute_result"
    }
   ],
   "source": [
    "D365['Reviews'].dropna()"
   ]
  },
  {
   "cell_type": "code",
   "execution_count": null,
   "metadata": {},
   "outputs": [],
   "source": []
  }
 ],
 "metadata": {
  "kernelspec": {
   "display_name": "Python 3",
   "language": "python",
   "name": "python3"
  },
  "language_info": {
   "codemirror_mode": {
    "name": "ipython",
    "version": 3
   },
   "file_extension": ".py",
   "mimetype": "text/x-python",
   "name": "python",
   "nbconvert_exporter": "python",
   "pygments_lexer": "ipython3",
   "version": "3.6.4"
  }
 },
 "nbformat": 4,
 "nbformat_minor": 2
}
