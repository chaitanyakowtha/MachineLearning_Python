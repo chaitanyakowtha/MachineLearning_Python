{
 "cells": [
  {
   "cell_type": "code",
   "execution_count": 38,
   "metadata": {},
   "outputs": [],
   "source": [
    "import pandas as pd\n",
    "import datetime\n",
    "import numpy\n",
    "import re\n",
    "from sklearn.naive_bayes import GaussianNB\n",
    "from sklearn import model_selection, preprocessing, linear_model, naive_bayes, metrics, svm\n",
    "from sklearn import decomposition, ensemble\n",
    "from sklearn.ensemble import RandomForestClassifier\n",
    "import imblearn"
   ]
  },
  {
   "cell_type": "code",
   "execution_count": null,
   "metadata": {},
   "outputs": [],
   "source": [
    "## This notebook contains following trials\n",
    "\n",
    "# Removing IDs with lot of data points - Random forest 1\n",
    "# Removing all the IDs - Random forest 2 \n",
    "# Smoting the data after 2nd trial - Random forest 3"
   ]
  },
  {
   "cell_type": "code",
   "execution_count": 39,
   "metadata": {},
   "outputs": [],
   "source": [
    "# Function for calculating age of a person given his date of birth\n",
    "from datetime import date\n",
    "def calculate_age(born):\n",
    "    today = date.today()\n",
    "    return today.year - born.year - ((today.month, today.day) < (born.month, born.day))"
   ]
  },
  {
   "cell_type": "code",
   "execution_count": 40,
   "metadata": {},
   "outputs": [],
   "source": [
    "#Function for calculating number of days between two dates \n",
    "def datediff(any_date):\n",
    "    today = date.today()\n",
    "    datediff = today-any_date \n",
    "    return datediff.days"
   ]
  },
  {
   "cell_type": "code",
   "execution_count": 41,
   "metadata": {},
   "outputs": [],
   "source": [
    "# Calculating the Tenure in months given the data is in X Years and Y months format\n",
    "def age_length(TenureAsYearsAndMonths):\n",
    "    years = int(re.findall(r'(\\d+)yrs',TenureAsYearsAndMonths )[0])\n",
    "    months = int(re.findall(r'(\\d+)mon',TenureAsYearsAndMonths )[0])\n",
    "    total_tenure = (years*12)+months\n",
    "    return total_tenure"
   ]
  },
  {
   "cell_type": "code",
   "execution_count": 42,
   "metadata": {},
   "outputs": [],
   "source": [
    "# Function for doing all the data manipulations\n",
    "def AllDataManipulations(MainDataFrame,Manip_Data = pd.DataFrame,temp1 = pd.DataFrame, temp2 = pd.DataFrame,Manip_Completed = pd.DataFrame):\n",
    "    Manip_Data = MainDataFrame.copy()\n",
    "    Manip_Data['Employment.Type'].fillna(Manip_Data['Employment.Type'].mode()[0],inplace = True)\n",
    "    Manip_Data[['loan_default','branch_id','supplier_id','manufacturer_id','Current_pincode_ID','State_ID','Employee_code_ID']] = Manip_Data[\n",
    "        ['loan_default','branch_id','supplier_id','manufacturer_id','Current_pincode_ID','State_ID','Employee_code_ID']].apply(lambda x: x.astype('category'))\n",
    "    Manip_Data['Date.of.Birth'] = pd.to_datetime(Manip_Data['Date.of.Birth'])\n",
    "    Manip_Data['Age'] = Manip_Data['Date.of.Birth'].apply(lambda x: calculate_age(x))\n",
    "    Manip_Data['DisbursalDate'] = pd.to_datetime(Manip_Data['DisbursalDate'])\n",
    "    Manip_Data['HowManyDaysSinceDisburse'] = Manip_Data['DisbursalDate'].dt.date.apply(lambda x: datediff(x))\n",
    "    Manip_Data['AvgAcctAgeInMonths'] = Manip_Data['AVERAGE.ACCT.AGE'].apply(lambda x: age_length(x))\n",
    "    Manip_Data['CredHistLenInMonts'] = Manip_Data['CREDIT.HISTORY.LENGTH'].apply(lambda x: age_length(x))\n",
    "    temp1 = pd.get_dummies(Manip_Data['Employment.Type'],prefix='EmploymentType')\n",
    "    temp2 = pd.get_dummies(Manip_Data['PERFORM_CNS.SCORE.DESCRIPTION'],prefix='Bureau_score_description')\n",
    "    Manip_Completed = pd.concat([Manip_Data[['disbursed_amount', 'asset_cost', 'ltv', 'branch_id',\n",
    "       'supplier_id', 'manufacturer_id', 'Current_pincode_ID','Age',\n",
    "       'HowManyDaysSinceDisburse','State_ID', 'Employee_code_ID',\n",
    "       'MobileNo_Avl_Flag', 'Aadhar_flag', 'PAN_flag', 'VoterID_flag',\n",
    "       'Driving_flag', 'Passport_flag', 'PERFORM_CNS.SCORE',\n",
    "       'PRI.NO.OF.ACCTS', 'PRI.ACTIVE.ACCTS','PRI.OVERDUE.ACCTS', 'PRI.CURRENT.BALANCE', 'PRI.SANCTIONED.AMOUNT',\n",
    "       'PRI.DISBURSED.AMOUNT', 'SEC.NO.OF.ACCTS', 'SEC.ACTIVE.ACCTS',\n",
    "       'SEC.OVERDUE.ACCTS', 'SEC.CURRENT.BALANCE', 'SEC.SANCTIONED.AMOUNT',\n",
    "       'SEC.DISBURSED.AMOUNT', 'PRIMARY.INSTAL.AMT', 'SEC.INSTAL.AMT',\n",
    "       'NEW.ACCTS.IN.LAST.SIX.MONTHS', 'DELINQUENT.ACCTS.IN.LAST.SIX.MONTHS',\n",
    "       'AvgAcctAgeInMonths','CredHistLenInMonts','NO.OF_INQUIRIES',\n",
    "       'loan_default']],temp1,temp2],axis=1)\n",
    "    return Manip_Data,Manip_Completed"
   ]
  },
  {
   "cell_type": "code",
   "execution_count": 43,
   "metadata": {},
   "outputs": [],
   "source": [
    "MasterData = pd.read_csv(\"train.csv\")\n",
    "Data1 = MasterData.copy()"
   ]
  },
  {
   "cell_type": "code",
   "execution_count": 51,
   "metadata": {},
   "outputs": [],
   "source": [
    "Train_ManipData_1,Train_ManipCompleted_1 = AllDataManipulations(Data1)"
   ]
  },
  {
   "cell_type": "markdown",
   "metadata": {},
   "source": [
    "Train_ManipData_1.dtypes"
   ]
  },
  {
   "cell_type": "code",
   "execution_count": 150,
   "metadata": {},
   "outputs": [
    {
     "data": {
      "text/plain": [
       "233154"
      ]
     },
     "execution_count": 150,
     "metadata": {},
     "output_type": "execute_result"
    }
   ],
   "source": [
    "len(Train_ManipData_1)"
   ]
  },
  {
   "cell_type": "code",
   "execution_count": 153,
   "metadata": {},
   "outputs": [],
   "source": [
    "Train_ManipCompleted_1_OtherMakers = Train_ManipCompleted_1[Train_ManipCompleted_1['manufacturer_id']!=86]"
   ]
  },
  {
   "cell_type": "code",
   "execution_count": 154,
   "metadata": {},
   "outputs": [
    {
     "data": {
      "text/plain": [
       "123620"
      ]
     },
     "execution_count": 154,
     "metadata": {},
     "output_type": "execute_result"
    }
   ],
   "source": [
    "len(Train_ManipCompleted_1_OtherMakers)"
   ]
  },
  {
   "cell_type": "code",
   "execution_count": 156,
   "metadata": {},
   "outputs": [],
   "source": [
    "Train_ManipCompleted_1_manufacturer86 = Train_ManipCompleted_1[Train_ManipCompleted_1['manufacturer_id']==86]"
   ]
  },
  {
   "cell_type": "code",
   "execution_count": 157,
   "metadata": {},
   "outputs": [
    {
     "data": {
      "text/plain": [
       "109534"
      ]
     },
     "execution_count": 157,
     "metadata": {},
     "output_type": "execute_result"
    }
   ],
   "source": [
    "len(Train_ManipCompleted_1_manufacturer86)"
   ]
  },
  {
   "cell_type": "code",
   "execution_count": 158,
   "metadata": {},
   "outputs": [],
   "source": [
    "# Independent vectors and Labels for All other manufacturers except '86'\n",
    "IndeVectors_Non86 = Train_ManipCompleted_1_OtherMakers.drop(columns = ['loan_default'])\n",
    "Labels_Non86 = Train_ManipCompleted_1_OtherMakers['loan_default']"
   ]
  },
  {
   "cell_type": "code",
   "execution_count": 165,
   "metadata": {},
   "outputs": [],
   "source": [
    "# # Independent vectors and Labels for manufacturer except 86\n",
    "IndeVectors_86 = Train_ManipCompleted_1_manufacturer86.drop(columns = ['loan_default'])\n",
    "Labels_86 = Train_ManipCompleted_1_manufacturer86['loan_default']"
   ]
  },
  {
   "cell_type": "code",
   "execution_count": 159,
   "metadata": {},
   "outputs": [],
   "source": [
    "# Train Test Split for All other manufacturers except 86\n",
    "trainnon86_x, validnon86_x, trainnon86_y, validnon86_y = model_selection.train_test_split(IndeVectors_Non86,Labels_Non86,random_state = 1234,test_size = 0.10)"
   ]
  },
  {
   "cell_type": "code",
   "execution_count": 166,
   "metadata": {},
   "outputs": [],
   "source": [
    "# Train Test Split for manufacturer 86\n",
    "train86_x, valid86_x, train86_y, validn86_y = model_selection.train_test_split(IndeVectors_86,Labels_86,random_state = 1234,test_size = 0.10)"
   ]
  },
  {
   "cell_type": "code",
   "execution_count": 162,
   "metadata": {},
   "outputs": [],
   "source": [
    "#Smoting data for all other manufacturers except 86\n",
    "from imblearn.over_sampling import SMOTE\n",
    "smt = SMOTE()\n",
    "trainnon86_x_smt, trainnon86_y_smt = smt.fit_sample(trainnon86_x, trainnon86_y)"
   ]
  },
  {
   "cell_type": "code",
   "execution_count": 167,
   "metadata": {},
   "outputs": [],
   "source": [
    "#Smoting data for manufacturer 86\n",
    "from imblearn.over_sampling import SMOTE\n",
    "smt = SMOTE()\n",
    "train86_x_smt, train86_y_smt = smt.fit_sample(train86_x, train86_y)"
   ]
  },
  {
   "cell_type": "markdown",
   "metadata": {},
   "source": [
    "print(Train_ManipData_1['branch_id'].value_counts()) # No need to drop.\n",
    "print(Train_ManipData_1['supplier_id'].value_counts()) # Need to drop\n",
    "print(Train_ManipData_1['manufacturer_id'].value_counts()) # no need to drop \n",
    "print(Train_ManipData_1['Current_pincode_ID'].value_counts()) # Need to drop\n",
    "print(Train_ManipData_1['State_ID'].value_counts()) # No need to drop \n",
    "print(Train_ManipData_1['Employee_code_ID'].value_counts()) # Need to drop"
   ]
  },
  {
   "cell_type": "code",
   "execution_count": 45,
   "metadata": {},
   "outputs": [],
   "source": [
    "#Train_ManipCompleted_1 = Train_ManipCompleted_1.drop(columns = ['supplier_id','Current_pincode_ID','Employee_code_ID','branch_id','manufacturer_id','State_ID'])"
   ]
  },
  {
   "cell_type": "code",
   "execution_count": 52,
   "metadata": {},
   "outputs": [],
   "source": [
    "#Train_ManipCompleted_1.dtypes"
   ]
  },
  {
   "cell_type": "code",
   "execution_count": 53,
   "metadata": {},
   "outputs": [],
   "source": [
    "#IndeVectors = Train_ManipCompleted_1.drop(columns = ['loan_default'])\n",
    "#Labels = Train_ManipCompleted_1['loan_default']"
   ]
  },
  {
   "cell_type": "code",
   "execution_count": 54,
   "metadata": {},
   "outputs": [],
   "source": [
    "#train_x, valid_x, train_y, valid_y = model_selection.train_test_split(IndeVectors,Labels,random_state = 1234,test_size = 0.10)"
   ]
  },
  {
   "cell_type": "code",
   "execution_count": 20,
   "metadata": {},
   "outputs": [
    {
     "name": "stdout",
     "output_type": "stream",
     "text": [
      "AUC of Random forest Model_1:  0.5106725526081415\n",
      "AUC of Naive Bayes Model_1:  0.4978240842438261\n"
     ]
    }
   ],
   "source": [
    "# Random forest # After removing just the IDs with lot of values, like in thousands\n",
    "#rf_model_1 = RandomForestClassifier(n_estimators=300,bootstrap = True,max_features = 'sqrt')\n",
    "#rf_model_1.fit(train_x,list(train_y))\n",
    "#ypred_rf1 = rf_model_1.predict(valid_x)\n",
    "#auc_rf1 = metrics.roc_auc_score(list(valid_y),ypred_rf1)\n",
    "#print(\"AUC of Random forest Model_1: \",auc_rf1)\n",
    "## Naive Bayes\n",
    "#gnb = GaussianNB()\n",
    "#gnb.fit(train_x,train_y)\n",
    "#ypred_gnb = gnb.predict(valid_x)\n",
    "#auc_gnb = metrics.roc_auc_score(list(valid_y),ypred_gnb)\n",
    "#print(\"AUC of Naive Bayes Model_1: \",auc_gnb)"
   ]
  },
  {
   "cell_type": "code",
   "execution_count": 26,
   "metadata": {},
   "outputs": [
    {
     "name": "stdout",
     "output_type": "stream",
     "text": [
      "AUC of Random forest Model_1:  0.5121761854123401\n"
     ]
    }
   ],
   "source": [
    "'''# Random forest # After removing All the IDs\n",
    "rf_model_2 = RandomForestClassifier(n_estimators=300,bootstrap = True,max_features = 'sqrt')\n",
    "rf_model_2.fit(train_x,list(train_y))\n",
    "ypred_rf2 = rf_model_2.predict(valid_x)\n",
    "auc_rf2 = metrics.roc_auc_score(list(valid_y),ypred_rf2)\n",
    "print(\"AUC of Random forest Model_1: \",auc_rf2)'''"
   ]
  },
  {
   "cell_type": "code",
   "execution_count": 68,
   "metadata": {},
   "outputs": [],
   "source": [
    "'''#import imblearn\n",
    "from imblearn.over_sampling import SMOTE\n",
    "smt = SMOTE()\n",
    "X_train_smt, y_train_smt = smt.fit_sample(train_x, train_y)'''"
   ]
  },
  {
   "cell_type": "code",
   "execution_count": 49,
   "metadata": {},
   "outputs": [
    {
     "name": "stdout",
     "output_type": "stream",
     "text": [
      "AUC of Random forest Model_1:  0.512400565908616\n"
     ]
    }
   ],
   "source": [
    "'''# Random forest_Model 3 after Removing all the IDs and smoting the data\n",
    "rf_model_3 = RandomForestClassifier(n_estimators=300,bootstrap = True,max_features = 'sqrt')\n",
    "rf_model_3.fit(train_x,list(train_y))\n",
    "ypred_rf3 = rf_model_3.predict(valid_x)\n",
    "auc_rf3 = metrics.roc_auc_score(list(valid_y),ypred_rf3)\n",
    "print(\"AUC of Random forest Model_1: \",auc_rf3)'''"
   ]
  },
  {
   "cell_type": "code",
   "execution_count": 50,
   "metadata": {},
   "outputs": [
    {
     "name": "stdout",
     "output_type": "stream",
     "text": [
      "64\n"
     ]
    }
   ],
   "source": [
    "'''# Finding the version of python installed\n",
    "import struct;print(struct.calcsize(\"P\") * 8)'''"
   ]
  },
  {
   "cell_type": "code",
   "execution_count": 161,
   "metadata": {
    "scrolled": true
   },
   "outputs": [
    {
     "name": "stdout",
     "output_type": "stream",
     "text": [
      "AUC through Logistic Regression for all other manufacturers except 86 is:  0.5658069261020856\n"
     ]
    }
   ],
   "source": [
    "# Logistic regression - First Trial\n",
    "# Data used is generated through function \"AllDataManipulations\" - which is created just for train data\n",
    "\n",
    "from sklearn.linear_model import LogisticRegression\n",
    "LR1_non86 = LogisticRegression(class_weight = 'balanced',multi_class ='ovr',solver = 'liblinear') \n",
    "LR1_non86.fit(trainnon86_x,list(trainnon86_y, ))\n",
    "ypred_lr1_non86 = LR1_non86.predict(validnon86_x)\n",
    "print(\"AUC through Logistic Regression for all other manufacturers except 86 is: \", metrics.roc_auc_score(list(validnon86_y),ypred_lr1_non86))"
   ]
  },
  {
   "cell_type": "code",
   "execution_count": 163,
   "metadata": {},
   "outputs": [
    {
     "name": "stdout",
     "output_type": "stream",
     "text": [
      "AUC through Logistic Regression for all other manufacturers except 86 is - Using Smote Data:  0.5607912402025323\n"
     ]
    }
   ],
   "source": [
    "# Logistic regression - Second Trial\n",
    "# Data used is generated through function \"AllDataManipulations\" - which is created just for train data\n",
    "\n",
    "from sklearn.linear_model import LogisticRegression\n",
    "LR2_non86 = LogisticRegression(class_weight = 'balanced',multi_class ='ovr',solver = 'liblinear') \n",
    "LR2_non86.fit(trainnon86_x_smt,list(trainnon86_y_smt, ))\n",
    "ypred_lr2_non86 = LR2_non86.predict(validnon86_x)\n",
    "print(\"AUC through Logistic Regression for all other manufacturers except 86 is - Using Smote Data: \", metrics.roc_auc_score(list(validnon86_y),ypred_lr2_non86))"
   ]
  },
  {
   "cell_type": "code",
   "execution_count": 168,
   "metadata": {},
   "outputs": [
    {
     "name": "stdout",
     "output_type": "stream",
     "text": [
      "AUC through Logistic Regression for all other manufacturers except 86 is - Using Smote Data:  0.5839073565349296\n"
     ]
    }
   ],
   "source": [
    "# Logistic regression - For Manufacturer 86\n",
    "#from sklearn.linear_model import LogisticRegression\n",
    "LR3_86 = LogisticRegression(class_weight = 'balanced',multi_class ='ovr',solver = 'liblinear') \n",
    "LR3_86.fit(train86_x_smt,list(train86_y_smt))\n",
    "ypred_lr3_86 = LR3_86.predict(valid86_x)\n",
    "print(\"AUC through Logistic Regression for manufacturer 86 is - Using Smote Data: \", metrics.roc_auc_score(list(validn86_y),ypred_lr3_86))"
   ]
  },
  {
   "cell_type": "code",
   "execution_count": 169,
   "metadata": {},
   "outputs": [
    {
     "data": {
      "text/plain": [
       "'# Trying out Decision tree\\nfrom sklearn.tree import DecisionTreeClassifier\\n\\n# This uses default critetia - Gini\\n\\nDT1 = DecisionTreeClassifier(max_depth=10,random_state=1234)\\nDT1.fit(train_x,list(train_y))\\nypred_DT1 = DT1.predict(valid_x)\\nprint(\"AUC through Decision tree using Obvious data manipulations is: \", metrics.roc_auc_score(list(valid_y),ypred_DT1))\\n\\nDT2 = DecisionTreeClassifier(max_depth=10,random_state=1234)\\nDT2.fit(X_train_smt,list(y_train_smt))\\nypred_DT2 = DT2.predict(valid_x)\\nprint(\"AUC through Decision tree using SMOTE Data is: \", metrics.roc_auc_score(list(valid_y),ypred_DT2))'"
      ]
     },
     "execution_count": 169,
     "metadata": {},
     "output_type": "execute_result"
    }
   ],
   "source": [
    "'''# Trying out Decision tree\n",
    "from sklearn.tree import DecisionTreeClassifier\n",
    "\n",
    "# This uses default critetia - Gini\n",
    "\n",
    "DT1 = DecisionTreeClassifier(max_depth=10,random_state=1234)\n",
    "DT1.fit(train_x,list(train_y))\n",
    "ypred_DT1 = DT1.predict(valid_x)\n",
    "print(\"AUC through Decision tree using Obvious data manipulations is: \", metrics.roc_auc_score(list(valid_y),ypred_DT1))\n",
    "\n",
    "DT2 = DecisionTreeClassifier(max_depth=10,random_state=1234)\n",
    "DT2.fit(X_train_smt,list(y_train_smt))\n",
    "ypred_DT2 = DT2.predict(valid_x)\n",
    "print(\"AUC through Decision tree using SMOTE Data is: \", metrics.roc_auc_score(list(valid_y),ypred_DT2))'''"
   ]
  },
  {
   "cell_type": "code",
   "execution_count": 89,
   "metadata": {},
   "outputs": [
    {
     "name": "stdout",
     "output_type": "stream",
     "text": [
      "AUC through Decision tree using Obvious data manipulations and tweaking hyperparameters:  0.5324534273725284\n",
      "AUC through Decision tree using SMOTE Data and tweaking hyperparameters:  0.5246292408602246\n"
     ]
    }
   ],
   "source": [
    "'''# Decision Tree - Tweaking HyperParameters\n",
    "\n",
    "DT3 = DecisionTreeClassifier(criterion='entropy',splitter = 'random', class_weight = 'balanced' ,random_state=1234)\n",
    "DT3.fit(train_x,list(train_y))\n",
    "ypred_DT3 = DT3.predict(valid_x)\n",
    "print(\"AUC through Decision tree using Obvious data manipulations and tweaking hyperparameters: \", metrics.roc_auc_score(list(valid_y),ypred_DT3))\n",
    "\n",
    "DT4 = DecisionTreeClassifier(criterion='entropy',splitter = 'random', class_weight = 'balanced' ,random_state=1234)\n",
    "DT4.fit(X_train_smt,list(y_train_smt))\n",
    "ypred_DT4 = DT4.predict(valid_x)\n",
    "print(\"AUC through Decision tree using SMOTE Data and tweaking hyperparameters: \", metrics.roc_auc_score(list(valid_y),ypred_DT4))'''"
   ]
  },
  {
   "cell_type": "code",
   "execution_count": 93,
   "metadata": {},
   "outputs": [
    {
     "name": "stdout",
     "output_type": "stream",
     "text": [
      "AUC with KNN1 - using obvious data manipulations:  0.5025899573024244\n",
      "AUC with KNN1 - using obvious data manipulations:  0.5509846051599274\n"
     ]
    }
   ],
   "source": [
    "'''# Using KNearest Neighbours\n",
    "\n",
    "from sklearn.neighbors import KNeighborsClassifier\n",
    "\n",
    "KNN1 = KNeighborsClassifier(n_neighbors=32, weights= 'uniform', algorithm= 'auto', n_jobs= -1)\n",
    "KNN1.fit(train_x,list(train_y))\n",
    "ypred_KNN1 = KNN1.predict(valid_x)\n",
    "print(\"AUC with KNN1 - using obvious data manipulations: \", metrics.roc_auc_score(list(valid_y),ypred_KNN1))\n",
    "\n",
    "KNN2 = KNeighborsClassifier(n_neighbors=32, weights= 'uniform', algorithm= 'auto', n_jobs= -1)\n",
    "KNN2.fit(X_train_smt,list(y_train_smt))\n",
    "ypred_KNN2 = KNN2.predict(valid_x)\n",
    "print(\"AUC with KNN1 - using obvious data manipulations: \", metrics.roc_auc_score(list(valid_y),ypred_KNN2))'''"
   ]
  },
  {
   "cell_type": "code",
   "execution_count": null,
   "metadata": {},
   "outputs": [],
   "source": [
    "'''# Trying on SMOTE data - Without tweaking any hyperparameters\n",
    "\n",
    "KNN3= KNeighborsClassifier(n_jobs= -1)\n",
    "KNN3.fit(X_train_smt,list(y_train_smt))\n",
    "ypred_KNN3 = KNN3.predict(valid_x)\n",
    "print(\"AUC with KNN3 - using obvious data manipulations: \", metrics.roc_auc_score(list(valid_y),ypred_KNN3))'''"
   ]
  },
  {
   "cell_type": "code",
   "execution_count": 170,
   "metadata": {},
   "outputs": [],
   "source": [
    "# Modifying data manipulations function to work for test data as it doesn't have labels column\n",
    "# Function for doing all the data manipulations\n",
    "def AllDataManipulations_forTest(MainDataFrame,Manip_Data = pd.DataFrame,temp1 = pd.DataFrame, temp2 = pd.DataFrame,Manip_Completed = pd.DataFrame):\n",
    "    Manip_Data = MainDataFrame.copy()\n",
    "    Manip_Data['Employment.Type'].fillna(Manip_Data['Employment.Type'].mode()[0],inplace = True)\n",
    "    Manip_Data[['branch_id','supplier_id','manufacturer_id','Current_pincode_ID','State_ID','Employee_code_ID']] = Manip_Data[\n",
    "        ['branch_id','supplier_id','manufacturer_id','Current_pincode_ID','State_ID','Employee_code_ID']].apply(lambda x: x.astype('category'))\n",
    "    Manip_Data['Date.of.Birth'] = pd.to_datetime(Manip_Data['Date.of.Birth'])\n",
    "    Manip_Data['Age'] = Manip_Data['Date.of.Birth'].apply(lambda x: calculate_age(x))\n",
    "    Manip_Data['DisbursalDate'] = pd.to_datetime(Manip_Data['DisbursalDate'])\n",
    "    Manip_Data['HowManyDaysSinceDisburse'] = Manip_Data['DisbursalDate'].dt.date.apply(lambda x: datediff(x))\n",
    "    Manip_Data['AvgAcctAgeInMonths'] = Manip_Data['AVERAGE.ACCT.AGE'].apply(lambda x: age_length(x))\n",
    "    Manip_Data['CredHistLenInMonts'] = Manip_Data['CREDIT.HISTORY.LENGTH'].apply(lambda x: age_length(x))\n",
    "    temp1 = pd.get_dummies(Manip_Data['Employment.Type'],prefix='EmploymentType')\n",
    "    temp2 = pd.get_dummies(Manip_Data['PERFORM_CNS.SCORE.DESCRIPTION'],prefix='Bureau_score_description')\n",
    "    Manip_Completed = pd.concat([Manip_Data[['disbursed_amount', 'asset_cost', 'ltv', 'branch_id',\n",
    "       'supplier_id', 'manufacturer_id', 'Current_pincode_ID','Age',\n",
    "       'HowManyDaysSinceDisburse','State_ID', 'Employee_code_ID',\n",
    "       'MobileNo_Avl_Flag', 'Aadhar_flag', 'PAN_flag', 'VoterID_flag',\n",
    "       'Driving_flag', 'Passport_flag', 'PERFORM_CNS.SCORE',\n",
    "       'PRI.NO.OF.ACCTS', 'PRI.ACTIVE.ACCTS','PRI.OVERDUE.ACCTS', 'PRI.CURRENT.BALANCE', 'PRI.SANCTIONED.AMOUNT',\n",
    "       'PRI.DISBURSED.AMOUNT', 'SEC.NO.OF.ACCTS', 'SEC.ACTIVE.ACCTS',\n",
    "       'SEC.OVERDUE.ACCTS', 'SEC.CURRENT.BALANCE', 'SEC.SANCTIONED.AMOUNT',\n",
    "       'SEC.DISBURSED.AMOUNT', 'PRIMARY.INSTAL.AMT', 'SEC.INSTAL.AMT',\n",
    "       'NEW.ACCTS.IN.LAST.SIX.MONTHS', 'DELINQUENT.ACCTS.IN.LAST.SIX.MONTHS',\n",
    "       'AvgAcctAgeInMonths','CredHistLenInMonts','NO.OF_INQUIRIES']],temp1,temp2],axis=1)\n",
    "    return Manip_Data,Manip_Completed"
   ]
  },
  {
   "cell_type": "code",
   "execution_count": 171,
   "metadata": {},
   "outputs": [],
   "source": [
    "Master_test = pd.read_csv(\"test_bqCt9Pv.csv\")\n",
    "Test_Data = Master_test.copy()\n",
    "Test_ManipData,Test_ManipCompleted = AllDataManipulations_forTest(Test_Data)"
   ]
  },
  {
   "cell_type": "code",
   "execution_count": 172,
   "metadata": {},
   "outputs": [
    {
     "data": {
      "text/html": [
       "<div>\n",
       "<style scoped>\n",
       "    .dataframe tbody tr th:only-of-type {\n",
       "        vertical-align: middle;\n",
       "    }\n",
       "\n",
       "    .dataframe tbody tr th {\n",
       "        vertical-align: top;\n",
       "    }\n",
       "\n",
       "    .dataframe thead th {\n",
       "        text-align: right;\n",
       "    }\n",
       "</style>\n",
       "<table border=\"1\" class=\"dataframe\">\n",
       "  <thead>\n",
       "    <tr style=\"text-align: right;\">\n",
       "      <th></th>\n",
       "      <th>disbursed_amount</th>\n",
       "      <th>asset_cost</th>\n",
       "      <th>ltv</th>\n",
       "      <th>branch_id</th>\n",
       "      <th>supplier_id</th>\n",
       "      <th>manufacturer_id</th>\n",
       "      <th>Current_pincode_ID</th>\n",
       "      <th>Age</th>\n",
       "      <th>HowManyDaysSinceDisburse</th>\n",
       "      <th>State_ID</th>\n",
       "      <th>...</th>\n",
       "      <th>Bureau_score_description_J-High Risk</th>\n",
       "      <th>Bureau_score_description_K-High Risk</th>\n",
       "      <th>Bureau_score_description_L-Very High Risk</th>\n",
       "      <th>Bureau_score_description_M-Very High Risk</th>\n",
       "      <th>Bureau_score_description_No Bureau History Available</th>\n",
       "      <th>Bureau_score_description_Not Scored: No Activity seen on the customer (Inactive)</th>\n",
       "      <th>Bureau_score_description_Not Scored: No Updates available in last 36 months</th>\n",
       "      <th>Bureau_score_description_Not Scored: Not Enough Info available on the customer</th>\n",
       "      <th>Bureau_score_description_Not Scored: Only a Guarantor</th>\n",
       "      <th>Bureau_score_description_Not Scored: Sufficient History Not Available</th>\n",
       "    </tr>\n",
       "  </thead>\n",
       "  <tbody>\n",
       "    <tr>\n",
       "      <th>0</th>\n",
       "      <td>53478</td>\n",
       "      <td>63558</td>\n",
       "      <td>86.54</td>\n",
       "      <td>67</td>\n",
       "      <td>22807</td>\n",
       "      <td>45</td>\n",
       "      <td>1497</td>\n",
       "      <td>45</td>\n",
       "      <td>402</td>\n",
       "      <td>6</td>\n",
       "      <td>...</td>\n",
       "      <td>0</td>\n",
       "      <td>0</td>\n",
       "      <td>0</td>\n",
       "      <td>0</td>\n",
       "      <td>1</td>\n",
       "      <td>0</td>\n",
       "      <td>0</td>\n",
       "      <td>0</td>\n",
       "      <td>0</td>\n",
       "      <td>0</td>\n",
       "    </tr>\n",
       "    <tr>\n",
       "      <th>1</th>\n",
       "      <td>55513</td>\n",
       "      <td>63163</td>\n",
       "      <td>89.45</td>\n",
       "      <td>67</td>\n",
       "      <td>22807</td>\n",
       "      <td>45</td>\n",
       "      <td>1497</td>\n",
       "      <td>33</td>\n",
       "      <td>148</td>\n",
       "      <td>6</td>\n",
       "      <td>...</td>\n",
       "      <td>0</td>\n",
       "      <td>0</td>\n",
       "      <td>0</td>\n",
       "      <td>0</td>\n",
       "      <td>0</td>\n",
       "      <td>0</td>\n",
       "      <td>0</td>\n",
       "      <td>0</td>\n",
       "      <td>0</td>\n",
       "      <td>0</td>\n",
       "    </tr>\n",
       "    <tr>\n",
       "      <th>2</th>\n",
       "      <td>65282</td>\n",
       "      <td>84320</td>\n",
       "      <td>79.93</td>\n",
       "      <td>78</td>\n",
       "      <td>23135</td>\n",
       "      <td>86</td>\n",
       "      <td>2071</td>\n",
       "      <td>23</td>\n",
       "      <td>139</td>\n",
       "      <td>4</td>\n",
       "      <td>...</td>\n",
       "      <td>0</td>\n",
       "      <td>0</td>\n",
       "      <td>0</td>\n",
       "      <td>0</td>\n",
       "      <td>1</td>\n",
       "      <td>0</td>\n",
       "      <td>0</td>\n",
       "      <td>0</td>\n",
       "      <td>0</td>\n",
       "      <td>0</td>\n",
       "    </tr>\n",
       "    <tr>\n",
       "      <th>3</th>\n",
       "      <td>46905</td>\n",
       "      <td>63896</td>\n",
       "      <td>76.58</td>\n",
       "      <td>78</td>\n",
       "      <td>17014</td>\n",
       "      <td>45</td>\n",
       "      <td>2070</td>\n",
       "      <td>46</td>\n",
       "      <td>139</td>\n",
       "      <td>4</td>\n",
       "      <td>...</td>\n",
       "      <td>0</td>\n",
       "      <td>0</td>\n",
       "      <td>0</td>\n",
       "      <td>0</td>\n",
       "      <td>0</td>\n",
       "      <td>0</td>\n",
       "      <td>0</td>\n",
       "      <td>0</td>\n",
       "      <td>1</td>\n",
       "      <td>0</td>\n",
       "    </tr>\n",
       "    <tr>\n",
       "      <th>4</th>\n",
       "      <td>51428</td>\n",
       "      <td>63896</td>\n",
       "      <td>86.08</td>\n",
       "      <td>78</td>\n",
       "      <td>17014</td>\n",
       "      <td>45</td>\n",
       "      <td>2069</td>\n",
       "      <td>47</td>\n",
       "      <td>151</td>\n",
       "      <td>4</td>\n",
       "      <td>...</td>\n",
       "      <td>0</td>\n",
       "      <td>0</td>\n",
       "      <td>0</td>\n",
       "      <td>0</td>\n",
       "      <td>1</td>\n",
       "      <td>0</td>\n",
       "      <td>0</td>\n",
       "      <td>0</td>\n",
       "      <td>0</td>\n",
       "      <td>0</td>\n",
       "    </tr>\n",
       "  </tbody>\n",
       "</table>\n",
       "<p>5 rows × 58 columns</p>\n",
       "</div>"
      ],
      "text/plain": [
       "   disbursed_amount  asset_cost    ltv branch_id supplier_id manufacturer_id  \\\n",
       "0             53478       63558  86.54        67       22807              45   \n",
       "1             55513       63163  89.45        67       22807              45   \n",
       "2             65282       84320  79.93        78       23135              86   \n",
       "3             46905       63896  76.58        78       17014              45   \n",
       "4             51428       63896  86.08        78       17014              45   \n",
       "\n",
       "  Current_pincode_ID  Age  HowManyDaysSinceDisburse State_ID  \\\n",
       "0               1497   45                       402        6   \n",
       "1               1497   33                       148        6   \n",
       "2               2071   23                       139        4   \n",
       "3               2070   46                       139        4   \n",
       "4               2069   47                       151        4   \n",
       "\n",
       "                                   ...                                    \\\n",
       "0                                  ...                                     \n",
       "1                                  ...                                     \n",
       "2                                  ...                                     \n",
       "3                                  ...                                     \n",
       "4                                  ...                                     \n",
       "\n",
       "  Bureau_score_description_J-High Risk  Bureau_score_description_K-High Risk  \\\n",
       "0                                    0                                     0   \n",
       "1                                    0                                     0   \n",
       "2                                    0                                     0   \n",
       "3                                    0                                     0   \n",
       "4                                    0                                     0   \n",
       "\n",
       "   Bureau_score_description_L-Very High Risk  \\\n",
       "0                                          0   \n",
       "1                                          0   \n",
       "2                                          0   \n",
       "3                                          0   \n",
       "4                                          0   \n",
       "\n",
       "   Bureau_score_description_M-Very High Risk  \\\n",
       "0                                          0   \n",
       "1                                          0   \n",
       "2                                          0   \n",
       "3                                          0   \n",
       "4                                          0   \n",
       "\n",
       "   Bureau_score_description_No Bureau History Available  \\\n",
       "0                                                  1      \n",
       "1                                                  0      \n",
       "2                                                  1      \n",
       "3                                                  0      \n",
       "4                                                  1      \n",
       "\n",
       "   Bureau_score_description_Not Scored: No Activity seen on the customer (Inactive)  \\\n",
       "0                                                  0                                  \n",
       "1                                                  0                                  \n",
       "2                                                  0                                  \n",
       "3                                                  0                                  \n",
       "4                                                  0                                  \n",
       "\n",
       "   Bureau_score_description_Not Scored: No Updates available in last 36 months  \\\n",
       "0                                                  0                             \n",
       "1                                                  0                             \n",
       "2                                                  0                             \n",
       "3                                                  0                             \n",
       "4                                                  0                             \n",
       "\n",
       "   Bureau_score_description_Not Scored: Not Enough Info available on the customer  \\\n",
       "0                                                  0                                \n",
       "1                                                  0                                \n",
       "2                                                  0                                \n",
       "3                                                  0                                \n",
       "4                                                  0                                \n",
       "\n",
       "   Bureau_score_description_Not Scored: Only a Guarantor  \\\n",
       "0                                                  0       \n",
       "1                                                  0       \n",
       "2                                                  0       \n",
       "3                                                  1       \n",
       "4                                                  0       \n",
       "\n",
       "   Bureau_score_description_Not Scored: Sufficient History Not Available  \n",
       "0                                                  0                      \n",
       "1                                                  0                      \n",
       "2                                                  0                      \n",
       "3                                                  0                      \n",
       "4                                                  0                      \n",
       "\n",
       "[5 rows x 58 columns]"
      ]
     },
     "execution_count": 172,
     "metadata": {},
     "output_type": "execute_result"
    }
   ],
   "source": [
    "Test_ManipCompleted.head()"
   ]
  },
  {
   "cell_type": "code",
   "execution_count": 195,
   "metadata": {},
   "outputs": [],
   "source": [
    "Test_ManipCompleted['Bureau_score_description_Not Scored: More than 50 active Accounts found'] = 0"
   ]
  },
  {
   "cell_type": "code",
   "execution_count": 196,
   "metadata": {},
   "outputs": [
    {
     "data": {
      "text/plain": [
       "59"
      ]
     },
     "execution_count": 196,
     "metadata": {},
     "output_type": "execute_result"
    }
   ],
   "source": [
    "len(Test_ManipCompleted.columns)"
   ]
  },
  {
   "cell_type": "code",
   "execution_count": 191,
   "metadata": {},
   "outputs": [
    {
     "data": {
      "text/plain": [
       "(58,)"
      ]
     },
     "execution_count": 191,
     "metadata": {},
     "output_type": "execute_result"
    }
   ],
   "source": [
    "import numpy as np\n",
    "np.array(Test_ManipCompleted.iloc[1]).shape"
   ]
  },
  {
   "cell_type": "code",
   "execution_count": 194,
   "metadata": {},
   "outputs": [
    {
     "ename": "AttributeError",
     "evalue": "'numpy.ndarray' object has no attribute 'columns'",
     "output_type": "error",
     "traceback": [
      "\u001b[1;31m---------------------------------------------------------------------------\u001b[0m",
      "\u001b[1;31mAttributeError\u001b[0m                            Traceback (most recent call last)",
      "\u001b[1;32m<ipython-input-194-a62c77f4bcc5>\u001b[0m in \u001b[0;36m<module>\u001b[1;34m\u001b[0m\n\u001b[1;32m----> 1\u001b[1;33m \u001b[0mtrain86_x_smt\u001b[0m\u001b[1;33m.\u001b[0m\u001b[0mcolumns\u001b[0m\u001b[1;33m\u001b[0m\u001b[1;33m\u001b[0m\u001b[0m\n\u001b[0m",
      "\u001b[1;31mAttributeError\u001b[0m: 'numpy.ndarray' object has no attribute 'columns'"
     ]
    }
   ],
   "source": [
    "train86_x.columns"
   ]
  },
  {
   "cell_type": "code",
   "execution_count": 202,
   "metadata": {},
   "outputs": [
    {
     "data": {
      "text/plain": [
       "range(0, 112392)"
      ]
     },
     "execution_count": 202,
     "metadata": {},
     "output_type": "execute_result"
    }
   ],
   "source": [
    "range(len(Test_ManipCompleted))"
   ]
  },
  {
   "cell_type": "code",
   "execution_count": 204,
   "metadata": {},
   "outputs": [],
   "source": [
    "ypred_diffModelStacker = pd.DataFrame(columns = ['loan_default'],index = range(len(Test_ManipCompleted.index)))\n",
    "for i in range(len(Test_ManipCompleted)):\n",
    "    if(Test_ManipCompleted['manufacturer_id'][i]==86):\n",
    "        ypred_diffModelStacker['loan_default'][i] = LR3_86.predict(np.array(Test_ManipCompleted.iloc[i]).reshape(1,-1))\n",
    "    else:\n",
    "        ypred_diffModelStacker['loan_default'][i] = LR1_non86.predict(np.array(Test_ManipCompleted.iloc[i]).reshape(1,-1))"
   ]
  },
  {
   "cell_type": "code",
   "execution_count": 205,
   "metadata": {},
   "outputs": [
    {
     "data": {
      "text/html": [
       "<div>\n",
       "<style scoped>\n",
       "    .dataframe tbody tr th:only-of-type {\n",
       "        vertical-align: middle;\n",
       "    }\n",
       "\n",
       "    .dataframe tbody tr th {\n",
       "        vertical-align: top;\n",
       "    }\n",
       "\n",
       "    .dataframe thead th {\n",
       "        text-align: right;\n",
       "    }\n",
       "</style>\n",
       "<table border=\"1\" class=\"dataframe\">\n",
       "  <thead>\n",
       "    <tr style=\"text-align: right;\">\n",
       "      <th></th>\n",
       "      <th>loan_default</th>\n",
       "    </tr>\n",
       "  </thead>\n",
       "  <tbody>\n",
       "    <tr>\n",
       "      <th>0</th>\n",
       "      <td>[1]</td>\n",
       "    </tr>\n",
       "    <tr>\n",
       "      <th>1</th>\n",
       "      <td>[1]</td>\n",
       "    </tr>\n",
       "    <tr>\n",
       "      <th>2</th>\n",
       "      <td>[1]</td>\n",
       "    </tr>\n",
       "    <tr>\n",
       "      <th>3</th>\n",
       "      <td>[1]</td>\n",
       "    </tr>\n",
       "    <tr>\n",
       "      <th>4</th>\n",
       "      <td>[1]</td>\n",
       "    </tr>\n",
       "  </tbody>\n",
       "</table>\n",
       "</div>"
      ],
      "text/plain": [
       "  loan_default\n",
       "0          [1]\n",
       "1          [1]\n",
       "2          [1]\n",
       "3          [1]\n",
       "4          [1]"
      ]
     },
     "execution_count": 205,
     "metadata": {},
     "output_type": "execute_result"
    }
   ],
   "source": [
    "ypred_diffModelStacker.head()"
   ]
  },
  {
   "cell_type": "code",
   "execution_count": 206,
   "metadata": {},
   "outputs": [
    {
     "data": {
      "text/plain": [
       "112392"
      ]
     },
     "execution_count": 206,
     "metadata": {},
     "output_type": "execute_result"
    }
   ],
   "source": [
    "len(ypred_diffModelStacker)"
   ]
  },
  {
   "cell_type": "code",
   "execution_count": 207,
   "metadata": {},
   "outputs": [],
   "source": [
    "DiffModelStacker = pd.concat([Test_Data['UniqueID'],ypred_diffModelStacker],axis=1,ignore_index=True)"
   ]
  },
  {
   "cell_type": "code",
   "execution_count": 209,
   "metadata": {},
   "outputs": [],
   "source": [
    "DiffModelStacker.columns = ['UniqueID','loan_default']"
   ]
  },
  {
   "cell_type": "code",
   "execution_count": 211,
   "metadata": {},
   "outputs": [],
   "source": [
    "DiffModelStacker.to_csv(\"DiffModelStacker.csv\",index=False)"
   ]
  },
  {
   "cell_type": "markdown",
   "metadata": {},
   "source": [
    "# Finding Feature importance\n",
    "RF_feature_importances = pd.DataFrame(rf_model_1.feature_importances_,\n",
    "                                   index = train_x.columns,\n",
    "                                    columns=['importance']).sort_values('importance',ascending=False)"
   ]
  },
  {
   "cell_type": "markdown",
   "metadata": {},
   "source": [
    "# Function to % defaulted for each supplier\n",
    "def Supplier_DefaulterFinder(TotalDataFrame,tempDf_1=pd.DataFrame(),tempDf_2 =pd.DataFrame(),tempDf_3 = pd.DataFrame()):\n",
    "    tempDf_1 = pd.DataFrame(TotalDataFrame['supplier_id'].value_counts())\n",
    "    tempDf_1.reset_index(level=0, inplace=True)\n",
    "    tempDf_1.columns = ['supplier_id_1','TotalNoOfVehiclesSold']\n",
    "    tempDf_2 = pd.DataFrame(TotalDataFrame.groupby('supplier_id')['loan_default'].value_counts())\n",
    "    tempDf_2.reset_index(level=0, inplace=True)\n",
    "    tempDf_2.columns = ['supplier_id_2','NoOfDefaulted_Sales']\n",
    "    tempDf_2.reset_index(level=0, inplace=True)\n",
    "    tempDf_2 = tempDf_2[(tempDf_2['loan_default'] == 1)]\n",
    "    tempDf_1['supplier_id_1'] = tempDf_1['supplier_id_1'].astype('int')\n",
    "    tempDf_2['supplier_id_2'] = tempDf_2['supplier_id_2'].astype('int')\n",
    "    tempDf3 = pd.merge(tempDf_2, tempDf_1, how='right', on= ['supplier_id_2','supplier_id_1'],\n",
    "                       left_index=False, right_index=False)\n",
    "    tempDf3 = tempDf3[['supplier_id','TotalNoOfVehiclesSold','NoOfDefaulted_Sales']]\n",
    "    tempDf3['Defaults%_DueToSupplier'] = ((tempDf3['NoOfDefaulted_Sales'])/(tempDf3['TotalNoOfVehiclesSold']))*100\n",
    "    return tempDf3"
   ]
  },
  {
   "cell_type": "code",
   "execution_count": 74,
   "metadata": {},
   "outputs": [
    {
     "data": {
      "text/plain": [
       "Index(['UniqueID', 'disbursed_amount', 'asset_cost', 'ltv', 'branch_id',\n",
       "       'supplier_id', 'manufacturer_id', 'Current_pincode_ID', 'Date.of.Birth',\n",
       "       'Employment.Type', 'DisbursalDate', 'State_ID', 'Employee_code_ID',\n",
       "       'MobileNo_Avl_Flag', 'Aadhar_flag', 'PAN_flag', 'VoterID_flag',\n",
       "       'Driving_flag', 'Passport_flag', 'PERFORM_CNS.SCORE',\n",
       "       'PERFORM_CNS.SCORE.DESCRIPTION', 'PRI.NO.OF.ACCTS', 'PRI.ACTIVE.ACCTS',\n",
       "       'PRI.OVERDUE.ACCTS', 'PRI.CURRENT.BALANCE', 'PRI.SANCTIONED.AMOUNT',\n",
       "       'PRI.DISBURSED.AMOUNT', 'SEC.NO.OF.ACCTS', 'SEC.ACTIVE.ACCTS',\n",
       "       'SEC.OVERDUE.ACCTS', 'SEC.CURRENT.BALANCE', 'SEC.SANCTIONED.AMOUNT',\n",
       "       'SEC.DISBURSED.AMOUNT', 'PRIMARY.INSTAL.AMT', 'SEC.INSTAL.AMT',\n",
       "       'NEW.ACCTS.IN.LAST.SIX.MONTHS', 'DELINQUENT.ACCTS.IN.LAST.SIX.MONTHS',\n",
       "       'AVERAGE.ACCT.AGE', 'CREDIT.HISTORY.LENGTH', 'NO.OF_INQUIRIES'],\n",
       "      dtype='object')"
      ]
     },
     "execution_count": 74,
     "metadata": {},
     "output_type": "execute_result"
    }
   ],
   "source": [
    "Test_Data.columns"
   ]
  },
  {
   "cell_type": "code",
   "execution_count": 81,
   "metadata": {},
   "outputs": [],
   "source": [
    "Testpred_LR1 = LR1.predict(Test_ManipCompleted)\n",
    "Testpred_LR1_Submission = pd.concat([Test_Data['UniqueID'],pd.DataFrame(Testpred_LR1,columns = ['loan_default'])],axis =1)\n",
    "Testpred_LR2 = LR2.predict(Test_ManipCompleted)\n",
    "Testpred_LR2_Submission = pd.concat([Test_Data['UniqueID'],pd.DataFrame(Testpred_LR2,columns = ['loan_default'])],axis =1)"
   ]
  },
  {
   "cell_type": "code",
   "execution_count": 87,
   "metadata": {},
   "outputs": [
    {
     "data": {
      "text/html": [
       "<div>\n",
       "<style scoped>\n",
       "    .dataframe tbody tr th:only-of-type {\n",
       "        vertical-align: middle;\n",
       "    }\n",
       "\n",
       "    .dataframe tbody tr th {\n",
       "        vertical-align: top;\n",
       "    }\n",
       "\n",
       "    .dataframe thead th {\n",
       "        text-align: right;\n",
       "    }\n",
       "</style>\n",
       "<table border=\"1\" class=\"dataframe\">\n",
       "  <thead>\n",
       "    <tr style=\"text-align: right;\">\n",
       "      <th></th>\n",
       "      <th>UniqueID</th>\n",
       "      <th>loan_default</th>\n",
       "    </tr>\n",
       "  </thead>\n",
       "  <tbody>\n",
       "    <tr>\n",
       "      <th>0</th>\n",
       "      <td>655269</td>\n",
       "      <td>1</td>\n",
       "    </tr>\n",
       "    <tr>\n",
       "      <th>1</th>\n",
       "      <td>723482</td>\n",
       "      <td>0</td>\n",
       "    </tr>\n",
       "    <tr>\n",
       "      <th>2</th>\n",
       "      <td>758529</td>\n",
       "      <td>1</td>\n",
       "    </tr>\n",
       "    <tr>\n",
       "      <th>3</th>\n",
       "      <td>763449</td>\n",
       "      <td>1</td>\n",
       "    </tr>\n",
       "    <tr>\n",
       "      <th>4</th>\n",
       "      <td>708663</td>\n",
       "      <td>1</td>\n",
       "    </tr>\n",
       "  </tbody>\n",
       "</table>\n",
       "</div>"
      ],
      "text/plain": [
       "   UniqueID  loan_default\n",
       "0    655269             1\n",
       "1    723482             0\n",
       "2    758529             1\n",
       "3    763449             1\n",
       "4    708663             1"
      ]
     },
     "execution_count": 87,
     "metadata": {},
     "output_type": "execute_result"
    }
   ],
   "source": [
    "Testpred_LR1_Submission.head()"
   ]
  },
  {
   "cell_type": "code",
   "execution_count": 83,
   "metadata": {},
   "outputs": [
    {
     "data": {
      "text/html": [
       "<div>\n",
       "<style scoped>\n",
       "    .dataframe tbody tr th:only-of-type {\n",
       "        vertical-align: middle;\n",
       "    }\n",
       "\n",
       "    .dataframe tbody tr th {\n",
       "        vertical-align: top;\n",
       "    }\n",
       "\n",
       "    .dataframe thead th {\n",
       "        text-align: right;\n",
       "    }\n",
       "</style>\n",
       "<table border=\"1\" class=\"dataframe\">\n",
       "  <thead>\n",
       "    <tr style=\"text-align: right;\">\n",
       "      <th></th>\n",
       "      <th>UniqueID</th>\n",
       "      <th>loan_default</th>\n",
       "    </tr>\n",
       "  </thead>\n",
       "  <tbody>\n",
       "    <tr>\n",
       "      <th>0</th>\n",
       "      <td>655269</td>\n",
       "      <td>1</td>\n",
       "    </tr>\n",
       "    <tr>\n",
       "      <th>1</th>\n",
       "      <td>723482</td>\n",
       "      <td>1</td>\n",
       "    </tr>\n",
       "    <tr>\n",
       "      <th>2</th>\n",
       "      <td>758529</td>\n",
       "      <td>1</td>\n",
       "    </tr>\n",
       "    <tr>\n",
       "      <th>3</th>\n",
       "      <td>763449</td>\n",
       "      <td>1</td>\n",
       "    </tr>\n",
       "    <tr>\n",
       "      <th>4</th>\n",
       "      <td>708663</td>\n",
       "      <td>1</td>\n",
       "    </tr>\n",
       "  </tbody>\n",
       "</table>\n",
       "</div>"
      ],
      "text/plain": [
       "   UniqueID  loan_default\n",
       "0    655269             1\n",
       "1    723482             1\n",
       "2    758529             1\n",
       "3    763449             1\n",
       "4    708663             1"
      ]
     },
     "execution_count": 83,
     "metadata": {},
     "output_type": "execute_result"
    }
   ],
   "source": [
    "Testpred_LR2_Submission.head()"
   ]
  },
  {
   "cell_type": "code",
   "execution_count": 85,
   "metadata": {},
   "outputs": [],
   "source": [
    "Testpred_LR1_Submission.reset_index(drop=True,inplace=True)\n",
    "Testpred_LR2_Submission.reset_index(drop=True,inplace=True)"
   ]
  },
  {
   "cell_type": "code",
   "execution_count": 86,
   "metadata": {},
   "outputs": [],
   "source": [
    "Testpred_LR1_Submission.to_csv(\"Testpred_LR1_Submission.csv\")\n",
    "Testpred_LR2_Submission.to_csv(\"Testpred_LR2_Submission.csv\")"
   ]
  },
  {
   "cell_type": "code",
   "execution_count": 91,
   "metadata": {},
   "outputs": [],
   "source": [
    "Testpred_DT3 = DT3.predict(Test_ManipCompleted)\n",
    "Testpred_DT3_Submission = pd.concat([Test_Data['UniqueID'],pd.DataFrame(Testpred_DT3,columns = ['loan_default'])],axis =1)\n",
    "Testpred_DT3_Submission.reset_index(drop=True, inplace=True)\n",
    "Testpred_DT3_Submission.to_csv(\"Testpred_DT3_Submission.csv\")"
   ]
  },
  {
   "cell_type": "code",
   "execution_count": 96,
   "metadata": {},
   "outputs": [],
   "source": [
    "Testpred_KNN2 = KNN2.predict(Test_ManipCompleted)"
   ]
  },
  {
   "cell_type": "code",
   "execution_count": 103,
   "metadata": {},
   "outputs": [],
   "source": [
    "Testpred_KNN2_Submission = pd.concat([Test_Data['UniqueID'],pd.DataFrame(Testpred_KNN2,columns = ['loan_default'])],axis =1)"
   ]
  },
  {
   "cell_type": "code",
   "execution_count": 104,
   "metadata": {},
   "outputs": [
    {
     "data": {
      "text/html": [
       "<div>\n",
       "<style scoped>\n",
       "    .dataframe tbody tr th:only-of-type {\n",
       "        vertical-align: middle;\n",
       "    }\n",
       "\n",
       "    .dataframe tbody tr th {\n",
       "        vertical-align: top;\n",
       "    }\n",
       "\n",
       "    .dataframe thead th {\n",
       "        text-align: right;\n",
       "    }\n",
       "</style>\n",
       "<table border=\"1\" class=\"dataframe\">\n",
       "  <thead>\n",
       "    <tr style=\"text-align: right;\">\n",
       "      <th></th>\n",
       "      <th>UniqueID</th>\n",
       "      <th>loan_default</th>\n",
       "    </tr>\n",
       "  </thead>\n",
       "  <tbody>\n",
       "    <tr>\n",
       "      <th>0</th>\n",
       "      <td>655269</td>\n",
       "      <td>0</td>\n",
       "    </tr>\n",
       "    <tr>\n",
       "      <th>1</th>\n",
       "      <td>723482</td>\n",
       "      <td>1</td>\n",
       "    </tr>\n",
       "    <tr>\n",
       "      <th>2</th>\n",
       "      <td>758529</td>\n",
       "      <td>0</td>\n",
       "    </tr>\n",
       "    <tr>\n",
       "      <th>3</th>\n",
       "      <td>763449</td>\n",
       "      <td>0</td>\n",
       "    </tr>\n",
       "    <tr>\n",
       "      <th>4</th>\n",
       "      <td>708663</td>\n",
       "      <td>1</td>\n",
       "    </tr>\n",
       "  </tbody>\n",
       "</table>\n",
       "</div>"
      ],
      "text/plain": [
       "   UniqueID  loan_default\n",
       "0    655269             0\n",
       "1    723482             1\n",
       "2    758529             0\n",
       "3    763449             0\n",
       "4    708663             1"
      ]
     },
     "execution_count": 104,
     "metadata": {},
     "output_type": "execute_result"
    }
   ],
   "source": [
    "Testpred_KNN2_Submission.head()"
   ]
  },
  {
   "cell_type": "code",
   "execution_count": 107,
   "metadata": {},
   "outputs": [],
   "source": [
    "#Testpred_KNN2_Submission = pd.concat([Test_Data['UniqueID'],pd.DataFrame(Testpred_KNN2,columns = ['loan_default'])],axis =1)\n",
    "Testpred_KNN2_Submission = Testpred_KNN2_Submission.reset_index(drop=True)\n",
    "Testpred_KNN2_Submission.to_csv(\"Testpred_KNN2_Submission.csv\")"
   ]
  },
  {
   "cell_type": "code",
   "execution_count": 106,
   "metadata": {},
   "outputs": [
    {
     "data": {
      "text/html": [
       "<div>\n",
       "<style scoped>\n",
       "    .dataframe tbody tr th:only-of-type {\n",
       "        vertical-align: middle;\n",
       "    }\n",
       "\n",
       "    .dataframe tbody tr th {\n",
       "        vertical-align: top;\n",
       "    }\n",
       "\n",
       "    .dataframe thead th {\n",
       "        text-align: right;\n",
       "    }\n",
       "</style>\n",
       "<table border=\"1\" class=\"dataframe\">\n",
       "  <thead>\n",
       "    <tr style=\"text-align: right;\">\n",
       "      <th></th>\n",
       "      <th>UniqueID</th>\n",
       "      <th>loan_default</th>\n",
       "    </tr>\n",
       "  </thead>\n",
       "  <tbody>\n",
       "    <tr>\n",
       "      <th>0</th>\n",
       "      <td>655269</td>\n",
       "      <td>0</td>\n",
       "    </tr>\n",
       "    <tr>\n",
       "      <th>1</th>\n",
       "      <td>723482</td>\n",
       "      <td>1</td>\n",
       "    </tr>\n",
       "    <tr>\n",
       "      <th>2</th>\n",
       "      <td>758529</td>\n",
       "      <td>0</td>\n",
       "    </tr>\n",
       "    <tr>\n",
       "      <th>3</th>\n",
       "      <td>763449</td>\n",
       "      <td>0</td>\n",
       "    </tr>\n",
       "    <tr>\n",
       "      <th>4</th>\n",
       "      <td>708663</td>\n",
       "      <td>1</td>\n",
       "    </tr>\n",
       "  </tbody>\n",
       "</table>\n",
       "</div>"
      ],
      "text/plain": [
       "   UniqueID  loan_default\n",
       "0    655269             0\n",
       "1    723482             1\n",
       "2    758529             0\n",
       "3    763449             0\n",
       "4    708663             1"
      ]
     },
     "execution_count": 106,
     "metadata": {},
     "output_type": "execute_result"
    }
   ],
   "source": [
    "Testpred_KNN2_Submission.head()"
   ]
  },
  {
   "cell_type": "code",
   "execution_count": 109,
   "metadata": {},
   "outputs": [],
   "source": [
    "# Stacker\n",
    "\n",
    "StackerPred = pd.merge(Testpred_LR1_Submission,Testpred_LR2_Submission,how='inner',left_on='UniqueID',right_on='UniqueID')"
   ]
  },
  {
   "cell_type": "code",
   "execution_count": 110,
   "metadata": {},
   "outputs": [
    {
     "name": "stdout",
     "output_type": "stream",
     "text": [
      "112392\n",
      "112392\n"
     ]
    }
   ],
   "source": [
    "print(len(Testpred_LR1_Submission))\n",
    "print(len(StackerPred))"
   ]
  },
  {
   "cell_type": "code",
   "execution_count": 111,
   "metadata": {},
   "outputs": [
    {
     "data": {
      "text/html": [
       "<div>\n",
       "<style scoped>\n",
       "    .dataframe tbody tr th:only-of-type {\n",
       "        vertical-align: middle;\n",
       "    }\n",
       "\n",
       "    .dataframe tbody tr th {\n",
       "        vertical-align: top;\n",
       "    }\n",
       "\n",
       "    .dataframe thead th {\n",
       "        text-align: right;\n",
       "    }\n",
       "</style>\n",
       "<table border=\"1\" class=\"dataframe\">\n",
       "  <thead>\n",
       "    <tr style=\"text-align: right;\">\n",
       "      <th></th>\n",
       "      <th>UniqueID</th>\n",
       "      <th>loan_default_x</th>\n",
       "      <th>loan_default_y</th>\n",
       "    </tr>\n",
       "  </thead>\n",
       "  <tbody>\n",
       "    <tr>\n",
       "      <th>0</th>\n",
       "      <td>655269</td>\n",
       "      <td>1</td>\n",
       "      <td>1</td>\n",
       "    </tr>\n",
       "    <tr>\n",
       "      <th>1</th>\n",
       "      <td>723482</td>\n",
       "      <td>0</td>\n",
       "      <td>1</td>\n",
       "    </tr>\n",
       "    <tr>\n",
       "      <th>2</th>\n",
       "      <td>758529</td>\n",
       "      <td>1</td>\n",
       "      <td>1</td>\n",
       "    </tr>\n",
       "    <tr>\n",
       "      <th>3</th>\n",
       "      <td>763449</td>\n",
       "      <td>1</td>\n",
       "      <td>1</td>\n",
       "    </tr>\n",
       "    <tr>\n",
       "      <th>4</th>\n",
       "      <td>708663</td>\n",
       "      <td>1</td>\n",
       "      <td>1</td>\n",
       "    </tr>\n",
       "  </tbody>\n",
       "</table>\n",
       "</div>"
      ],
      "text/plain": [
       "   UniqueID  loan_default_x  loan_default_y\n",
       "0    655269               1               1\n",
       "1    723482               0               1\n",
       "2    758529               1               1\n",
       "3    763449               1               1\n",
       "4    708663               1               1"
      ]
     },
     "execution_count": 111,
     "metadata": {},
     "output_type": "execute_result"
    }
   ],
   "source": [
    "StackerPred.head()"
   ]
  },
  {
   "cell_type": "code",
   "execution_count": 112,
   "metadata": {},
   "outputs": [],
   "source": [
    "StackerPred_final = pd.merge(StackerPred,Testpred_KNN2_Submission,how='inner',left_on='UniqueID',right_on='UniqueID')"
   ]
  },
  {
   "cell_type": "code",
   "execution_count": 115,
   "metadata": {},
   "outputs": [],
   "source": [
    "StackerPred_final.columns = ['UniqueID', 'loan_default_LR1', 'loan_default_LR2', 'loan_default_KNN2']"
   ]
  },
  {
   "cell_type": "code",
   "execution_count": 116,
   "metadata": {},
   "outputs": [
    {
     "data": {
      "text/html": [
       "<div>\n",
       "<style scoped>\n",
       "    .dataframe tbody tr th:only-of-type {\n",
       "        vertical-align: middle;\n",
       "    }\n",
       "\n",
       "    .dataframe tbody tr th {\n",
       "        vertical-align: top;\n",
       "    }\n",
       "\n",
       "    .dataframe thead th {\n",
       "        text-align: right;\n",
       "    }\n",
       "</style>\n",
       "<table border=\"1\" class=\"dataframe\">\n",
       "  <thead>\n",
       "    <tr style=\"text-align: right;\">\n",
       "      <th></th>\n",
       "      <th>UniqueID</th>\n",
       "      <th>loan_default_LR1</th>\n",
       "      <th>loan_default_LR2</th>\n",
       "      <th>loan_default_KNN2</th>\n",
       "    </tr>\n",
       "  </thead>\n",
       "  <tbody>\n",
       "    <tr>\n",
       "      <th>0</th>\n",
       "      <td>655269</td>\n",
       "      <td>1</td>\n",
       "      <td>1</td>\n",
       "      <td>0</td>\n",
       "    </tr>\n",
       "    <tr>\n",
       "      <th>1</th>\n",
       "      <td>723482</td>\n",
       "      <td>0</td>\n",
       "      <td>1</td>\n",
       "      <td>1</td>\n",
       "    </tr>\n",
       "    <tr>\n",
       "      <th>2</th>\n",
       "      <td>758529</td>\n",
       "      <td>1</td>\n",
       "      <td>1</td>\n",
       "      <td>0</td>\n",
       "    </tr>\n",
       "    <tr>\n",
       "      <th>3</th>\n",
       "      <td>763449</td>\n",
       "      <td>1</td>\n",
       "      <td>1</td>\n",
       "      <td>0</td>\n",
       "    </tr>\n",
       "    <tr>\n",
       "      <th>4</th>\n",
       "      <td>708663</td>\n",
       "      <td>1</td>\n",
       "      <td>1</td>\n",
       "      <td>1</td>\n",
       "    </tr>\n",
       "  </tbody>\n",
       "</table>\n",
       "</div>"
      ],
      "text/plain": [
       "   UniqueID  loan_default_LR1  loan_default_LR2  loan_default_KNN2\n",
       "0    655269                 1                 1                  0\n",
       "1    723482                 0                 1                  1\n",
       "2    758529                 1                 1                  0\n",
       "3    763449                 1                 1                  0\n",
       "4    708663                 1                 1                  1"
      ]
     },
     "execution_count": 116,
     "metadata": {},
     "output_type": "execute_result"
    }
   ],
   "source": [
    "StackerPred_final.head()"
   ]
  },
  {
   "cell_type": "code",
   "execution_count": 117,
   "metadata": {
    "scrolled": true
   },
   "outputs": [
    {
     "data": {
      "text/plain": [
       "1"
      ]
     },
     "execution_count": 117,
     "metadata": {},
     "output_type": "execute_result"
    }
   ],
   "source": [
    "max(StackerPred_final['loan_default_LR1'][1],StackerPred_final['loan_default_LR2'][1],StackerPred_final['loan_default_KNN2'][1])"
   ]
  },
  {
   "cell_type": "code",
   "execution_count": 126,
   "metadata": {},
   "outputs": [
    {
     "data": {
      "text/plain": [
       "1"
      ]
     },
     "execution_count": 126,
     "metadata": {},
     "output_type": "execute_result"
    }
   ],
   "source": [
    "max(StackerPred_final.iloc[1][[1,2,3]])"
   ]
  },
  {
   "cell_type": "markdown",
   "metadata": {},
   "source": [
    "Just_List = pd.DataFrame(columns = ['UniqueID','loan_default_stacker'])\n",
    "for i in range(len(StackerPred_final)):\n",
    "    Just_List['UniqueID'][i] = StackerPred_final['UniqueID'][i]\n",
    "    Just_List['loan_default_stacker'][i] = max(StackerPred_final['loan_default_LR1'][i],StackerPred_final['loan_default_LR2'][i],StackerPred_final['loan_default_KNN2'][i])"
   ]
  },
  {
   "cell_type": "code",
   "execution_count": 133,
   "metadata": {},
   "outputs": [],
   "source": [
    "def max_finder(DataFrame,new_list = []):\n",
    "    for i in range(len(DataFrame)):\n",
    "        new_list.append(max(DataFrame.iloc[i][[1,2,3]]))\n",
    "    return new_list"
   ]
  },
  {
   "cell_type": "code",
   "execution_count": 143,
   "metadata": {},
   "outputs": [],
   "source": [
    "for index_label, row_series in StackerPred_final.iterrows():\n",
    "   # For each row update the 'Bonus' value to it's double\n",
    "   StackerPred_final.at[index_label , 'loan_default'] = max(row_series[['loan_default_LR1','loan_default_LR2','loan_default_KNN2']])"
   ]
  },
  {
   "cell_type": "code",
   "execution_count": 145,
   "metadata": {},
   "outputs": [],
   "source": [
    "StackerPred_final['loan_default'] = StackerPred_final['loan_default'].astype('int')"
   ]
  },
  {
   "cell_type": "code",
   "execution_count": 146,
   "metadata": {},
   "outputs": [
    {
     "data": {
      "text/html": [
       "<div>\n",
       "<style scoped>\n",
       "    .dataframe tbody tr th:only-of-type {\n",
       "        vertical-align: middle;\n",
       "    }\n",
       "\n",
       "    .dataframe tbody tr th {\n",
       "        vertical-align: top;\n",
       "    }\n",
       "\n",
       "    .dataframe thead th {\n",
       "        text-align: right;\n",
       "    }\n",
       "</style>\n",
       "<table border=\"1\" class=\"dataframe\">\n",
       "  <thead>\n",
       "    <tr style=\"text-align: right;\">\n",
       "      <th></th>\n",
       "      <th>UniqueID</th>\n",
       "      <th>loan_default_LR1</th>\n",
       "      <th>loan_default_LR2</th>\n",
       "      <th>loan_default_KNN2</th>\n",
       "      <th>loan_default</th>\n",
       "    </tr>\n",
       "  </thead>\n",
       "  <tbody>\n",
       "    <tr>\n",
       "      <th>0</th>\n",
       "      <td>655269</td>\n",
       "      <td>1</td>\n",
       "      <td>1</td>\n",
       "      <td>0</td>\n",
       "      <td>1</td>\n",
       "    </tr>\n",
       "    <tr>\n",
       "      <th>1</th>\n",
       "      <td>723482</td>\n",
       "      <td>0</td>\n",
       "      <td>1</td>\n",
       "      <td>1</td>\n",
       "      <td>1</td>\n",
       "    </tr>\n",
       "    <tr>\n",
       "      <th>2</th>\n",
       "      <td>758529</td>\n",
       "      <td>1</td>\n",
       "      <td>1</td>\n",
       "      <td>0</td>\n",
       "      <td>1</td>\n",
       "    </tr>\n",
       "    <tr>\n",
       "      <th>3</th>\n",
       "      <td>763449</td>\n",
       "      <td>1</td>\n",
       "      <td>1</td>\n",
       "      <td>0</td>\n",
       "      <td>1</td>\n",
       "    </tr>\n",
       "    <tr>\n",
       "      <th>4</th>\n",
       "      <td>708663</td>\n",
       "      <td>1</td>\n",
       "      <td>1</td>\n",
       "      <td>1</td>\n",
       "      <td>1</td>\n",
       "    </tr>\n",
       "  </tbody>\n",
       "</table>\n",
       "</div>"
      ],
      "text/plain": [
       "   UniqueID  loan_default_LR1  loan_default_LR2  loan_default_KNN2  \\\n",
       "0    655269                 1                 1                  0   \n",
       "1    723482                 0                 1                  1   \n",
       "2    758529                 1                 1                  0   \n",
       "3    763449                 1                 1                  0   \n",
       "4    708663                 1                 1                  1   \n",
       "\n",
       "   loan_default  \n",
       "0             1  \n",
       "1             1  \n",
       "2             1  \n",
       "3             1  \n",
       "4             1  "
      ]
     },
     "execution_count": 146,
     "metadata": {},
     "output_type": "execute_result"
    }
   ],
   "source": [
    "StackerPred_final.head()"
   ]
  },
  {
   "cell_type": "code",
   "execution_count": 147,
   "metadata": {},
   "outputs": [],
   "source": [
    "StackerPred_Submission = StackerPred_final[['UniqueID','loan_default']]"
   ]
  },
  {
   "cell_type": "code",
   "execution_count": 148,
   "metadata": {},
   "outputs": [
    {
     "data": {
      "text/plain": [
       "112392"
      ]
     },
     "execution_count": 148,
     "metadata": {},
     "output_type": "execute_result"
    }
   ],
   "source": [
    "len(StackerPred_Submission)"
   ]
  },
  {
   "cell_type": "code",
   "execution_count": 149,
   "metadata": {},
   "outputs": [],
   "source": [
    "StackerPred_Submission.to_csv(\"StackerPred_Submission.csv\",index=False)"
   ]
  },
  {
   "cell_type": "code",
   "execution_count": 136,
   "metadata": {},
   "outputs": [],
   "source": [
    "justlist = max_finder(StackerPred_final)"
   ]
  },
  {
   "cell_type": "code",
   "execution_count": 137,
   "metadata": {},
   "outputs": [
    {
     "data": {
      "text/plain": [
       "337176"
      ]
     },
     "execution_count": 137,
     "metadata": {},
     "output_type": "execute_result"
    }
   ],
   "source": [
    "len(justlist)"
   ]
  },
  {
   "cell_type": "code",
   "execution_count": 138,
   "metadata": {},
   "outputs": [
    {
     "data": {
      "text/plain": [
       "112392"
      ]
     },
     "execution_count": 138,
     "metadata": {},
     "output_type": "execute_result"
    }
   ],
   "source": [
    "len(StackerPred_final)"
   ]
  },
  {
   "cell_type": "code",
   "execution_count": null,
   "metadata": {},
   "outputs": [],
   "source": []
  }
 ],
 "metadata": {
  "kernelspec": {
   "display_name": "Python 3",
   "language": "python",
   "name": "python3"
  },
  "language_info": {
   "codemirror_mode": {
    "name": "ipython",
    "version": 3
   },
   "file_extension": ".py",
   "mimetype": "text/x-python",
   "name": "python",
   "nbconvert_exporter": "python",
   "pygments_lexer": "ipython3",
   "version": "3.7.1"
  }
 },
 "nbformat": 4,
 "nbformat_minor": 2
}
