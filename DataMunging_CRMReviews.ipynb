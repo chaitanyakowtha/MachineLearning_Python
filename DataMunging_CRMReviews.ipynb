{
 "cells": [
  {
   "cell_type": "code",
   "execution_count": 1,
   "metadata": {},
   "outputs": [],
   "source": [
    "import pandas as pd"
   ]
  },
  {
   "cell_type": "code",
   "execution_count": 3,
   "metadata": {},
   "outputs": [],
   "source": [
    "Dynamics365_data1 = pd.read_csv(\"Dynamics365_AllReviews.csv\")"
   ]
  },
  {
   "cell_type": "code",
   "execution_count": 4,
   "metadata": {},
   "outputs": [],
   "source": [
    "Dynamics365_data2 = pd.read_csv(\"Dynamics365_First100Reviews.csv\")"
   ]
  },
  {
   "cell_type": "code",
   "execution_count": 5,
   "metadata": {},
   "outputs": [
    {
     "data": {
      "text/plain": [
       "Index(['Main_comment', 'Reviewed_On', 'Reviewer_name', 'Reviewer_Role',\n",
       "       'Reviewer_Department_company', 'Review_Comments'],\n",
       "      dtype='object')"
      ]
     },
     "execution_count": 5,
     "metadata": {},
     "output_type": "execute_result"
    }
   ],
   "source": [
    "Dynamics365_data1.columns"
   ]
  },
  {
   "cell_type": "code",
   "execution_count": 6,
   "metadata": {},
   "outputs": [
    {
     "data": {
      "text/plain": [
       "2753"
      ]
     },
     "execution_count": 6,
     "metadata": {},
     "output_type": "execute_result"
    }
   ],
   "source": [
    "len(Dynamics365_data1['Reviewed_On'])"
   ]
  },
  {
   "cell_type": "code",
   "execution_count": 7,
   "metadata": {},
   "outputs": [
    {
     "data": {
      "text/plain": [
       "100"
      ]
     },
     "execution_count": 7,
     "metadata": {},
     "output_type": "execute_result"
    }
   ],
   "source": [
    "len(Dynamics365_data2['Reviewed_On'])"
   ]
  },
  {
   "cell_type": "code",
   "execution_count": 8,
   "metadata": {},
   "outputs": [],
   "source": [
    "Dynamics365_data = Dynamics365_data2.append(Dynamics365_data1)"
   ]
  },
  {
   "cell_type": "code",
   "execution_count": 9,
   "metadata": {},
   "outputs": [
    {
     "data": {
      "text/plain": [
       "2853"
      ]
     },
     "execution_count": 9,
     "metadata": {},
     "output_type": "execute_result"
    }
   ],
   "source": [
    "len(Dynamics365_data['Reviewed_On'])"
   ]
  },
  {
   "cell_type": "code",
   "execution_count": 47,
   "metadata": {},
   "outputs": [],
   "source": [
    "SalesForce_data1 = pd.read_csv(\"SalesForce_First50 Reviews.csv\")"
   ]
  },
  {
   "cell_type": "code",
   "execution_count": 48,
   "metadata": {},
   "outputs": [],
   "source": [
    "SalesForce_data2 = pd.read_csv(\"SalesForce_AllReviews.csv\")"
   ]
  },
  {
   "cell_type": "code",
   "execution_count": 49,
   "metadata": {},
   "outputs": [
    {
     "name": "stdout",
     "output_type": "stream",
     "text": [
      "50\n",
      "9859\n"
     ]
    }
   ],
   "source": [
    "print(len(SalesForce_data1['Reviewed_On']))\n",
    "print(len(SalesForce_data2['Reviewed_On']))"
   ]
  },
  {
   "cell_type": "code",
   "execution_count": 50,
   "metadata": {},
   "outputs": [
    {
     "name": "stdout",
     "output_type": "stream",
     "text": [
      "Index(['Main_comment', 'Reviewed_On', 'Reviewer_name', 'Reviewer_Role',\n",
      "       'Reviewer_Department_company', 'Review_Comments'],\n",
      "      dtype='object')\n",
      "Index(['Main_comment', 'Reviewed_On', 'Reviewer_name', 'Reviewer_Role',\n",
      "       'Type_of_Company ', 'Review_Comments'],\n",
      "      dtype='object')\n"
     ]
    }
   ],
   "source": [
    "print(SalesForce_data1.columns)\n",
    "print(SalesForce_data2.columns)"
   ]
  },
  {
   "cell_type": "code",
   "execution_count": 59,
   "metadata": {},
   "outputs": [],
   "source": [
    "SalesForce_data2.columns = ['Main_comment', 'Reviewed_On', 'Reviewer_name', 'Reviewer_Role',\n",
    "       'Reviewer_Department_company', 'Review_Comments']"
   ]
  },
  {
   "cell_type": "code",
   "execution_count": 60,
   "metadata": {},
   "outputs": [
    {
     "data": {
      "text/html": [
       "<div>\n",
       "<style scoped>\n",
       "    .dataframe tbody tr th:only-of-type {\n",
       "        vertical-align: middle;\n",
       "    }\n",
       "\n",
       "    .dataframe tbody tr th {\n",
       "        vertical-align: top;\n",
       "    }\n",
       "\n",
       "    .dataframe thead th {\n",
       "        text-align: right;\n",
       "    }\n",
       "</style>\n",
       "<table border=\"1\" class=\"dataframe\">\n",
       "  <thead>\n",
       "    <tr style=\"text-align: right;\">\n",
       "      <th></th>\n",
       "      <th>Main_comment</th>\n",
       "      <th>Reviewed_On</th>\n",
       "      <th>Reviewer_name</th>\n",
       "      <th>Reviewer_Role</th>\n",
       "      <th>Reviewer_Department_company</th>\n",
       "      <th>Review_Comments</th>\n",
       "    </tr>\n",
       "  </thead>\n",
       "  <tbody>\n",
       "    <tr>\n",
       "      <th>0</th>\n",
       "      <td>A standard in the sales software</td>\n",
       "      <td>\\r\\n            Sep 24, 2018\\r\\n</td>\n",
       "      <td>Cami K.</td>\n",
       "      <td>Test Lead</td>\n",
       "      <td>\\r\\n                Construction, 501-1000 emp...</td>\n",
       "      <td>The related lists and hover over hotlinks to ...</td>\n",
       "    </tr>\n",
       "    <tr>\n",
       "      <th>1</th>\n",
       "      <td>Creative Implementation of Salesforce</td>\n",
       "      <td>\\r\\n            Nov 03, 2016\\r\\n</td>\n",
       "      <td>Ruth B.</td>\n",
       "      <td>Director</td>\n",
       "      <td>\\r\\n                Retail, 1-10 employees\\r\\n...</td>\n",
       "      <td>I'm a few standard deviations away from what I...</td>\n",
       "    </tr>\n",
       "    <tr>\n",
       "      <th>2</th>\n",
       "      <td>Great product which holds great promise but wi...</td>\n",
       "      <td>\\r\\n            Aug 21, 2018\\r\\n</td>\n",
       "      <td>Verified Reviewer</td>\n",
       "      <td>NaN</td>\n",
       "      <td>\\r\\n                Civic &amp; Social Organizatio...</td>\n",
       "      <td>There are several amazing features in Salesfo...</td>\n",
       "    </tr>\n",
       "    <tr>\n",
       "      <th>3</th>\n",
       "      <td>Salesforce is a life force for my business</td>\n",
       "      <td>\\r\\n            Dec 06, 2018\\r\\n</td>\n",
       "      <td>Verified Reviewer</td>\n",
       "      <td>NaN</td>\n",
       "      <td>\\r\\n                Marketing and Advertising,...</td>\n",
       "      <td>It's hard for me to remember a time when I di...</td>\n",
       "    </tr>\n",
       "    <tr>\n",
       "      <th>4</th>\n",
       "      <td>Salesforce can be customized to fit the organi...</td>\n",
       "      <td>\\r\\n            Feb 28, 2018\\r\\n</td>\n",
       "      <td>Becky R.</td>\n",
       "      <td>CRM &amp; CMS Management</td>\n",
       "      <td>\\r\\n                Internet\\r\\n</td>\n",
       "      <td>Almost everything can be customized to fit th...</td>\n",
       "    </tr>\n",
       "  </tbody>\n",
       "</table>\n",
       "</div>"
      ],
      "text/plain": [
       "                                        Main_comment  \\\n",
       "0                   A standard in the sales software   \n",
       "1              Creative Implementation of Salesforce   \n",
       "2  Great product which holds great promise but wi...   \n",
       "3         Salesforce is a life force for my business   \n",
       "4  Salesforce can be customized to fit the organi...   \n",
       "\n",
       "                                  Reviewed_On      Reviewer_name  \\\n",
       "0  \\r\\n            Sep 24, 2018\\r\\n                      Cami K.   \n",
       "1  \\r\\n            Nov 03, 2016\\r\\n                      Ruth B.   \n",
       "2  \\r\\n            Aug 21, 2018\\r\\n            Verified Reviewer   \n",
       "3  \\r\\n            Dec 06, 2018\\r\\n            Verified Reviewer   \n",
       "4  \\r\\n            Feb 28, 2018\\r\\n                     Becky R.   \n",
       "\n",
       "          Reviewer_Role                        Reviewer_Department_company  \\\n",
       "0             Test Lead  \\r\\n                Construction, 501-1000 emp...   \n",
       "1              Director  \\r\\n                Retail, 1-10 employees\\r\\n...   \n",
       "2                   NaN  \\r\\n                Civic & Social Organizatio...   \n",
       "3                   NaN  \\r\\n                Marketing and Advertising,...   \n",
       "4  CRM & CMS Management     \\r\\n                Internet\\r\\n                 \n",
       "\n",
       "                                     Review_Comments  \n",
       "0   The related lists and hover over hotlinks to ...  \n",
       "1  I'm a few standard deviations away from what I...  \n",
       "2   There are several amazing features in Salesfo...  \n",
       "3   It's hard for me to remember a time when I di...  \n",
       "4   Almost everything can be customized to fit th...  "
      ]
     },
     "execution_count": 60,
     "metadata": {},
     "output_type": "execute_result"
    }
   ],
   "source": [
    "SalesForce_data2.head()"
   ]
  },
  {
   "cell_type": "code",
   "execution_count": 61,
   "metadata": {},
   "outputs": [],
   "source": [
    "SalesForce_data = SalesForce_data1.append(SalesForce_data2)"
   ]
  },
  {
   "cell_type": "code",
   "execution_count": 62,
   "metadata": {},
   "outputs": [
    {
     "data": {
      "text/plain": [
       "Index(['Main_comment', 'Reviewed_On', 'Reviewer_name', 'Reviewer_Role',\n",
       "       'Reviewer_Department_company', 'Review_Comments'],\n",
       "      dtype='object')"
      ]
     },
     "execution_count": 62,
     "metadata": {},
     "output_type": "execute_result"
    }
   ],
   "source": [
    "SalesForce_data.columns"
   ]
  },
  {
   "cell_type": "code",
   "execution_count": 63,
   "metadata": {},
   "outputs": [
    {
     "data": {
      "text/plain": [
       "9909"
      ]
     },
     "execution_count": 63,
     "metadata": {},
     "output_type": "execute_result"
    }
   ],
   "source": [
    "len(SalesForce_data)"
   ]
  },
  {
   "cell_type": "code",
   "execution_count": 15,
   "metadata": {},
   "outputs": [],
   "source": [
    "HubSpot_data1 = pd.read_csv(\"HubSpot_First.csv\")"
   ]
  },
  {
   "cell_type": "code",
   "execution_count": 16,
   "metadata": {},
   "outputs": [],
   "source": [
    "HubSpot_data2 = pd.read_csv(\"HubSpot_AllReviews.csv\")"
   ]
  },
  {
   "cell_type": "code",
   "execution_count": 17,
   "metadata": {},
   "outputs": [
    {
     "name": "stdout",
     "output_type": "stream",
     "text": [
      "100\n",
      "1608\n"
     ]
    }
   ],
   "source": [
    "print(len(HubSpot_data1))\n",
    "print(len(HubSpot_data2))"
   ]
  },
  {
   "cell_type": "code",
   "execution_count": 18,
   "metadata": {},
   "outputs": [],
   "source": [
    "HubSpot_data = HubSpot_data1.append(HubSpot_data2)"
   ]
  },
  {
   "cell_type": "code",
   "execution_count": 19,
   "metadata": {},
   "outputs": [
    {
     "data": {
      "text/plain": [
       "1708"
      ]
     },
     "execution_count": 19,
     "metadata": {},
     "output_type": "execute_result"
    }
   ],
   "source": [
    "len(HubSpot_data)"
   ]
  },
  {
   "cell_type": "code",
   "execution_count": 23,
   "metadata": {},
   "outputs": [],
   "source": [
    "Sap_data = pd.read_csv(\"SAP_AllReviews.csv\")\n",
    "SugarCRM_data = pd.read_csv(\"SugarCRM_AllReviews.csv\")\n",
    "Zoho_data = pd.read_csv(\"Zoho_AllReviews.csv\")"
   ]
  },
  {
   "cell_type": "code",
   "execution_count": 54,
   "metadata": {},
   "outputs": [
    {
     "name": "stdout",
     "output_type": "stream",
     "text": [
      "Number of Dynamics 365 Reviews available:  2853\n",
      "Number of SalesForce Reviews available:  9909\n",
      "Number of HubSpot Reviews available:  1708\n",
      "Number of SAP Reviews available:  120\n",
      "Number of SugarCRM Reviews available:  281\n",
      "Number of ZOHO Reviews available:  1700\n"
     ]
    }
   ],
   "source": [
    "print(\"Number of Dynamics 365 Reviews available: \", len(Dynamics365_data))\n",
    "print(\"Number of SalesForce Reviews available: \", len(SalesForce_data))\n",
    "print(\"Number of HubSpot Reviews available: \", len(HubSpot_data))\n",
    "print(\"Number of SAP Reviews available: \", len(Sap_data))\n",
    "print(\"Number of SugarCRM Reviews available: \", len(SugarCRM_data))\n",
    "print(\"Number of ZOHO Reviews available: \", len(Zoho_data))"
   ]
  },
  {
   "cell_type": "code",
   "execution_count": 65,
   "metadata": {},
   "outputs": [
    {
     "name": "stdout",
     "output_type": "stream",
     "text": [
      "Number of missing values in Dynamics 365 Reviews:\n",
      " Main_comment                     62\n",
      "Reviewed_On                       0\n",
      "Reviewer_name                     0\n",
      "Reviewer_Role                  1088\n",
      "Reviewer_Department_company       0\n",
      "Review_Comments                  61\n",
      "dtype: int64\n",
      "Number of missing values in SalesForce Reviews:\n",
      " Main_comment                    850\n",
      "Reviewed_On                       0\n",
      "Reviewer_name                     0\n",
      "Reviewer_Role                  4049\n",
      "Reviewer_Department_company       0\n",
      "Review_Comments                 840\n",
      "dtype: int64\n",
      "Number of missing values in HubSpot Reviews:\n",
      " Main_comment                   155\n",
      "Reviewed_On                      0\n",
      "Reviewer_name                    0\n",
      "Reviewer_Role                  504\n",
      "Reviewer_Department_company      0\n",
      "Review_Comments                151\n",
      "dtype: int64\n",
      "Number of missing values in SAP Reviews:\n",
      " Main_comment                    1\n",
      "Reviewed_On                     0\n",
      "Reviewer_name                   0\n",
      "Reviewer_Role                  30\n",
      "Reviewer_Department_company     0\n",
      "Review_Comments                 1\n",
      "dtype: int64\n",
      "Number of missing values in SugarCRM Reviews:\n",
      " Main_comment                    23\n",
      "Reviewed_On                      0\n",
      "Reviewer_name                    0\n",
      "Reviewer_Role                  100\n",
      "Reviewer_Department_company      0\n",
      "Review_Comments                 21\n",
      "dtype: int64\n",
      "Number of missing values in ZOHO Reviews:\n",
      " Main_comment                   207\n",
      "Reviewed_On                      0\n",
      "Reviewer_name                    0\n",
      "Reviewer_Role                  538\n",
      "Reviewer_Department_company      0\n",
      "Review_Comments                205\n",
      "dtype: int64\n"
     ]
    }
   ],
   "source": [
    "print(\"Number of missing values in Dynamics 365 Reviews:\\n\", Dynamics365_data.isnull().sum())\n",
    "print(\"Number of missing values in SalesForce Reviews:\\n\",SalesForce_data.isnull().sum())\n",
    "print(\"Number of missing values in HubSpot Reviews:\\n\",HubSpot_data.isnull().sum())\n",
    "print(\"Number of missing values in SAP Reviews:\\n\",Sap_data.isnull().sum())\n",
    "print(\"Number of missing values in SugarCRM Reviews:\\n\",SugarCRM_data.isnull().sum())\n",
    "print(\"Number of missing values in ZOHO Reviews:\\n\",Zoho_data.isnull().sum())"
   ]
  },
  {
   "cell_type": "code",
   "execution_count": 69,
   "metadata": {},
   "outputs": [
    {
     "ename": "SyntaxError",
     "evalue": "invalid syntax (<ipython-input-69-ad360ae6bb92>, line 1)",
     "output_type": "error",
     "traceback": [
      "\u001b[1;36m  File \u001b[1;32m\"<ipython-input-69-ad360ae6bb92>\"\u001b[1;36m, line \u001b[1;32m1\u001b[0m\n\u001b[1;33m    if(Dynamics365_data['Main_comment'].isnull() & Dynamics365_data['Review_Comments'].isnull())\u001b[0m\n\u001b[1;37m                                                                                                ^\u001b[0m\n\u001b[1;31mSyntaxError\u001b[0m\u001b[1;31m:\u001b[0m invalid syntax\n"
     ]
    }
   ],
   "source": [
    "if(Dynamics365_data['Main_comment'].isnull() & Dynamics365_data['Review_Comments'].isnull())\n",
    "{\n",
    "    return(sum)\n",
    "}"
   ]
  },
  {
   "cell_type": "code",
   "execution_count": null,
   "metadata": {},
   "outputs": [],
   "source": []
  }
 ],
 "metadata": {
  "kernelspec": {
   "display_name": "Python 3",
   "language": "python",
   "name": "python3"
  },
  "language_info": {
   "codemirror_mode": {
    "name": "ipython",
    "version": 3
   },
   "file_extension": ".py",
   "mimetype": "text/x-python",
   "name": "python",
   "nbconvert_exporter": "python",
   "pygments_lexer": "ipython3",
   "version": "3.6.4"
  }
 },
 "nbformat": 4,
 "nbformat_minor": 2
}
