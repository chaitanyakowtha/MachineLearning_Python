{
 "cells": [
  {
   "cell_type": "code",
   "execution_count": 43,
   "metadata": {},
   "outputs": [],
   "source": [
    "import pandas as pd\n",
    "import datetime\n",
    "import numpy\n",
    "import re\n",
    "from sklearn.naive_bayes import GaussianNB\n",
    "from sklearn import model_selection, preprocessing, linear_model, naive_bayes, metrics, svm\n",
    "from sklearn import decomposition, ensemble\n",
    "from sklearn.ensemble import RandomForestClassifier"
   ]
  },
  {
   "cell_type": "code",
   "execution_count": 44,
   "metadata": {
    "collapsed": true
   },
   "outputs": [],
   "source": [
    "# Function for calculating age of a person given his date of birth\n",
    "from datetime import date\n",
    "def calculate_age(born):\n",
    "    today = date.today()\n",
    "    return today.year - born.year - ((today.month, today.day) < (born.month, born.day))"
   ]
  },
  {
   "cell_type": "code",
   "execution_count": 45,
   "metadata": {
    "collapsed": true
   },
   "outputs": [],
   "source": [
    "#Function for calculating number of days between two dates \n",
    "def datediff(any_date):\n",
    "    today = date.today()\n",
    "    datediff = today-any_date \n",
    "    return datediff.days"
   ]
  },
  {
   "cell_type": "code",
   "execution_count": 46,
   "metadata": {
    "collapsed": true
   },
   "outputs": [],
   "source": [
    "# Calculating the Tenure in months given the data is in X Years and Y months format\n",
    "def age_length(TenureAsYearsAndMonths):\n",
    "    years = int(re.findall(r'(\\d+)yrs',TenureAsYearsAndMonths )[0])\n",
    "    months = int(re.findall(r'(\\d+)mon',TenureAsYearsAndMonths )[0])\n",
    "    total_tenure = (years*12)+months\n",
    "    return total_tenure"
   ]
  },
  {
   "cell_type": "code",
   "execution_count": 47,
   "metadata": {
    "collapsed": true
   },
   "outputs": [],
   "source": [
    "# Function for doing all the data manipulations\n",
    "def AllDataManipulations(MainDataFrame,Manip_Data = pd.DataFrame,temp1 = pd.DataFrame, temp2 = pd.DataFrame,Manip_Completed = pd.DataFrame):\n",
    "    Manip_Data = MainDataFrame.copy()\n",
    "    Manip_Data['Employment.Type'].fillna(Manip_Data['Employment.Type'].mode()[0],inplace = True)\n",
    "    Manip_Data[['loan_default','branch_id','supplier_id','manufacturer_id','Current_pincode_ID','State_ID','Employee_code_ID']] = Manip_Data[\n",
    "        ['loan_default','branch_id','supplier_id','manufacturer_id','Current_pincode_ID','State_ID','Employee_code_ID']].apply(lambda x: x.astype('category'))\n",
    "    Manip_Data['Date.of.Birth'] = pd.to_datetime(Manip_Data['Date.of.Birth'])\n",
    "    Manip_Data['Age'] = Manip_Data['Date.of.Birth'].apply(lambda x: calculate_age(x))\n",
    "    Manip_Data['DisbursalDate'] = pd.to_datetime(Manip_Data['DisbursalDate'])\n",
    "    Manip_Data['HowManyDaysSinceDisburse'] = Manip_Data['DisbursalDate'].dt.date.apply(lambda x: datediff(x))\n",
    "    Manip_Data['AvgAcctAgeInMonths'] = Manip_Data['AVERAGE.ACCT.AGE'].apply(lambda x: age_length(x))\n",
    "    Manip_Data['CredHistLenInMonts'] = Manip_Data['CREDIT.HISTORY.LENGTH'].apply(lambda x: age_length(x))\n",
    "    temp1 = pd.get_dummies(Manip_Data['Employment.Type'],prefix='EmploymentType')\n",
    "    temp2 = pd.get_dummies(Manip_Data['PERFORM_CNS.SCORE.DESCRIPTION'],prefix='Bureau_score_description')\n",
    "    Manip_Completed = pd.concat([Manip_Data[['disbursed_amount', 'asset_cost', 'ltv', 'branch_id',\n",
    "       'supplier_id', 'manufacturer_id', 'Current_pincode_ID','Age',\n",
    "       'HowManyDaysSinceDisburse','State_ID', 'Employee_code_ID',\n",
    "       'MobileNo_Avl_Flag', 'Aadhar_flag', 'PAN_flag', 'VoterID_flag',\n",
    "       'Driving_flag', 'Passport_flag', 'PERFORM_CNS.SCORE',\n",
    "       'PRI.NO.OF.ACCTS', 'PRI.ACTIVE.ACCTS','PRI.OVERDUE.ACCTS', 'PRI.CURRENT.BALANCE', 'PRI.SANCTIONED.AMOUNT',\n",
    "       'PRI.DISBURSED.AMOUNT', 'SEC.NO.OF.ACCTS', 'SEC.ACTIVE.ACCTS',\n",
    "       'SEC.OVERDUE.ACCTS', 'SEC.CURRENT.BALANCE', 'SEC.SANCTIONED.AMOUNT',\n",
    "       'SEC.DISBURSED.AMOUNT', 'PRIMARY.INSTAL.AMT', 'SEC.INSTAL.AMT',\n",
    "       'NEW.ACCTS.IN.LAST.SIX.MONTHS', 'DELINQUENT.ACCTS.IN.LAST.SIX.MONTHS',\n",
    "       'AvgAcctAgeInMonths','CredHistLenInMonts','NO.OF_INQUIRIES',\n",
    "       'loan_default']],temp1,temp2],axis=1)\n",
    "    return Manip_Data,Manip_Completed"
   ]
  },
  {
   "cell_type": "code",
   "execution_count": 48,
   "metadata": {
    "collapsed": true
   },
   "outputs": [],
   "source": [
    "MasterData = pd.read_csv(\"train.csv\")\n",
    "Data1 = MasterData.copy()"
   ]
  },
  {
   "cell_type": "code",
   "execution_count": 49,
   "metadata": {},
   "outputs": [],
   "source": [
    "Train_ManipData_1,Train_ManipCompleted_1 = AllDataManipulations(Data1)"
   ]
  },
  {
   "cell_type": "code",
   "execution_count": 50,
   "metadata": {},
   "outputs": [
    {
     "data": {
      "text/plain": [
       "Index(['disbursed_amount', 'asset_cost', 'ltv', 'branch_id', 'supplier_id',\n",
       "       'manufacturer_id', 'Current_pincode_ID', 'Age',\n",
       "       'HowManyDaysSinceDisburse', 'State_ID', 'Employee_code_ID',\n",
       "       'MobileNo_Avl_Flag', 'Aadhar_flag', 'PAN_flag', 'VoterID_flag',\n",
       "       'Driving_flag', 'Passport_flag', 'PERFORM_CNS.SCORE', 'PRI.NO.OF.ACCTS',\n",
       "       'PRI.ACTIVE.ACCTS', 'PRI.OVERDUE.ACCTS', 'PRI.CURRENT.BALANCE',\n",
       "       'PRI.SANCTIONED.AMOUNT', 'PRI.DISBURSED.AMOUNT', 'SEC.NO.OF.ACCTS',\n",
       "       'SEC.ACTIVE.ACCTS', 'SEC.OVERDUE.ACCTS', 'SEC.CURRENT.BALANCE',\n",
       "       'SEC.SANCTIONED.AMOUNT', 'SEC.DISBURSED.AMOUNT', 'PRIMARY.INSTAL.AMT',\n",
       "       'SEC.INSTAL.AMT', 'NEW.ACCTS.IN.LAST.SIX.MONTHS',\n",
       "       'DELINQUENT.ACCTS.IN.LAST.SIX.MONTHS', 'AvgAcctAgeInMonths',\n",
       "       'CredHistLenInMonts', 'NO.OF_INQUIRIES', 'loan_default',\n",
       "       'EmploymentType_Salaried', 'EmploymentType_Self employed',\n",
       "       'Bureau_score_description_A-Very Low Risk',\n",
       "       'Bureau_score_description_B-Very Low Risk',\n",
       "       'Bureau_score_description_C-Very Low Risk',\n",
       "       'Bureau_score_description_D-Very Low Risk',\n",
       "       'Bureau_score_description_E-Low Risk',\n",
       "       'Bureau_score_description_F-Low Risk',\n",
       "       'Bureau_score_description_G-Low Risk',\n",
       "       'Bureau_score_description_H-Medium Risk',\n",
       "       'Bureau_score_description_I-Medium Risk',\n",
       "       'Bureau_score_description_J-High Risk',\n",
       "       'Bureau_score_description_K-High Risk',\n",
       "       'Bureau_score_description_L-Very High Risk',\n",
       "       'Bureau_score_description_M-Very High Risk',\n",
       "       'Bureau_score_description_No Bureau History Available',\n",
       "       'Bureau_score_description_Not Scored: More than 50 active Accounts found',\n",
       "       'Bureau_score_description_Not Scored: No Activity seen on the customer (Inactive)',\n",
       "       'Bureau_score_description_Not Scored: No Updates available in last 36 months',\n",
       "       'Bureau_score_description_Not Scored: Not Enough Info available on the customer',\n",
       "       'Bureau_score_description_Not Scored: Only a Guarantor',\n",
       "       'Bureau_score_description_Not Scored: Sufficient History Not Available'],\n",
       "      dtype='object')"
      ]
     },
     "execution_count": 50,
     "metadata": {},
     "output_type": "execute_result"
    }
   ],
   "source": [
    "Train_ManipCompleted_1.columns"
   ]
  },
  {
   "cell_type": "code",
   "execution_count": 51,
   "metadata": {
    "collapsed": true
   },
   "outputs": [],
   "source": [
    "IndeVectors = Train_ManipCompleted_1[['disbursed_amount', 'asset_cost', 'ltv', 'branch_id', 'supplier_id',\n",
    "       'manufacturer_id', 'Current_pincode_ID', 'Age',\n",
    "       'HowManyDaysSinceDisburse', 'State_ID', 'Employee_code_ID',\n",
    "       'MobileNo_Avl_Flag', 'Aadhar_flag', 'PAN_flag', 'VoterID_flag',\n",
    "       'Driving_flag', 'Passport_flag', 'PERFORM_CNS.SCORE', 'PRI.NO.OF.ACCTS',\n",
    "       'PRI.ACTIVE.ACCTS', 'PRI.OVERDUE.ACCTS', 'PRI.CURRENT.BALANCE',\n",
    "       'PRI.SANCTIONED.AMOUNT', 'PRI.DISBURSED.AMOUNT', 'SEC.NO.OF.ACCTS',\n",
    "       'SEC.ACTIVE.ACCTS', 'SEC.OVERDUE.ACCTS', 'SEC.CURRENT.BALANCE',\n",
    "       'SEC.SANCTIONED.AMOUNT', 'SEC.DISBURSED.AMOUNT', 'PRIMARY.INSTAL.AMT',\n",
    "       'SEC.INSTAL.AMT', 'NEW.ACCTS.IN.LAST.SIX.MONTHS',\n",
    "       'DELINQUENT.ACCTS.IN.LAST.SIX.MONTHS', 'AvgAcctAgeInMonths',\n",
    "       'CredHistLenInMonts', 'NO.OF_INQUIRIES', \n",
    "       'EmploymentType_Salaried', 'EmploymentType_Self employed',\n",
    "       'Bureau_score_description_A-Very Low Risk',\n",
    "       'Bureau_score_description_B-Very Low Risk',\n",
    "       'Bureau_score_description_C-Very Low Risk',\n",
    "       'Bureau_score_description_D-Very Low Risk',\n",
    "       'Bureau_score_description_E-Low Risk',\n",
    "       'Bureau_score_description_F-Low Risk',\n",
    "       'Bureau_score_description_G-Low Risk',\n",
    "       'Bureau_score_description_H-Medium Risk',\n",
    "       'Bureau_score_description_I-Medium Risk',\n",
    "       'Bureau_score_description_J-High Risk',\n",
    "       'Bureau_score_description_K-High Risk',\n",
    "       'Bureau_score_description_L-Very High Risk',\n",
    "       'Bureau_score_description_M-Very High Risk',\n",
    "       'Bureau_score_description_No Bureau History Available',\n",
    "       'Bureau_score_description_Not Scored: More than 50 active Accounts found',\n",
    "       'Bureau_score_description_Not Scored: No Activity seen on the customer (Inactive)',\n",
    "       'Bureau_score_description_Not Scored: No Updates available in last 36 months',\n",
    "       'Bureau_score_description_Not Scored: Not Enough Info available on the customer',\n",
    "       'Bureau_score_description_Not Scored: Only a Guarantor',\n",
    "       'Bureau_score_description_Not Scored: Sufficient History Not Available']]\n",
    "Labels = Train_ManipCompleted_1['loan_default']"
   ]
  },
  {
   "cell_type": "code",
   "execution_count": 52,
   "metadata": {},
   "outputs": [],
   "source": [
    "train_x, valid_x, train_y, valid_y = model_selection.train_test_split(IndeVectors,Labels,random_state = 1234,test_size = 0.10)"
   ]
  },
  {
   "cell_type": "code",
   "execution_count": 53,
   "metadata": {},
   "outputs": [
    {
     "name": "stdout",
     "output_type": "stream",
     "text": [
      "209838\n",
      "209838\n",
      "23316\n",
      "23316\n"
     ]
    }
   ],
   "source": [
    "print(len(train_x))\n",
    "print(len(train_y))\n",
    "print(len(valid_x))\n",
    "print(len(valid_y))"
   ]
  },
  {
   "cell_type": "code",
   "execution_count": 54,
   "metadata": {},
   "outputs": [
    {
     "name": "stdout",
     "output_type": "stream",
     "text": [
      "AUC of Random forest Model_1:  0.5140930876195822\n",
      "AUC of Naive Bayes Model_1:  0.4977692566765253\n"
     ]
    }
   ],
   "source": [
    "# Random forest\n",
    "rf_model_1 = RandomForestClassifier(n_estimators=300,bootstrap = True,max_features = 'sqrt')\n",
    "rf_model_1.fit(train_x,list(train_y))\n",
    "ypred_rf1 = rf_model_1.predict(valid_x)\n",
    "auc_rf1 = metrics.roc_auc_score(valid_y,ypred_rf1)\n",
    "print(\"AUC of Random forest Model_1: \",auc_rf1)\n",
    "# Naive Bayes\n",
    "gnb = GaussianNB()\n",
    "gnb.fit(train_x,train_y)\n",
    "ypred_gnb = gnb.predict(valid_x)\n",
    "auc_gnb = metrics.roc_auc_score(valid_y,ypred_gnb)\n",
    "print(\"AUC of Naive Bayes Model_1: \",auc_gnb)"
   ]
  },
  {
   "cell_type": "code",
   "execution_count": 28,
   "metadata": {
    "collapsed": true
   },
   "outputs": [],
   "source": [
    "# Modifying data manipulations function to work for test data as it doesn't have labels column\n",
    "# Function for doing all the data manipulations\n",
    "def AllDataManipulations_forTest(MainDataFrame,Manip_Data = pd.DataFrame,temp1 = pd.DataFrame, temp2 = pd.DataFrame,Manip_Completed = pd.DataFrame):\n",
    "    Manip_Data = MainDataFrame.copy()\n",
    "    Manip_Data['Employment.Type'].fillna(Manip_Data['Employment.Type'].mode()[0],inplace = True)\n",
    "    Manip_Data[['branch_id','supplier_id','manufacturer_id','Current_pincode_ID','State_ID','Employee_code_ID']] = Manip_Data[\n",
    "        ['branch_id','supplier_id','manufacturer_id','Current_pincode_ID','State_ID','Employee_code_ID']].apply(lambda x: x.astype('category'))\n",
    "    Manip_Data['Date.of.Birth'] = pd.to_datetime(Manip_Data['Date.of.Birth'])\n",
    "    Manip_Data['Age'] = Manip_Data['Date.of.Birth'].apply(lambda x: calculate_age(x))\n",
    "    Manip_Data['DisbursalDate'] = pd.to_datetime(Manip_Data['DisbursalDate'])\n",
    "    Manip_Data['HowManyDaysSinceDisburse'] = Manip_Data['DisbursalDate'].dt.date.apply(lambda x: datediff(x))\n",
    "    Manip_Data['AvgAcctAgeInMonths'] = Manip_Data['AVERAGE.ACCT.AGE'].apply(lambda x: age_length(x))\n",
    "    Manip_Data['CredHistLenInMonts'] = Manip_Data['CREDIT.HISTORY.LENGTH'].apply(lambda x: age_length(x))\n",
    "    temp1 = pd.get_dummies(Manip_Data['Employment.Type'],prefix='EmploymentType')\n",
    "    temp2 = pd.get_dummies(Manip_Data['PERFORM_CNS.SCORE.DESCRIPTION'],prefix='Bureau_score_description')\n",
    "    Manip_Completed = pd.concat([Manip_Data[['disbursed_amount', 'asset_cost', 'ltv', 'branch_id',\n",
    "       'supplier_id', 'manufacturer_id', 'Current_pincode_ID','Age',\n",
    "       'HowManyDaysSinceDisburse','State_ID', 'Employee_code_ID',\n",
    "       'MobileNo_Avl_Flag', 'Aadhar_flag', 'PAN_flag', 'VoterID_flag',\n",
    "       'Driving_flag', 'Passport_flag', 'PERFORM_CNS.SCORE',\n",
    "       'PRI.NO.OF.ACCTS', 'PRI.ACTIVE.ACCTS','PRI.OVERDUE.ACCTS', 'PRI.CURRENT.BALANCE', 'PRI.SANCTIONED.AMOUNT',\n",
    "       'PRI.DISBURSED.AMOUNT', 'SEC.NO.OF.ACCTS', 'SEC.ACTIVE.ACCTS',\n",
    "       'SEC.OVERDUE.ACCTS', 'SEC.CURRENT.BALANCE', 'SEC.SANCTIONED.AMOUNT',\n",
    "       'SEC.DISBURSED.AMOUNT', 'PRIMARY.INSTAL.AMT', 'SEC.INSTAL.AMT',\n",
    "       'NEW.ACCTS.IN.LAST.SIX.MONTHS', 'DELINQUENT.ACCTS.IN.LAST.SIX.MONTHS',\n",
    "       'AvgAcctAgeInMonths','CredHistLenInMonts','NO.OF_INQUIRIES']],temp1,temp2],axis=1)\n",
    "    return Manip_Data,Manip_Completed"
   ]
  },
  {
   "cell_type": "code",
   "execution_count": 29,
   "metadata": {
    "collapsed": true
   },
   "outputs": [],
   "source": [
    "Master_test = pd.read_csv(\"test_bqCt9Pv.csv\")\n",
    "Test_Data = Master_test.copy()\n",
    "Test_ManipData,Test_ManipCompleted = AllDataManipulations_forTest(Test_Data)"
   ]
  },
  {
   "cell_type": "code",
   "execution_count": 30,
   "metadata": {},
   "outputs": [
    {
     "data": {
      "text/html": [
       "<div>\n",
       "<style>\n",
       "    .dataframe thead tr:only-child th {\n",
       "        text-align: right;\n",
       "    }\n",
       "\n",
       "    .dataframe thead th {\n",
       "        text-align: left;\n",
       "    }\n",
       "\n",
       "    .dataframe tbody tr th {\n",
       "        vertical-align: top;\n",
       "    }\n",
       "</style>\n",
       "<table border=\"1\" class=\"dataframe\">\n",
       "  <thead>\n",
       "    <tr style=\"text-align: right;\">\n",
       "      <th></th>\n",
       "      <th>UniqueID</th>\n",
       "      <th>disbursed_amount</th>\n",
       "      <th>asset_cost</th>\n",
       "      <th>ltv</th>\n",
       "      <th>branch_id</th>\n",
       "      <th>supplier_id</th>\n",
       "      <th>manufacturer_id</th>\n",
       "      <th>Current_pincode_ID</th>\n",
       "      <th>Date.of.Birth</th>\n",
       "      <th>Employment.Type</th>\n",
       "      <th>...</th>\n",
       "      <th>SEC.CURRENT.BALANCE</th>\n",
       "      <th>SEC.SANCTIONED.AMOUNT</th>\n",
       "      <th>SEC.DISBURSED.AMOUNT</th>\n",
       "      <th>PRIMARY.INSTAL.AMT</th>\n",
       "      <th>SEC.INSTAL.AMT</th>\n",
       "      <th>NEW.ACCTS.IN.LAST.SIX.MONTHS</th>\n",
       "      <th>DELINQUENT.ACCTS.IN.LAST.SIX.MONTHS</th>\n",
       "      <th>AVERAGE.ACCT.AGE</th>\n",
       "      <th>CREDIT.HISTORY.LENGTH</th>\n",
       "      <th>NO.OF_INQUIRIES</th>\n",
       "    </tr>\n",
       "  </thead>\n",
       "  <tbody>\n",
       "    <tr>\n",
       "      <th>0</th>\n",
       "      <td>655269</td>\n",
       "      <td>53478</td>\n",
       "      <td>63558</td>\n",
       "      <td>86.54</td>\n",
       "      <td>67</td>\n",
       "      <td>22807</td>\n",
       "      <td>45</td>\n",
       "      <td>1497</td>\n",
       "      <td>01-01-74</td>\n",
       "      <td>Salaried</td>\n",
       "      <td>...</td>\n",
       "      <td>0</td>\n",
       "      <td>0</td>\n",
       "      <td>0</td>\n",
       "      <td>0</td>\n",
       "      <td>0</td>\n",
       "      <td>0</td>\n",
       "      <td>0</td>\n",
       "      <td>0yrs 0mon</td>\n",
       "      <td>0yrs 0mon</td>\n",
       "      <td>0</td>\n",
       "    </tr>\n",
       "    <tr>\n",
       "      <th>1</th>\n",
       "      <td>723482</td>\n",
       "      <td>55513</td>\n",
       "      <td>63163</td>\n",
       "      <td>89.45</td>\n",
       "      <td>67</td>\n",
       "      <td>22807</td>\n",
       "      <td>45</td>\n",
       "      <td>1497</td>\n",
       "      <td>20-05-85</td>\n",
       "      <td>Self employed</td>\n",
       "      <td>...</td>\n",
       "      <td>0</td>\n",
       "      <td>0</td>\n",
       "      <td>0</td>\n",
       "      <td>5605</td>\n",
       "      <td>0</td>\n",
       "      <td>1</td>\n",
       "      <td>0</td>\n",
       "      <td>0yrs 8mon</td>\n",
       "      <td>1yrs 0mon</td>\n",
       "      <td>1</td>\n",
       "    </tr>\n",
       "    <tr>\n",
       "      <th>2</th>\n",
       "      <td>758529</td>\n",
       "      <td>65282</td>\n",
       "      <td>84320</td>\n",
       "      <td>79.93</td>\n",
       "      <td>78</td>\n",
       "      <td>23135</td>\n",
       "      <td>86</td>\n",
       "      <td>2071</td>\n",
       "      <td>14-10-95</td>\n",
       "      <td>Salaried</td>\n",
       "      <td>...</td>\n",
       "      <td>0</td>\n",
       "      <td>0</td>\n",
       "      <td>0</td>\n",
       "      <td>0</td>\n",
       "      <td>0</td>\n",
       "      <td>0</td>\n",
       "      <td>0</td>\n",
       "      <td>0yrs 0mon</td>\n",
       "      <td>0yrs 0mon</td>\n",
       "      <td>0</td>\n",
       "    </tr>\n",
       "    <tr>\n",
       "      <th>3</th>\n",
       "      <td>763449</td>\n",
       "      <td>46905</td>\n",
       "      <td>63896</td>\n",
       "      <td>76.58</td>\n",
       "      <td>78</td>\n",
       "      <td>17014</td>\n",
       "      <td>45</td>\n",
       "      <td>2070</td>\n",
       "      <td>01-06-73</td>\n",
       "      <td>Self employed</td>\n",
       "      <td>...</td>\n",
       "      <td>0</td>\n",
       "      <td>0</td>\n",
       "      <td>0</td>\n",
       "      <td>0</td>\n",
       "      <td>0</td>\n",
       "      <td>0</td>\n",
       "      <td>0</td>\n",
       "      <td>2yrs 5mon</td>\n",
       "      <td>2yrs 5mon</td>\n",
       "      <td>0</td>\n",
       "    </tr>\n",
       "    <tr>\n",
       "      <th>4</th>\n",
       "      <td>708663</td>\n",
       "      <td>51428</td>\n",
       "      <td>63896</td>\n",
       "      <td>86.08</td>\n",
       "      <td>78</td>\n",
       "      <td>17014</td>\n",
       "      <td>45</td>\n",
       "      <td>2069</td>\n",
       "      <td>01-06-72</td>\n",
       "      <td>Salaried</td>\n",
       "      <td>...</td>\n",
       "      <td>0</td>\n",
       "      <td>0</td>\n",
       "      <td>0</td>\n",
       "      <td>0</td>\n",
       "      <td>0</td>\n",
       "      <td>0</td>\n",
       "      <td>0</td>\n",
       "      <td>0yrs 0mon</td>\n",
       "      <td>0yrs 0mon</td>\n",
       "      <td>0</td>\n",
       "    </tr>\n",
       "  </tbody>\n",
       "</table>\n",
       "<p>5 rows × 40 columns</p>\n",
       "</div>"
      ],
      "text/plain": [
       "   UniqueID  disbursed_amount  asset_cost    ltv  branch_id  supplier_id  \\\n",
       "0    655269             53478       63558  86.54         67        22807   \n",
       "1    723482             55513       63163  89.45         67        22807   \n",
       "2    758529             65282       84320  79.93         78        23135   \n",
       "3    763449             46905       63896  76.58         78        17014   \n",
       "4    708663             51428       63896  86.08         78        17014   \n",
       "\n",
       "   manufacturer_id  Current_pincode_ID Date.of.Birth Employment.Type  \\\n",
       "0               45                1497      01-01-74        Salaried   \n",
       "1               45                1497      20-05-85   Self employed   \n",
       "2               86                2071      14-10-95        Salaried   \n",
       "3               45                2070      01-06-73   Self employed   \n",
       "4               45                2069      01-06-72        Salaried   \n",
       "\n",
       "        ...        SEC.CURRENT.BALANCE  SEC.SANCTIONED.AMOUNT  \\\n",
       "0       ...                          0                      0   \n",
       "1       ...                          0                      0   \n",
       "2       ...                          0                      0   \n",
       "3       ...                          0                      0   \n",
       "4       ...                          0                      0   \n",
       "\n",
       "   SEC.DISBURSED.AMOUNT  PRIMARY.INSTAL.AMT  SEC.INSTAL.AMT  \\\n",
       "0                     0                   0               0   \n",
       "1                     0                5605               0   \n",
       "2                     0                   0               0   \n",
       "3                     0                   0               0   \n",
       "4                     0                   0               0   \n",
       "\n",
       "   NEW.ACCTS.IN.LAST.SIX.MONTHS  DELINQUENT.ACCTS.IN.LAST.SIX.MONTHS  \\\n",
       "0                             0                                    0   \n",
       "1                             1                                    0   \n",
       "2                             0                                    0   \n",
       "3                             0                                    0   \n",
       "4                             0                                    0   \n",
       "\n",
       "   AVERAGE.ACCT.AGE  CREDIT.HISTORY.LENGTH  NO.OF_INQUIRIES  \n",
       "0         0yrs 0mon              0yrs 0mon                0  \n",
       "1         0yrs 8mon              1yrs 0mon                1  \n",
       "2         0yrs 0mon              0yrs 0mon                0  \n",
       "3         2yrs 5mon              2yrs 5mon                0  \n",
       "4         0yrs 0mon              0yrs 0mon                0  \n",
       "\n",
       "[5 rows x 40 columns]"
      ]
     },
     "execution_count": 30,
     "metadata": {},
     "output_type": "execute_result"
    }
   ],
   "source": [
    "Test_Data.head()"
   ]
  },
  {
   "cell_type": "code",
   "execution_count": 37,
   "metadata": {},
   "outputs": [
    {
     "data": {
      "text/plain": [
       "Index(['disbursed_amount', 'asset_cost', 'ltv', 'branch_id', 'supplier_id',\n",
       "       'manufacturer_id', 'Current_pincode_ID', 'Age',\n",
       "       'HowManyDaysSinceDisburse', 'State_ID', 'Employee_code_ID',\n",
       "       'MobileNo_Avl_Flag', 'Aadhar_flag', 'PAN_flag', 'VoterID_flag',\n",
       "       'Driving_flag', 'Passport_flag', 'PERFORM_CNS.SCORE', 'PRI.NO.OF.ACCTS',\n",
       "       'PRI.ACTIVE.ACCTS', 'PRI.OVERDUE.ACCTS', 'PRI.CURRENT.BALANCE',\n",
       "       'PRI.SANCTIONED.AMOUNT', 'PRI.DISBURSED.AMOUNT', 'SEC.NO.OF.ACCTS',\n",
       "       'SEC.ACTIVE.ACCTS', 'SEC.OVERDUE.ACCTS', 'SEC.CURRENT.BALANCE',\n",
       "       'SEC.SANCTIONED.AMOUNT', 'SEC.DISBURSED.AMOUNT', 'PRIMARY.INSTAL.AMT',\n",
       "       'SEC.INSTAL.AMT', 'NEW.ACCTS.IN.LAST.SIX.MONTHS',\n",
       "       'DELINQUENT.ACCTS.IN.LAST.SIX.MONTHS', 'AvgAcctAgeInMonths',\n",
       "       'CredHistLenInMonts', 'NO.OF_INQUIRIES', 'EmploymentType_Salaried',\n",
       "       'EmploymentType_Self employed',\n",
       "       'Bureau_score_description_A-Very Low Risk',\n",
       "       'Bureau_score_description_B-Very Low Risk',\n",
       "       'Bureau_score_description_C-Very Low Risk',\n",
       "       'Bureau_score_description_D-Very Low Risk',\n",
       "       'Bureau_score_description_E-Low Risk',\n",
       "       'Bureau_score_description_F-Low Risk',\n",
       "       'Bureau_score_description_G-Low Risk',\n",
       "       'Bureau_score_description_H-Medium Risk',\n",
       "       'Bureau_score_description_I-Medium Risk',\n",
       "       'Bureau_score_description_J-High Risk',\n",
       "       'Bureau_score_description_K-High Risk',\n",
       "       'Bureau_score_description_L-Very High Risk',\n",
       "       'Bureau_score_description_M-Very High Risk',\n",
       "       'Bureau_score_description_No Bureau History Available',\n",
       "       'Bureau_score_description_Not Scored: No Activity seen on the customer (Inactive)',\n",
       "       'Bureau_score_description_Not Scored: No Updates available in last 36 months',\n",
       "       'Bureau_score_description_Not Scored: Not Enough Info available on the customer',\n",
       "       'Bureau_score_description_Not Scored: Only a Guarantor',\n",
       "       'Bureau_score_description_Not Scored: Sufficient History Not Available',\n",
       "       'Bureau_score_description_Not Scored: More than 50 active Accounts found'],\n",
       "      dtype='object')"
      ]
     },
     "execution_count": 37,
     "metadata": {},
     "output_type": "execute_result"
    }
   ],
   "source": [
    "Test_ManipCompleted.columns"
   ]
  },
  {
   "cell_type": "code",
   "execution_count": 35,
   "metadata": {
    "collapsed": true
   },
   "outputs": [],
   "source": [
    "Test_ManipCompleted['Bureau_score_description_Not Scored: More than 50 active Accounts found'] = 0"
   ]
  },
  {
   "cell_type": "code",
   "execution_count": 36,
   "metadata": {},
   "outputs": [
    {
     "data": {
      "text/plain": [
       "array([0], dtype=int64)"
      ]
     },
     "execution_count": 36,
     "metadata": {},
     "output_type": "execute_result"
    }
   ],
   "source": [
    "Test_ManipCompleted['Bureau_score_description_Not Scored: More than 50 active Accounts found'].unique()"
   ]
  },
  {
   "cell_type": "code",
   "execution_count": 64,
   "metadata": {
    "scrolled": true
   },
   "outputs": [],
   "source": [
    "ActualTestPred_rf1 = rf_model_1.predict(Test_ManipCompleted)\n",
    "ActualTestPred_nb = gnb.predict(Test_ManipCompleted)\n",
    "RF1_Submissions = pd.concat([Test_Data['UniqueID'],pd.DataFrame(ActualTestPred_rf1,columns=['loan_default'])],axis=1)\n",
    "nb_Submissions = pd.concat([Test_Data['UniqueID'],pd.DataFrame(ActualTestPred_nb,columns=['loan_default'])],axis=1)"
   ]
  },
  {
   "cell_type": "code",
   "execution_count": 65,
   "metadata": {},
   "outputs": [],
   "source": [
    "RF1_Submissions.to_csv('RF1_Submissions.csv',index=False)"
   ]
  },
  {
   "cell_type": "code",
   "execution_count": 41,
   "metadata": {},
   "outputs": [],
   "source": [
    "# Finding Feature importance\n",
    "RF_feature_importances = pd.DataFrame(rf_model_1.feature_importances_,\n",
    "                                   index = train_x.columns,\n",
    "                                    columns=['importance']).sort_values('importance',ascending=False)"
   ]
  },
  {
   "cell_type": "code",
   "execution_count": null,
   "metadata": {},
   "outputs": [
    {
     "name": "stdout",
     "output_type": "stream",
     "text": [
      "AUC of Random forest Model_2:  0.5140930876195822\n"
     ]
    }
   ],
   "source": [
    "# Trying out more random forests with more number of trees\n",
    "\n",
    "# Second model with 600 trees, tweaking the max_features as well \n",
    "rf_model_2 = RandomForestClassifier(n_estimators=600,bootstrap = False,max_features = 59,random_state=1234)\n",
    "rf_model_2.fit(train_x,list(train_y))\n",
    "ypred_rf2 = rf_model_1.predict(valid_x)\n",
    "auc_rf2 = metrics.roc_auc_score(valid_y,ypred_rf2)\n",
    "print(\"AUC of Random forest Model_2: \",auc_rf2)\n",
    "\n",
    "# Third model with 1000 trees, tweaking the max_features as well \n",
    "rf_model_3 = RandomForestClassifier(n_estimators=1000,bootstrap = False,max_features = 59,random_state=1234)\n",
    "rf_model_3.fit(train_x,list(train_y))\n",
    "ypred_rf3 = rf_model_1.predict(valid_x)\n",
    "auc_rf3 = metrics.roc_auc_score(valid_y,ypred_rf3)\n",
    "print(\"AUC of Random forest Model_3: \",auc_rf3)\n",
    "\n",
    "# Fourth model with 600 trees, tweaking the max_features to sqrt \n",
    "rf_model_4 = RandomForestClassifier(n_estimators=600,bootstrap = False,max_features = 'sqrt',random_state=1234)\n",
    "rf_model_4.fit(train_x,list(train_y))\n",
    "ypred_rf4 = rf_model_1.predict(valid_x)\n",
    "auc_rf4 = metrics.roc_auc_score(valid_y,ypred_rf4)\n",
    "print(\"AUC of Random forest Model_4: \",auc_rf4)\n",
    "\n",
    "# Fifth model with 1000 trees, tweaking the max_features to sqrt \n",
    "rf_model_5 = RandomForestClassifier(n_estimators=1000,bootstrap = False,max_features = 'sqrt',random_state=1234)\n",
    "rf_model_5.fit(train_x,list(train_y))\n",
    "ypred_rf5 = rf_model_1.predict(valid_x)\n",
    "auc_rf5 = metrics.roc_auc_score(valid_y,ypred_rf5)\n",
    "print(\"AUC of Random forest Model_5: \",auc_rf5)"
   ]
  },
  {
   "cell_type": "code",
   "execution_count": null,
   "metadata": {
    "collapsed": true
   },
   "outputs": [],
   "source": []
  }
 ],
 "metadata": {
  "kernelspec": {
   "display_name": "Python 3",
   "language": "python",
   "name": "python3"
  },
  "language_info": {
   "codemirror_mode": {
    "name": "ipython",
    "version": 3
   },
   "file_extension": ".py",
   "mimetype": "text/x-python",
   "name": "python",
   "nbconvert_exporter": "python",
   "pygments_lexer": "ipython3",
   "version": "3.6.3"
  }
 },
 "nbformat": 4,
 "nbformat_minor": 2
}
